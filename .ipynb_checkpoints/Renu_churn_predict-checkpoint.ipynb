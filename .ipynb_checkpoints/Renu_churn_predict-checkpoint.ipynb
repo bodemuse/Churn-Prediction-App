{
 "cells": [
  {
   "cell_type": "code",
   "execution_count": null,
   "id": "bfee4c78-97d6-4685-8021-5086b0c78ce4",
   "metadata": {},
   "outputs": [],
   "source": [
    "# importing packages\n",
    "import numpy as np\n",
    "import pandas as pd\n",
    "from pathlib import Path\n",
    "from sklearn.preprocessing import LabelEncoder\n",
    "from sklearn.preprocessing import StandardScaler\n",
    "from sklearn.model_selection import train_test_split\n",
    "from imblearn.metrics import classification_report_imbalanced\n",
    "from sklearn.metrics import balanced_accuracy_score\n",
    "from sklearn.metrics import confusion_matrix\n",
    "from sklearn.metrics import roc_auc_score\n",
    "from sklearn.metrics import plot_roc_curve\n",
    "from sklearn.ensemble import RandomForestClassifier\n",
    "from imblearn.ensemble import EasyEnsembleClassifier\n",
    "from sklearn.linear_model import LogisticRegression\n",
    "from xgboost import XGBClassifier\n",
    "import xgboost\n",
    "import matplotlib.pyplot as plt\n",
    "\n",
    "import warnings\n",
    "warnings.filterwarnings('ignore')\n",
    "\n",
    "%matplotlib inline"
   ]
  },
  {
   "cell_type": "code",
   "execution_count": null,
   "id": "01ec0773-be71-4ab7-8be2-095cfb518eb8",
   "metadata": {},
   "outputs": [],
   "source": [
    "#PRE PROCESSING FROM CLEANSED DATA FILE"
   ]
  },
  {
   "cell_type": "code",
   "execution_count": null,
   "id": "54d5560e-3c59-44e5-b1e7-855ce58f3114",
   "metadata": {},
   "outputs": [],
   "source": [
    "# import cleansed data\n",
    "file_path = Path(\"Data/churn_data.csv\")"
   ]
  },
  {
   "cell_type": "code",
   "execution_count": null,
   "id": "0e2cd7df-eccd-4b16-9ae6-f6c3ac192bcb",
   "metadata": {},
   "outputs": [],
   "source": [
    "# Create a DataFrame\n",
    "churn_data_df = pd.read_csv(file_path)\n",
    "churn_data_df.head(10)"
   ]
  },
  {
   "cell_type": "code",
   "execution_count": null,
   "id": "8d5b8393-9145-44e9-9622-dd639283022a",
   "metadata": {},
   "outputs": [],
   "source": [
    "# View of data set\n",
    "churn_data_df.describe()"
   ]
  },
  {
   "cell_type": "code",
   "execution_count": null,
   "id": "bbac8c8e-14a1-4f6a-82f5-b3f666b23613",
   "metadata": {},
   "outputs": [],
   "source": [
    "# Encode all the categorical data\n",
    "categorical_cols = ['city', 'gender', 'senior_citizen', 'partner', 'dependents', 'phone_service', 'multiple_lines', 'internet_service',\n",
    "                   'device_protection', 'tech_support', 'streaming_tv', 'streaming_movies', 'contract', 'paperless_billing', 'payment_method']\n",
    "encoders = {}\n",
    "\n",
    "for i in categorical_cols:\n",
    "    encoders[i] = LabelEncoder()\n",
    "    churn_data_df[i] = encoders[i].fit_transform(df[i])\n",
    "\n",
    "churn_data_df.head()"
   ]
  },
  {
   "cell_type": "code",
   "execution_count": null,
   "id": "90cd2074-3287-4847-a6ac-d57e91fc40e4",
   "metadata": {},
   "outputs": [],
   "source": [
    "# Split the data into X and y features\n",
    "X = df.iloc[:, :-1]\n",
    "y = df.iloc[:, -1]"
   ]
  },
  {
   "cell_type": "code",
   "execution_count": null,
   "id": "45d17bb4-1a13-45f3-892e-efcfbe3c86db",
   "metadata": {},
   "outputs": [],
   "source": [
    "# Checking the balance of the Target values\n",
    "y.value_counts()"
   ]
  },
  {
   "cell_type": "code",
   "execution_count": null,
   "id": "f3c132d6-6a76-477f-9c53-24d514abe2ee",
   "metadata": {},
   "outputs": [],
   "source": [
    "# Creating Train and Test split for X and y- 80 to 20 split\n",
    "X_train, X_test, y_train, y_test = train_test_split(X, \n",
    "                                                    y,\n",
    "                                                    test_size=0.2,\n",
    "                                                    shuffle=True, \n",
    "                                                    random_state=1)"
   ]
  },
  {
   "cell_type": "code",
   "execution_count": null,
   "id": "30a2c943-04af-4c09-891c-b67f37854588",
   "metadata": {},
   "outputs": [],
   "source": [
    "# Creating standard scaler instance and fit the training data\n",
    "scaler = StandardScaler()\n",
    "scaler.fit(X_train)"
   ]
  },
  {
   "cell_type": "code",
   "execution_count": null,
   "id": "5ce97c6e-ba70-40b3-b9d0-2c778f121856",
   "metadata": {},
   "outputs": [],
   "source": [
    "# Scaling Train and Test data\n",
    "X_train = scaler.transform(X_train)\n",
    "X_test =  scaler.transform(X_test)"
   ]
  },
  {
   "cell_type": "code",
   "execution_count": null,
   "id": "1f1777bf-9b46-426f-894f-30dcca86cb5c",
   "metadata": {},
   "outputs": [],
   "source": [
    "# LOGISTIC REGRESSION CLASSIFIER"
   ]
  },
  {
   "cell_type": "code",
   "execution_count": null,
   "id": "be662127-ee9b-4b74-a7f9-9a7bcba633e6",
   "metadata": {},
   "outputs": [],
   "source": []
  },
  {
   "cell_type": "code",
   "execution_count": null,
   "id": "b4530704-c0de-4a82-bbfc-90ae1383a669",
   "metadata": {},
   "outputs": [],
   "source": []
  },
  {
   "cell_type": "code",
   "execution_count": null,
   "id": "8cf2e4c7-10dd-4393-b90d-6e190e856c73",
   "metadata": {},
   "outputs": [],
   "source": []
  }
 ],
 "metadata": {
  "kernelspec": {
   "display_name": "Python 3 (ipykernel)",
   "language": "python",
   "name": "python3"
  },
  "language_info": {
   "codemirror_mode": {
    "name": "ipython",
    "version": 3
   },
   "file_extension": ".py",
   "mimetype": "text/x-python",
   "name": "python",
   "nbconvert_exporter": "python",
   "pygments_lexer": "ipython3",
   "version": "3.8.8"
  }
 },
 "nbformat": 4,
 "nbformat_minor": 5
}
