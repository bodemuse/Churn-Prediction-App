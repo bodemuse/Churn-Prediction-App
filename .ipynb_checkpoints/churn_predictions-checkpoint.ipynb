{
 "cells": [
  {
   "cell_type": "markdown",
   "metadata": {},
   "source": [
    "# Churn Prediction"
   ]
  },
  {
   "cell_type": "markdown",
   "metadata": {},
   "source": [
    "## Importing Packages"
   ]
  },
  {
   "cell_type": "code",
   "execution_count": 133,
   "metadata": {},
   "outputs": [
    {
     "name": "stdout",
     "output_type": "stream",
     "text": [
      "2.7.0\n"
     ]
    }
   ],
   "source": [
    "# Import packages\n",
    "import numpy as np\n",
    "import pandas as pd\n",
    "import joblib\n",
    "from pathlib import Path\n",
    "\n",
    "# Visualization\n",
    "import seaborn as sns\n",
    "import matplotlib.pyplot as plt\n",
    "\n",
    "# Sampling\n",
    "from imblearn.over_sampling import RandomOverSampler\n",
    "from imblearn.under_sampling import RandomUnderSampler\n",
    "from imblearn.over_sampling import SMOTE\n",
    "\n",
    "# Data Pre-processing\n",
    "from sklearn.preprocessing import OrdinalEncoder\n",
    "from sklearn.preprocessing import StandardScaler\n",
    "from sklearn.preprocessing import MinMaxScaler\n",
    "\n",
    "# Models\n",
    "from sklearn.linear_model import LogisticRegression\n",
    "from sklearn.tree import DecisionTreeClassifier\n",
    "from sklearn.svm import SVC\n",
    "from catboost import CatBoostClassifier\n",
    "from xgboost import XGBClassifier\n",
    "from sklearn.ensemble import RandomForestClassifier\n",
    "import xgboost\n",
    "\n",
    "# Model Selection\n",
    "from sklearn.model_selection import cross_val_score\n",
    "from sklearn.model_selection import cross_val_predict\n",
    "from sklearn.model_selection import KFold\n",
    "from imblearn.pipeline import Pipeline\n",
    "\n",
    "# Metrics\n",
    "from sklearn.metrics import accuracy_score\n",
    "from sklearn.metrics import confusion_matrix\n",
    "from sklearn.metrics import roc_auc_score\n",
    "from sklearn.metrics import classification_report\n",
    "from sklearn.metrics import make_scorer\n",
    "from sklearn.metrics import confusion_matrix\n",
    "\n",
    "# For Deep Learning\n",
    "import tensorflow as tf\n",
    "print(tf.__version__)\n",
    "from tensorflow import keras\n",
    "\n",
    "import warnings\n",
    "warnings.filterwarnings('ignore')"
   ]
  },
  {
   "cell_type": "markdown",
   "metadata": {},
   "source": [
    "### Helper Functions"
   ]
  },
  {
   "cell_type": "code",
   "execution_count": 78,
   "metadata": {},
   "outputs": [],
   "source": [
    "# Reset global arrays\n",
    "def reset():\n",
    "    global y_true_arr, y_pred_arr\n",
    "    y_true_arr, y_pred_arr = [], []"
   ]
  },
  {
   "cell_type": "code",
   "execution_count": 79,
   "metadata": {},
   "outputs": [],
   "source": [
    "# Store each K split true class and prediction values\n",
    "y_true_arr = []\n",
    "y_pred_arr = []\n",
    "\n",
    "def classification_report_with_accuracy(y_true, y_pred):\n",
    "    y_true_arr.extend(y_true)\n",
    "    y_pred_arr.extend(y_pred)\n",
    "    return accuracy_score(y_true, y_pred)"
   ]
  },
  {
   "cell_type": "code",
   "execution_count": 80,
   "metadata": {},
   "outputs": [],
   "source": [
    "# This function Draw each Cross Validation Fold epochs \n",
    "def draw_graph(arr, header):\n",
    "    plt.title(f\"{header}\")\n",
    "    plt.xlabel(\"epoch\")\n",
    "    plt.ylabel(f\"{header}\")\n",
    "    for k in range(len(arr)):\n",
    "        plt.plot(arr[k], label=f'K = {k}')\n",
    "    plt.legend()\n",
    "    plt.show()"
   ]
  },
  {
   "cell_type": "markdown",
   "metadata": {},
   "source": [
    "## Read the CSV data file"
   ]
  },
  {
   "cell_type": "code",
   "execution_count": 146,
   "metadata": {},
   "outputs": [
    {
     "data": {
      "text/html": [
       "<div>\n",
       "<style scoped>\n",
       "    .dataframe tbody tr th:only-of-type {\n",
       "        vertical-align: middle;\n",
       "    }\n",
       "\n",
       "    .dataframe tbody tr th {\n",
       "        vertical-align: top;\n",
       "    }\n",
       "\n",
       "    .dataframe thead th {\n",
       "        text-align: right;\n",
       "    }\n",
       "</style>\n",
       "<table border=\"1\" class=\"dataframe\">\n",
       "  <thead>\n",
       "    <tr style=\"text-align: right;\">\n",
       "      <th></th>\n",
       "      <th>city</th>\n",
       "      <th>zip</th>\n",
       "      <th>lat</th>\n",
       "      <th>long</th>\n",
       "      <th>gender</th>\n",
       "      <th>senior_citizen</th>\n",
       "      <th>partner</th>\n",
       "      <th>dependents</th>\n",
       "      <th>tenure</th>\n",
       "      <th>phone_service</th>\n",
       "      <th>...</th>\n",
       "      <th>device_protection</th>\n",
       "      <th>tech_support</th>\n",
       "      <th>streaming_tv</th>\n",
       "      <th>streaming_movies</th>\n",
       "      <th>contract</th>\n",
       "      <th>paperless_billing</th>\n",
       "      <th>payment_method</th>\n",
       "      <th>monthly_charges</th>\n",
       "      <th>total_charges</th>\n",
       "      <th>churn</th>\n",
       "    </tr>\n",
       "  </thead>\n",
       "  <tbody>\n",
       "    <tr>\n",
       "      <th>0</th>\n",
       "      <td>Los Angeles</td>\n",
       "      <td>90003</td>\n",
       "      <td>33.964131</td>\n",
       "      <td>-118.272783</td>\n",
       "      <td>Male</td>\n",
       "      <td>No</td>\n",
       "      <td>No</td>\n",
       "      <td>No</td>\n",
       "      <td>2</td>\n",
       "      <td>Yes</td>\n",
       "      <td>...</td>\n",
       "      <td>No</td>\n",
       "      <td>No</td>\n",
       "      <td>No</td>\n",
       "      <td>No</td>\n",
       "      <td>Month-to-month</td>\n",
       "      <td>Yes</td>\n",
       "      <td>Mailed check</td>\n",
       "      <td>53.85</td>\n",
       "      <td>108.15</td>\n",
       "      <td>1</td>\n",
       "    </tr>\n",
       "    <tr>\n",
       "      <th>1</th>\n",
       "      <td>Los Angeles</td>\n",
       "      <td>90005</td>\n",
       "      <td>34.059281</td>\n",
       "      <td>-118.307420</td>\n",
       "      <td>Female</td>\n",
       "      <td>No</td>\n",
       "      <td>No</td>\n",
       "      <td>Yes</td>\n",
       "      <td>2</td>\n",
       "      <td>Yes</td>\n",
       "      <td>...</td>\n",
       "      <td>No</td>\n",
       "      <td>No</td>\n",
       "      <td>No</td>\n",
       "      <td>No</td>\n",
       "      <td>Month-to-month</td>\n",
       "      <td>Yes</td>\n",
       "      <td>Electronic check</td>\n",
       "      <td>70.70</td>\n",
       "      <td>151.65</td>\n",
       "      <td>1</td>\n",
       "    </tr>\n",
       "    <tr>\n",
       "      <th>2</th>\n",
       "      <td>Los Angeles</td>\n",
       "      <td>90006</td>\n",
       "      <td>34.048013</td>\n",
       "      <td>-118.293953</td>\n",
       "      <td>Female</td>\n",
       "      <td>No</td>\n",
       "      <td>No</td>\n",
       "      <td>Yes</td>\n",
       "      <td>8</td>\n",
       "      <td>Yes</td>\n",
       "      <td>...</td>\n",
       "      <td>Yes</td>\n",
       "      <td>No</td>\n",
       "      <td>Yes</td>\n",
       "      <td>Yes</td>\n",
       "      <td>Month-to-month</td>\n",
       "      <td>Yes</td>\n",
       "      <td>Electronic check</td>\n",
       "      <td>99.65</td>\n",
       "      <td>820.50</td>\n",
       "      <td>1</td>\n",
       "    </tr>\n",
       "    <tr>\n",
       "      <th>3</th>\n",
       "      <td>Los Angeles</td>\n",
       "      <td>90010</td>\n",
       "      <td>34.062125</td>\n",
       "      <td>-118.315709</td>\n",
       "      <td>Female</td>\n",
       "      <td>No</td>\n",
       "      <td>Yes</td>\n",
       "      <td>Yes</td>\n",
       "      <td>28</td>\n",
       "      <td>Yes</td>\n",
       "      <td>...</td>\n",
       "      <td>Yes</td>\n",
       "      <td>Yes</td>\n",
       "      <td>Yes</td>\n",
       "      <td>Yes</td>\n",
       "      <td>Month-to-month</td>\n",
       "      <td>Yes</td>\n",
       "      <td>Electronic check</td>\n",
       "      <td>104.80</td>\n",
       "      <td>3046.05</td>\n",
       "      <td>1</td>\n",
       "    </tr>\n",
       "    <tr>\n",
       "      <th>4</th>\n",
       "      <td>Los Angeles</td>\n",
       "      <td>90015</td>\n",
       "      <td>34.039224</td>\n",
       "      <td>-118.266293</td>\n",
       "      <td>Male</td>\n",
       "      <td>No</td>\n",
       "      <td>No</td>\n",
       "      <td>Yes</td>\n",
       "      <td>49</td>\n",
       "      <td>Yes</td>\n",
       "      <td>...</td>\n",
       "      <td>Yes</td>\n",
       "      <td>No</td>\n",
       "      <td>Yes</td>\n",
       "      <td>Yes</td>\n",
       "      <td>Month-to-month</td>\n",
       "      <td>Yes</td>\n",
       "      <td>Bank transfer (automatic)</td>\n",
       "      <td>103.70</td>\n",
       "      <td>5036.30</td>\n",
       "      <td>1</td>\n",
       "    </tr>\n",
       "  </tbody>\n",
       "</table>\n",
       "<p>5 rows × 24 columns</p>\n",
       "</div>"
      ],
      "text/plain": [
       "          city    zip        lat        long  gender senior_citizen partner  \\\n",
       "0  Los Angeles  90003  33.964131 -118.272783    Male             No      No   \n",
       "1  Los Angeles  90005  34.059281 -118.307420  Female             No      No   \n",
       "2  Los Angeles  90006  34.048013 -118.293953  Female             No      No   \n",
       "3  Los Angeles  90010  34.062125 -118.315709  Female             No     Yes   \n",
       "4  Los Angeles  90015  34.039224 -118.266293    Male             No      No   \n",
       "\n",
       "  dependents  tenure phone_service  ... device_protection tech_support  \\\n",
       "0         No       2           Yes  ...                No           No   \n",
       "1        Yes       2           Yes  ...                No           No   \n",
       "2        Yes       8           Yes  ...               Yes           No   \n",
       "3        Yes      28           Yes  ...               Yes          Yes   \n",
       "4        Yes      49           Yes  ...               Yes           No   \n",
       "\n",
       "  streaming_tv streaming_movies        contract paperless_billing  \\\n",
       "0           No               No  Month-to-month               Yes   \n",
       "1           No               No  Month-to-month               Yes   \n",
       "2          Yes              Yes  Month-to-month               Yes   \n",
       "3          Yes              Yes  Month-to-month               Yes   \n",
       "4          Yes              Yes  Month-to-month               Yes   \n",
       "\n",
       "              payment_method monthly_charges total_charges churn  \n",
       "0               Mailed check           53.85        108.15     1  \n",
       "1           Electronic check           70.70        151.65     1  \n",
       "2           Electronic check           99.65        820.50     1  \n",
       "3           Electronic check          104.80       3046.05     1  \n",
       "4  Bank transfer (automatic)          103.70       5036.30     1  \n",
       "\n",
       "[5 rows x 24 columns]"
      ]
     },
     "execution_count": 146,
     "metadata": {},
     "output_type": "execute_result"
    }
   ],
   "source": [
    "#import data\n",
    "df = pd.read_csv(Path('./Data/churn_data.csv'))\n",
    "df.head()"
   ]
  },
  {
   "cell_type": "code",
   "execution_count": 147,
   "metadata": {},
   "outputs": [
    {
     "data": {
      "text/plain": [
       "(7032, 24)"
      ]
     },
     "execution_count": 147,
     "metadata": {},
     "output_type": "execute_result"
    }
   ],
   "source": [
    "# Data shape\n",
    "df.shape"
   ]
  },
  {
   "cell_type": "code",
   "execution_count": 148,
   "metadata": {},
   "outputs": [
    {
     "data": {
      "text/plain": [
       "0    5163\n",
       "1    1869\n",
       "Name: churn, dtype: int64"
      ]
     },
     "execution_count": 148,
     "metadata": {},
     "output_type": "execute_result"
    }
   ],
   "source": [
    "# Target Class Distribution\n",
    "df[\"churn\"].value_counts()"
   ]
  },
  {
   "cell_type": "markdown",
   "metadata": {},
   "source": [
    "## Data Pre-Processing"
   ]
  },
  {
   "cell_type": "code",
   "execution_count": 149,
   "metadata": {},
   "outputs": [
    {
     "data": {
      "text/plain": [
       "city                  object\n",
       "zip                    int64\n",
       "lat                  float64\n",
       "long                 float64\n",
       "gender                object\n",
       "senior_citizen        object\n",
       "partner               object\n",
       "dependents            object\n",
       "tenure                 int64\n",
       "phone_service         object\n",
       "multiple_lines        object\n",
       "internet_service      object\n",
       "online_security       object\n",
       "online_backup         object\n",
       "device_protection     object\n",
       "tech_support          object\n",
       "streaming_tv          object\n",
       "streaming_movies      object\n",
       "contract              object\n",
       "paperless_billing     object\n",
       "payment_method        object\n",
       "monthly_charges      float64\n",
       "total_charges        float64\n",
       "churn                  int64\n",
       "dtype: object"
      ]
     },
     "execution_count": 149,
     "metadata": {},
     "output_type": "execute_result"
    }
   ],
   "source": [
    "# Checking data types\n",
    "df.dtypes"
   ]
  },
  {
   "cell_type": "code",
   "execution_count": 150,
   "metadata": {},
   "outputs": [
    {
     "name": "stdout",
     "output_type": "stream",
     "text": [
      "city  :  1129\n",
      "zip  :  1652\n",
      "lat  :  1652\n",
      "long  :  1651\n",
      "gender  :  2\n",
      "senior_citizen  :  2\n",
      "partner  :  2\n",
      "dependents  :  2\n",
      "tenure  :  72\n",
      "phone_service  :  2\n",
      "multiple_lines  :  3\n",
      "internet_service  :  3\n",
      "online_security  :  3\n",
      "online_backup  :  3\n",
      "device_protection  :  3\n",
      "tech_support  :  3\n",
      "streaming_tv  :  3\n",
      "streaming_movies  :  3\n",
      "contract  :  3\n",
      "paperless_billing  :  2\n",
      "payment_method  :  4\n",
      "monthly_charges  :  1584\n",
      "total_charges  :  6530\n",
      "churn  :  2\n"
     ]
    }
   ],
   "source": [
    "# Value counts for each column\n",
    "for i in range(df.shape[1]):\n",
    "    print(df.columns[i], ' : ', df.iloc[:, i].nunique())"
   ]
  },
  {
   "cell_type": "code",
   "execution_count": 151,
   "metadata": {},
   "outputs": [
    {
     "data": {
      "text/html": [
       "<div>\n",
       "<style scoped>\n",
       "    .dataframe tbody tr th:only-of-type {\n",
       "        vertical-align: middle;\n",
       "    }\n",
       "\n",
       "    .dataframe tbody tr th {\n",
       "        vertical-align: top;\n",
       "    }\n",
       "\n",
       "    .dataframe thead th {\n",
       "        text-align: right;\n",
       "    }\n",
       "</style>\n",
       "<table border=\"1\" class=\"dataframe\">\n",
       "  <thead>\n",
       "    <tr style=\"text-align: right;\">\n",
       "      <th></th>\n",
       "      <th>zip</th>\n",
       "      <th>lat</th>\n",
       "      <th>long</th>\n",
       "      <th>tenure</th>\n",
       "      <th>monthly_charges</th>\n",
       "      <th>total_charges</th>\n",
       "      <th>churn</th>\n",
       "    </tr>\n",
       "  </thead>\n",
       "  <tbody>\n",
       "    <tr>\n",
       "      <th>count</th>\n",
       "      <td>7032.000000</td>\n",
       "      <td>7032.000000</td>\n",
       "      <td>7032.000000</td>\n",
       "      <td>7032.000000</td>\n",
       "      <td>7032.000000</td>\n",
       "      <td>7032.000000</td>\n",
       "      <td>7032.000000</td>\n",
       "    </tr>\n",
       "    <tr>\n",
       "      <th>mean</th>\n",
       "      <td>93523.032565</td>\n",
       "      <td>36.283307</td>\n",
       "      <td>-119.799215</td>\n",
       "      <td>32.421786</td>\n",
       "      <td>64.798208</td>\n",
       "      <td>2283.300441</td>\n",
       "      <td>0.265785</td>\n",
       "    </tr>\n",
       "    <tr>\n",
       "      <th>std</th>\n",
       "      <td>1865.515958</td>\n",
       "      <td>2.456118</td>\n",
       "      <td>2.157588</td>\n",
       "      <td>24.545260</td>\n",
       "      <td>30.085974</td>\n",
       "      <td>2266.771362</td>\n",
       "      <td>0.441782</td>\n",
       "    </tr>\n",
       "    <tr>\n",
       "      <th>min</th>\n",
       "      <td>90001.000000</td>\n",
       "      <td>32.555828</td>\n",
       "      <td>-124.301372</td>\n",
       "      <td>1.000000</td>\n",
       "      <td>18.250000</td>\n",
       "      <td>18.800000</td>\n",
       "      <td>0.000000</td>\n",
       "    </tr>\n",
       "    <tr>\n",
       "      <th>25%</th>\n",
       "      <td>92102.000000</td>\n",
       "      <td>34.030915</td>\n",
       "      <td>-121.815412</td>\n",
       "      <td>9.000000</td>\n",
       "      <td>35.587500</td>\n",
       "      <td>401.450000</td>\n",
       "      <td>0.000000</td>\n",
       "    </tr>\n",
       "    <tr>\n",
       "      <th>50%</th>\n",
       "      <td>93552.500000</td>\n",
       "      <td>36.391777</td>\n",
       "      <td>-119.735410</td>\n",
       "      <td>29.000000</td>\n",
       "      <td>70.350000</td>\n",
       "      <td>1397.475000</td>\n",
       "      <td>0.000000</td>\n",
       "    </tr>\n",
       "    <tr>\n",
       "      <th>75%</th>\n",
       "      <td>95354.000000</td>\n",
       "      <td>38.227285</td>\n",
       "      <td>-118.043237</td>\n",
       "      <td>55.000000</td>\n",
       "      <td>89.862500</td>\n",
       "      <td>3794.737500</td>\n",
       "      <td>1.000000</td>\n",
       "    </tr>\n",
       "    <tr>\n",
       "      <th>max</th>\n",
       "      <td>96161.000000</td>\n",
       "      <td>41.962127</td>\n",
       "      <td>-114.192901</td>\n",
       "      <td>72.000000</td>\n",
       "      <td>118.750000</td>\n",
       "      <td>8684.800000</td>\n",
       "      <td>1.000000</td>\n",
       "    </tr>\n",
       "  </tbody>\n",
       "</table>\n",
       "</div>"
      ],
      "text/plain": [
       "                zip          lat         long       tenure  monthly_charges  \\\n",
       "count   7032.000000  7032.000000  7032.000000  7032.000000      7032.000000   \n",
       "mean   93523.032565    36.283307  -119.799215    32.421786        64.798208   \n",
       "std     1865.515958     2.456118     2.157588    24.545260        30.085974   \n",
       "min    90001.000000    32.555828  -124.301372     1.000000        18.250000   \n",
       "25%    92102.000000    34.030915  -121.815412     9.000000        35.587500   \n",
       "50%    93552.500000    36.391777  -119.735410    29.000000        70.350000   \n",
       "75%    95354.000000    38.227285  -118.043237    55.000000        89.862500   \n",
       "max    96161.000000    41.962127  -114.192901    72.000000       118.750000   \n",
       "\n",
       "       total_charges        churn  \n",
       "count    7032.000000  7032.000000  \n",
       "mean     2283.300441     0.265785  \n",
       "std      2266.771362     0.441782  \n",
       "min        18.800000     0.000000  \n",
       "25%       401.450000     0.000000  \n",
       "50%      1397.475000     0.000000  \n",
       "75%      3794.737500     1.000000  \n",
       "max      8684.800000     1.000000  "
      ]
     },
     "execution_count": 151,
     "metadata": {},
     "output_type": "execute_result"
    }
   ],
   "source": [
    "# Statistical Summary of the df\n",
    "df.describe()"
   ]
  },
  {
   "cell_type": "markdown",
   "metadata": {},
   "source": [
    "### Data Splitting"
   ]
  },
  {
   "cell_type": "code",
   "execution_count": 182,
   "metadata": {},
   "outputs": [],
   "source": [
    "# Features and Target\n",
    "X = df.iloc[:, :-1]\n",
    "y = df.iloc[:, -1]"
   ]
  },
  {
   "cell_type": "markdown",
   "metadata": {},
   "source": [
    "### Feature Encoding"
   ]
  },
  {
   "cell_type": "code",
   "execution_count": 183,
   "metadata": {},
   "outputs": [],
   "source": [
    "# Feature Separation\n",
    "categorical_features = X.select_dtypes(include=['object']).columns.tolist()\n",
    "numerical_features = list(set(X.columns.tolist()) - set(categorical_features))"
   ]
  },
  {
   "cell_type": "code",
   "execution_count": 186,
   "metadata": {},
   "outputs": [],
   "source": [
    "# Apply Ordinal encoder for categorical data\n",
    "le = OrdinalEncoder()\n",
    "le.fit(X[categorical_features])\n",
    "X[categorical_features] = le.transform(X[categorical_features])"
   ]
  },
  {
   "cell_type": "markdown",
   "metadata": {},
   "source": [
    "### Feature Scaling"
   ]
  },
  {
   "cell_type": "code",
   "execution_count": 126,
   "metadata": {},
   "outputs": [],
   "source": [
    "# Standardize monthly_charges and monthly_charges\n",
    "std_scaler = StandardScaler()\n",
    "X[categorical_features+numerical_features] = std_scaler.fit_transform(\n",
    "    X[categorical_features+numerical_features])"
   ]
  },
  {
   "cell_type": "markdown",
   "metadata": {},
   "source": [
    "## Model Training and Evaluation"
   ]
  },
  {
   "cell_type": "markdown",
   "metadata": {},
   "source": [
    "Cross Validation method is used here to prevent model overfitting"
   ]
  },
  {
   "cell_type": "markdown",
   "metadata": {},
   "source": [
    "### Pipeline"
   ]
  },
  {
   "cell_type": "code",
   "execution_count": 128,
   "metadata": {},
   "outputs": [],
   "source": [
    "# Prediction function using KFold Cross Validation\n",
    "# And printing the results\n",
    "\n",
    "# K = 10\n",
    "cv = KFold(n_splits=10, shuffle=True, random_state=1)\n",
    "\n",
    "def prediction_result(clf, X, y):\n",
    "    global y_true_arr, y_pred_arr\n",
    "        \n",
    "    # Steps\n",
    "    steps = [('model', clf)] # No Sampling\n",
    "    # steps = [('up-sampling', SMOTE()), ('model', clf)] # Apply SNMOTE\n",
    "    # steps = [('up-sampling', RandomOverSampler()), ('model', clf)] # Apply Upsampling\n",
    "    # steps = [('Under-sampling', RandomUnderSampler()), ('model', clf)] # Apply Downsampling\n",
    "    # steps = [('o', RandomOverSampler(sampling_strategy=0.5)), ('u', RandomUnderSampler(sampling_strategy=0.5)), ('m', clf)] # Apply Upsampling and Downsampling\n",
    "    \n",
    "    # Apply steps to pipeline\n",
    "    pipeline = Pipeline(steps=steps)\n",
    "\n",
    "    # Cross Validation Scores\n",
    "    scores = cross_val_score(pipeline, X, y, cv=cv, scoring=make_scorer(classification_report_with_accuracy))\n",
    "    \n",
    "    # Accuracy Score\n",
    "    print(f\"Accuracy: {scores.mean()}\\n\")\n",
    "    \n",
    "    # Classification Report\n",
    "    print(classification_report(y_true_arr, y_pred_arr))\n",
    "\n",
    "    # Reset the Global arrays\n",
    "    reset()"
   ]
  },
  {
   "cell_type": "markdown",
   "metadata": {},
   "source": [
    "### Logistic Regression"
   ]
  },
  {
   "cell_type": "code",
   "execution_count": 129,
   "metadata": {},
   "outputs": [
    {
     "name": "stdout",
     "output_type": "stream",
     "text": [
      "Accuracy: 0.8098694313332471\n",
      "\n",
      "              precision    recall  f1-score   support\n",
      "\n",
      "           0       0.85      0.89      0.87      5163\n",
      "           1       0.66      0.58      0.62      1869\n",
      "\n",
      "    accuracy                           0.81      7032\n",
      "   macro avg       0.76      0.74      0.75      7032\n",
      "weighted avg       0.80      0.81      0.81      7032\n",
      "\n"
     ]
    }
   ],
   "source": [
    "lr_clf = LogisticRegression(penalty='l2', C=1, random_state=1)\n",
    "prediction_result(lr_clf, X, y)"
   ]
  },
  {
   "cell_type": "markdown",
   "metadata": {},
   "source": [
    "### Support Vector Machine"
   ]
  },
  {
   "cell_type": "code",
   "execution_count": 71,
   "metadata": {},
   "outputs": [
    {
     "name": "stdout",
     "output_type": "stream",
     "text": [
      "Accuracy: 0.8077357186732186\n",
      "\n",
      "              precision    recall  f1-score   support\n",
      "\n",
      "           0       0.84      0.91      0.87      5163\n",
      "           1       0.68      0.51      0.59      1869\n",
      "\n",
      "    accuracy                           0.81      7032\n",
      "   macro avg       0.76      0.71      0.73      7032\n",
      "weighted avg       0.80      0.81      0.80      7032\n",
      "\n"
     ]
    }
   ],
   "source": [
    "# SVM classifier with RBF kernel\n",
    "svm_clf = SVC(kernel='rbf', random_state=1)\n",
    "prediction_result(svm_clf, X, y)"
   ]
  },
  {
   "cell_type": "markdown",
   "metadata": {},
   "source": [
    "### Decision Tree"
   ]
  },
  {
   "cell_type": "code",
   "execution_count": 72,
   "metadata": {},
   "outputs": [
    {
     "name": "stdout",
     "output_type": "stream",
     "text": [
      "Accuracy: 0.7790098037630931\n",
      "\n",
      "              precision    recall  f1-score   support\n",
      "\n",
      "           0       0.81      0.92      0.86      5163\n",
      "           1       0.64      0.39      0.48      1869\n",
      "\n",
      "    accuracy                           0.78      7032\n",
      "   macro avg       0.72      0.65      0.67      7032\n",
      "weighted avg       0.76      0.78      0.76      7032\n",
      "\n"
     ]
    }
   ],
   "source": [
    "dt_clf = DecisionTreeClassifier(max_depth=4, min_samples_split=2, random_state=1)\n",
    "prediction_result(dt_clf, X, y)"
   ]
  },
  {
   "cell_type": "markdown",
   "metadata": {},
   "source": [
    "### Random Forest"
   ]
  },
  {
   "cell_type": "code",
   "execution_count": 73,
   "metadata": {},
   "outputs": [
    {
     "name": "stdout",
     "output_type": "stream",
     "text": [
      "Accuracy: 0.8026170309065046\n",
      "\n",
      "              precision    recall  f1-score   support\n",
      "\n",
      "           0       0.84      0.91      0.87      5163\n",
      "           1       0.67      0.51      0.58      1869\n",
      "\n",
      "    accuracy                           0.80      7032\n",
      "   macro avg       0.75      0.71      0.73      7032\n",
      "weighted avg       0.79      0.80      0.79      7032\n",
      "\n"
     ]
    }
   ],
   "source": [
    "rf_clf = RandomForestClassifier(n_estimators=100, random_state=1, min_samples_leaf=1)\n",
    "prediction_result(rf_clf, X, y)"
   ]
  },
  {
   "cell_type": "markdown",
   "metadata": {},
   "source": [
    "### XGBoost Classifier"
   ]
  },
  {
   "cell_type": "code",
   "execution_count": 130,
   "metadata": {},
   "outputs": [
    {
     "name": "stdout",
     "output_type": "stream",
     "text": [
      "Accuracy: 0.8110076134747187\n",
      "\n",
      "              precision    recall  f1-score   support\n",
      "\n",
      "           0       0.85      0.90      0.88      5163\n",
      "           1       0.67      0.56      0.61      1869\n",
      "\n",
      "    accuracy                           0.81      7032\n",
      "   macro avg       0.76      0.73      0.74      7032\n",
      "weighted avg       0.80      0.81      0.81      7032\n",
      "\n"
     ]
    }
   ],
   "source": [
    "xgb_clf = XGBClassifier(n_estimators=80, max_depth=1, eval_metric='mlogloss', random_state=1)\n",
    "prediction_result(xgb_clf, X, y)"
   ]
  },
  {
   "cell_type": "markdown",
   "metadata": {},
   "source": [
    "### Feature Importance"
   ]
  },
  {
   "cell_type": "code",
   "execution_count": 131,
   "metadata": {},
   "outputs": [
    {
     "data": {
      "image/png": "[encoded data removed]",
      "text/plain": [
       "<Figure size 640x480 with 1 Axes>"
      ]
     },
     "metadata": {},
     "output_type": "display_data"
    }
   ],
   "source": [
    "xgb_clf.fit(X,y)\n",
    "xgboost.plot_importance(xgb_clf, title=\"Feature Importance (XGBoost)\", color='Blue')\n",
    "plt.show();"
   ]
  },
  {
   "cell_type": "markdown",
   "metadata": {},
   "source": [
    "### CatBoost Classifier"
   ]
  },
  {
   "cell_type": "code",
   "execution_count": 76,
   "metadata": {},
   "outputs": [
    {
     "name": "stdout",
     "output_type": "stream",
     "text": [
      "Accuracy: 0.8023317276606748\n",
      "\n",
      "              precision    recall  f1-score   support\n",
      "\n",
      "           0       0.84      0.90      0.87      5163\n",
      "           1       0.65      0.54      0.59      1869\n",
      "\n",
      "    accuracy                           0.80      7032\n",
      "   macro avg       0.75      0.72      0.73      7032\n",
      "weighted avg       0.79      0.80      0.80      7032\n",
      "\n"
     ]
    }
   ],
   "source": [
    "cb_clf = CatBoostClassifier(random_state=1, verbose=False)\n",
    "prediction_result(cb_clf, X, y)"
   ]
  },
  {
   "cell_type": "markdown",
   "metadata": {},
   "source": [
    "### Deep Learning Model"
   ]
  },
  {
   "cell_type": "code",
   "execution_count": 50,
   "metadata": {},
   "outputs": [
    {
     "name": "stdout",
     "output_type": "stream",
     "text": [
      "\n",
      "Cross Validation Training K=0\n",
      "\n",
      "Epoch 1/100\n",
      "396/396 - 1s - loss: 1.1600 - accuracy: 0.6441 - val_loss: 0.4996 - val_accuracy: 0.7983 - 623ms/epoch - 2ms/step\n",
      "Epoch 2/100\n",
      "396/396 - 0s - loss: 0.5527 - accuracy: 0.7536 - val_loss: 0.4353 - val_accuracy: 0.7884 - 216ms/epoch - 547us/step\n",
      "Epoch 3/100\n",
      "396/396 - 0s - loss: 0.4760 - accuracy: 0.7710 - val_loss: 0.4248 - val_accuracy: 0.7969 - 219ms/epoch - 554us/step\n",
      "Epoch 4/100\n",
      "396/396 - 0s - loss: 0.4515 - accuracy: 0.7826 - val_loss: 0.4203 - val_accuracy: 0.7884 - 229ms/epoch - 579us/step\n",
      "Epoch 5/100\n",
      "396/396 - 0s - loss: 0.4476 - accuracy: 0.7876 - val_loss: 0.4164 - val_accuracy: 0.7898 - 220ms/epoch - 557us/step\n",
      "Epoch 6/100\n",
      "396/396 - 0s - loss: 0.4402 - accuracy: 0.7920 - val_loss: 0.4159 - val_accuracy: 0.7969 - 215ms/epoch - 544us/step\n",
      "Epoch 7/100\n",
      "396/396 - 0s - loss: 0.4361 - accuracy: 0.7952 - val_loss: 0.4093 - val_accuracy: 0.8026 - 214ms/epoch - 541us/step\n",
      "Epoch 8/100\n",
      "396/396 - 0s - loss: 0.4338 - accuracy: 0.7938 - val_loss: 0.4087 - val_accuracy: 0.8026 - 218ms/epoch - 552us/step\n",
      "Epoch 9/100\n",
      "396/396 - 0s - loss: 0.4304 - accuracy: 0.7974 - val_loss: 0.4051 - val_accuracy: 0.8139 - 210ms/epoch - 531us/step\n",
      "Epoch 10/100\n",
      "396/396 - 0s - loss: 0.4249 - accuracy: 0.7979 - val_loss: 0.4052 - val_accuracy: 0.8082 - 214ms/epoch - 540us/step\n",
      "Epoch 11/100\n",
      "396/396 - 0s - loss: 0.4237 - accuracy: 0.7985 - val_loss: 0.4046 - val_accuracy: 0.8026 - 215ms/epoch - 543us/step\n",
      "Epoch 12/100\n",
      "396/396 - 0s - loss: 0.4215 - accuracy: 0.8006 - val_loss: 0.4069 - val_accuracy: 0.8082 - 215ms/epoch - 542us/step\n",
      "Epoch 13/100\n",
      "396/396 - 0s - loss: 0.4221 - accuracy: 0.8012 - val_loss: 0.4096 - val_accuracy: 0.8054 - 213ms/epoch - 539us/step\n",
      "Epoch 14/100\n",
      "396/396 - 0s - loss: 0.4212 - accuracy: 0.8006 - val_loss: 0.4031 - val_accuracy: 0.8111 - 216ms/epoch - 547us/step\n",
      "Epoch 15/100\n",
      "396/396 - 0s - loss: 0.4194 - accuracy: 0.8037 - val_loss: 0.4041 - val_accuracy: 0.8153 - 213ms/epoch - 539us/step\n",
      "Epoch 16/100\n",
      "396/396 - 0s - loss: 0.4167 - accuracy: 0.8036 - val_loss: 0.4042 - val_accuracy: 0.8011 - 219ms/epoch - 554us/step\n",
      "Epoch 17/100\n",
      "396/396 - 0s - loss: 0.4182 - accuracy: 0.8007 - val_loss: 0.4021 - val_accuracy: 0.8082 - 221ms/epoch - 559us/step\n",
      "Epoch 18/100\n",
      "396/396 - 0s - loss: 0.4152 - accuracy: 0.8023 - val_loss: 0.4037 - val_accuracy: 0.8097 - 226ms/epoch - 572us/step\n",
      "Epoch 19/100\n",
      "396/396 - 0s - loss: 0.4142 - accuracy: 0.8048 - val_loss: 0.4013 - val_accuracy: 0.8125 - 210ms/epoch - 531us/step\n",
      "Epoch 20/100\n",
      "396/396 - 0s - loss: 0.4160 - accuracy: 0.8053 - val_loss: 0.4077 - val_accuracy: 0.8111 - 214ms/epoch - 541us/step\n",
      "Epoch 21/100\n",
      "396/396 - 0s - loss: 0.4174 - accuracy: 0.8077 - val_loss: 0.4032 - val_accuracy: 0.8068 - 215ms/epoch - 544us/step\n",
      "Epoch 22/100\n",
      "396/396 - 0s - loss: 0.4158 - accuracy: 0.8055 - val_loss: 0.4023 - val_accuracy: 0.8125 - 211ms/epoch - 533us/step\n",
      "Epoch 23/100\n",
      "396/396 - 0s - loss: 0.4155 - accuracy: 0.8037 - val_loss: 0.4018 - val_accuracy: 0.8068 - 215ms/epoch - 544us/step\n",
      "Epoch 24/100\n",
      "396/396 - 0s - loss: 0.4136 - accuracy: 0.8048 - val_loss: 0.4015 - val_accuracy: 0.8082 - 215ms/epoch - 544us/step\n",
      "Epoch 25/100\n",
      "396/396 - 0s - loss: 0.4154 - accuracy: 0.8015 - val_loss: 0.4029 - val_accuracy: 0.8082 - 214ms/epoch - 541us/step\n",
      "Epoch 26/100\n",
      "396/396 - 0s - loss: 0.4109 - accuracy: 0.8061 - val_loss: 0.4031 - val_accuracy: 0.8068 - 214ms/epoch - 541us/step\n",
      "Epoch 27/100\n",
      "396/396 - 0s - loss: 0.4136 - accuracy: 0.8029 - val_loss: 0.4008 - val_accuracy: 0.8125 - 212ms/epoch - 536us/step\n",
      "Epoch 28/100\n",
      "396/396 - 0s - loss: 0.4100 - accuracy: 0.8056 - val_loss: 0.4006 - val_accuracy: 0.8082 - 212ms/epoch - 536us/step\n",
      "Epoch 29/100\n",
      "396/396 - 0s - loss: 0.4121 - accuracy: 0.8077 - val_loss: 0.3999 - val_accuracy: 0.8068 - 214ms/epoch - 541us/step\n",
      "Epoch 30/100\n",
      "396/396 - 0s - loss: 0.4102 - accuracy: 0.8017 - val_loss: 0.4000 - val_accuracy: 0.8082 - 235ms/epoch - 594us/step\n",
      "Epoch 31/100\n",
      "396/396 - 0s - loss: 0.4146 - accuracy: 0.8048 - val_loss: 0.3995 - val_accuracy: 0.8040 - 211ms/epoch - 534us/step\n",
      "Epoch 32/100\n",
      "396/396 - 0s - loss: 0.4087 - accuracy: 0.8052 - val_loss: 0.4001 - val_accuracy: 0.8068 - 211ms/epoch - 533us/step\n",
      "Epoch 33/100\n",
      "396/396 - 0s - loss: 0.4151 - accuracy: 0.7979 - val_loss: 0.4000 - val_accuracy: 0.8054 - 213ms/epoch - 538us/step\n",
      "Epoch 34/100\n",
      "396/396 - 0s - loss: 0.4118 - accuracy: 0.8059 - val_loss: 0.4031 - val_accuracy: 0.8082 - 212ms/epoch - 535us/step\n",
      "Epoch 35/100\n",
      "396/396 - 0s - loss: 0.4130 - accuracy: 0.8029 - val_loss: 0.3998 - val_accuracy: 0.8068 - 214ms/epoch - 541us/step\n",
      "Epoch 36/100\n",
      "396/396 - 0s - loss: 0.4118 - accuracy: 0.8037 - val_loss: 0.4010 - val_accuracy: 0.8040 - 211ms/epoch - 534us/step\n",
      "Epoch 37/100\n",
      "396/396 - 0s - loss: 0.4103 - accuracy: 0.8052 - val_loss: 0.4008 - val_accuracy: 0.8026 - 211ms/epoch - 534us/step\n",
      "Epoch 38/100\n",
      "396/396 - 0s - loss: 0.4118 - accuracy: 0.8045 - val_loss: 0.4018 - val_accuracy: 0.8082 - 211ms/epoch - 534us/step\n",
      "Epoch 39/100\n",
      "396/396 - 0s - loss: 0.4077 - accuracy: 0.8048 - val_loss: 0.4029 - val_accuracy: 0.8054 - 217ms/epoch - 549us/step\n",
      "Epoch 40/100\n",
      "396/396 - 0s - loss: 0.4102 - accuracy: 0.8033 - val_loss: 0.4031 - val_accuracy: 0.8097 - 213ms/epoch - 539us/step\n",
      "Epoch 41/100\n",
      "396/396 - 0s - loss: 0.4097 - accuracy: 0.8047 - val_loss: 0.4000 - val_accuracy: 0.8068 - 215ms/epoch - 544us/step\n",
      "Epoch 42/100\n",
      "396/396 - 0s - loss: 0.4098 - accuracy: 0.8020 - val_loss: 0.4013 - val_accuracy: 0.8040 - 211ms/epoch - 534us/step\n",
      "Epoch 43/100\n",
      "396/396 - 0s - loss: 0.4077 - accuracy: 0.8063 - val_loss: 0.4033 - val_accuracy: 0.8054 - 211ms/epoch - 534us/step\n",
      "Epoch 44/100\n",
      "396/396 - 0s - loss: 0.4102 - accuracy: 0.8039 - val_loss: 0.4019 - val_accuracy: 0.8054 - 214ms/epoch - 540us/step\n",
      "Epoch 45/100\n",
      "396/396 - 0s - loss: 0.4068 - accuracy: 0.8082 - val_loss: 0.4017 - val_accuracy: 0.7983 - 216ms/epoch - 546us/step\n",
      "Epoch 46/100\n",
      "396/396 - 0s - loss: 0.4093 - accuracy: 0.8021 - val_loss: 0.3998 - val_accuracy: 0.8082 - 212ms/epoch - 536us/step\n",
      "Epoch 47/100\n",
      "396/396 - 0s - loss: 0.4115 - accuracy: 0.8055 - val_loss: 0.4018 - val_accuracy: 0.8054 - 212ms/epoch - 536us/step\n",
      "Epoch 48/100\n",
      "396/396 - 0s - loss: 0.4102 - accuracy: 0.8021 - val_loss: 0.4016 - val_accuracy: 0.8111 - 213ms/epoch - 539us/step\n",
      "Epoch 49/100\n",
      "396/396 - 0s - loss: 0.4079 - accuracy: 0.8058 - val_loss: 0.4005 - val_accuracy: 0.8082 - 213ms/epoch - 539us/step\n",
      "Epoch 50/100\n",
      "396/396 - 0s - loss: 0.4078 - accuracy: 0.8047 - val_loss: 0.4006 - val_accuracy: 0.8068 - 213ms/epoch - 539us/step\n",
      "Epoch 51/100\n",
      "396/396 - 0s - loss: 0.4116 - accuracy: 0.7996 - val_loss: 0.4038 - val_accuracy: 0.7969 - 212ms/epoch - 536us/step\n",
      "Epoch 52/100\n",
      "396/396 - 0s - loss: 0.4086 - accuracy: 0.8091 - val_loss: 0.4003 - val_accuracy: 0.7983 - 212ms/epoch - 536us/step\n",
      "Epoch 53/100\n",
      "396/396 - 0s - loss: 0.4095 - accuracy: 0.8034 - val_loss: 0.3999 - val_accuracy: 0.8054 - 210ms/epoch - 531us/step\n",
      "Epoch 54/100\n",
      "396/396 - 0s - loss: 0.4102 - accuracy: 0.8010 - val_loss: 0.4002 - val_accuracy: 0.8097 - 214ms/epoch - 541us/step\n",
      "Epoch 55/100\n",
      "396/396 - 0s - loss: 0.4099 - accuracy: 0.8066 - val_loss: 0.4005 - val_accuracy: 0.8082 - 219ms/epoch - 553us/step\n",
      "Epoch 56/100\n",
      "396/396 - 0s - loss: 0.4055 - accuracy: 0.8050 - val_loss: 0.4004 - val_accuracy: 0.8040 - 213ms/epoch - 538us/step\n",
      "Epoch 57/100\n",
      "396/396 - 0s - loss: 0.4098 - accuracy: 0.8048 - val_loss: 0.4056 - val_accuracy: 0.8011 - 214ms/epoch - 540us/step\n",
      "Epoch 58/100\n",
      "396/396 - 0s - loss: 0.4050 - accuracy: 0.8064 - val_loss: 0.4020 - val_accuracy: 0.8082 - 216ms/epoch - 545us/step\n",
      "Epoch 59/100\n",
      "396/396 - 0s - loss: 0.4088 - accuracy: 0.8064 - val_loss: 0.4002 - val_accuracy: 0.8082 - 222ms/epoch - 562us/step\n",
      "Epoch 60/100\n",
      "396/396 - 0s - loss: 0.4087 - accuracy: 0.8063 - val_loss: 0.4009 - val_accuracy: 0.8054 - 219ms/epoch - 554us/step\n",
      "Epoch 61/100\n",
      "396/396 - 0s - loss: 0.4094 - accuracy: 0.8091 - val_loss: 0.4010 - val_accuracy: 0.8040 - 211ms/epoch - 532us/step\n",
      "Epoch 62/100\n",
      "396/396 - 0s - loss: 0.4073 - accuracy: 0.8135 - val_loss: 0.4011 - val_accuracy: 0.8097 - 214ms/epoch - 539us/step\n",
      "Epoch 63/100\n",
      "396/396 - 0s - loss: 0.4074 - accuracy: 0.8052 - val_loss: 0.3999 - val_accuracy: 0.8040 - 214ms/epoch - 541us/step\n",
      "Epoch 64/100\n",
      "396/396 - 0s - loss: 0.4130 - accuracy: 0.8048 - val_loss: 0.4016 - val_accuracy: 0.8125 - 227ms/epoch - 574us/step\n",
      "Epoch 65/100\n",
      "396/396 - 0s - loss: 0.4057 - accuracy: 0.8069 - val_loss: 0.4011 - val_accuracy: 0.8011 - 210ms/epoch - 531us/step\n",
      "Epoch 66/100\n",
      "396/396 - 0s - loss: 0.4098 - accuracy: 0.8101 - val_loss: 0.4010 - val_accuracy: 0.8026 - 233ms/epoch - 589us/step\n",
      "Epoch 67/100\n",
      "396/396 - 0s - loss: 0.4052 - accuracy: 0.8056 - val_loss: 0.4023 - val_accuracy: 0.8082 - 214ms/epoch - 541us/step\n",
      "Epoch 68/100\n",
      "396/396 - 0s - loss: 0.4110 - accuracy: 0.8069 - val_loss: 0.4032 - val_accuracy: 0.8054 - 214ms/epoch - 541us/step\n",
      "Epoch 69/100\n",
      "396/396 - 0s - loss: 0.4058 - accuracy: 0.8069 - val_loss: 0.4011 - val_accuracy: 0.8068 - 216ms/epoch - 545us/step\n",
      "Epoch 70/100\n",
      "396/396 - 0s - loss: 0.4074 - accuracy: 0.8075 - val_loss: 0.4030 - val_accuracy: 0.8097 - 211ms/epoch - 532us/step\n",
      "Epoch 71/100\n",
      "396/396 - 0s - loss: 0.4058 - accuracy: 0.8075 - val_loss: 0.4027 - val_accuracy: 0.8068 - 215ms/epoch - 544us/step\n",
      "Epoch 72/100\n",
      "396/396 - 0s - loss: 0.4036 - accuracy: 0.8078 - val_loss: 0.4007 - val_accuracy: 0.8068 - 217ms/epoch - 549us/step\n",
      "Epoch 73/100\n",
      "396/396 - 0s - loss: 0.4056 - accuracy: 0.8077 - val_loss: 0.4014 - val_accuracy: 0.8040 - 214ms/epoch - 541us/step\n",
      "Epoch 74/100\n",
      "396/396 - 0s - loss: 0.4078 - accuracy: 0.8064 - val_loss: 0.4015 - val_accuracy: 0.8026 - 214ms/epoch - 541us/step\n",
      "Epoch 75/100\n",
      "396/396 - 0s - loss: 0.4059 - accuracy: 0.8053 - val_loss: 0.4040 - val_accuracy: 0.8054 - 210ms/epoch - 531us/step\n",
      "Epoch 76/100\n",
      "396/396 - 0s - loss: 0.4050 - accuracy: 0.8047 - val_loss: 0.4015 - val_accuracy: 0.8111 - 212ms/epoch - 536us/step\n",
      "Epoch 77/100\n",
      "396/396 - 0s - loss: 0.4040 - accuracy: 0.8074 - val_loss: 0.4040 - val_accuracy: 0.8068 - 213ms/epoch - 539us/step\n",
      "Epoch 78/100\n",
      "396/396 - 0s - loss: 0.4024 - accuracy: 0.8048 - val_loss: 0.4065 - val_accuracy: 0.8011 - 211ms/epoch - 534us/step\n",
      "Epoch 79/100\n",
      "396/396 - 0s - loss: 0.3991 - accuracy: 0.8119 - val_loss: 0.4062 - val_accuracy: 0.8026 - 211ms/epoch - 534us/step\n",
      "Epoch 80/100\n",
      "396/396 - 0s - loss: 0.4086 - accuracy: 0.8061 - val_loss: 0.4028 - val_accuracy: 0.8026 - 218ms/epoch - 551us/step\n",
      "Epoch 81/100\n",
      "396/396 - 0s - loss: 0.4050 - accuracy: 0.8101 - val_loss: 0.4046 - val_accuracy: 0.8054 - 214ms/epoch - 539us/step\n",
      "Epoch 82/100\n",
      "396/396 - 0s - loss: 0.4091 - accuracy: 0.8102 - val_loss: 0.4039 - val_accuracy: 0.8082 - 215ms/epoch - 543us/step\n",
      "Epoch 83/100\n",
      "396/396 - 0s - loss: 0.4023 - accuracy: 0.8096 - val_loss: 0.4039 - val_accuracy: 0.8054 - 214ms/epoch - 541us/step\n",
      "Epoch 84/100\n",
      "396/396 - 0s - loss: 0.4068 - accuracy: 0.8039 - val_loss: 0.4035 - val_accuracy: 0.8054 - 212ms/epoch - 536us/step\n",
      "Epoch 85/100\n",
      "396/396 - 0s - loss: 0.4073 - accuracy: 0.8064 - val_loss: 0.4053 - val_accuracy: 0.8125 - 227ms/epoch - 574us/step\n",
      "Epoch 86/100\n",
      "396/396 - 0s - loss: 0.4001 - accuracy: 0.8148 - val_loss: 0.4034 - val_accuracy: 0.8082 - 217ms/epoch - 549us/step\n",
      "Epoch 87/100\n",
      "396/396 - 0s - loss: 0.4054 - accuracy: 0.8066 - val_loss: 0.4031 - val_accuracy: 0.8168 - 220ms/epoch - 557us/step\n",
      "Epoch 88/100\n",
      "396/396 - 0s - loss: 0.4072 - accuracy: 0.8075 - val_loss: 0.4036 - val_accuracy: 0.8068 - 226ms/epoch - 572us/step\n",
      "Epoch 89/100\n",
      "396/396 - 0s - loss: 0.4069 - accuracy: 0.8093 - val_loss: 0.4051 - val_accuracy: 0.8040 - 224ms/epoch - 567us/step\n",
      "Epoch 90/100\n",
      "396/396 - 0s - loss: 0.4038 - accuracy: 0.8102 - val_loss: 0.4041 - val_accuracy: 0.8082 - 215ms/epoch - 544us/step\n",
      "Epoch 91/100\n",
      "396/396 - 0s - loss: 0.4035 - accuracy: 0.8094 - val_loss: 0.4030 - val_accuracy: 0.8082 - 231ms/epoch - 583us/step\n",
      "Epoch 92/100\n",
      "396/396 - 0s - loss: 0.4027 - accuracy: 0.8094 - val_loss: 0.4023 - val_accuracy: 0.8168 - 217ms/epoch - 548us/step\n",
      "Epoch 93/100\n",
      "396/396 - 0s - loss: 0.4039 - accuracy: 0.8108 - val_loss: 0.4020 - val_accuracy: 0.8125 - 227ms/epoch - 574us/step\n",
      "Epoch 94/100\n",
      "396/396 - 0s - loss: 0.4008 - accuracy: 0.8075 - val_loss: 0.4062 - val_accuracy: 0.8040 - 213ms/epoch - 539us/step\n",
      "Epoch 95/100\n",
      "396/396 - 0s - loss: 0.4019 - accuracy: 0.8052 - val_loss: 0.4052 - val_accuracy: 0.8011 - 219ms/epoch - 554us/step\n",
      "Epoch 96/100\n",
      "396/396 - 0s - loss: 0.4056 - accuracy: 0.8063 - val_loss: 0.4103 - val_accuracy: 0.8026 - 212ms/epoch - 536us/step\n",
      "Epoch 97/100\n",
      "396/396 - 0s - loss: 0.4070 - accuracy: 0.8048 - val_loss: 0.4059 - val_accuracy: 0.7969 - 216ms/epoch - 547us/step\n",
      "Epoch 98/100\n",
      "396/396 - 0s - loss: 0.4067 - accuracy: 0.8110 - val_loss: 0.4069 - val_accuracy: 0.7997 - 214ms/epoch - 539us/step\n",
      "Epoch 99/100\n",
      "396/396 - 0s - loss: 0.4042 - accuracy: 0.8052 - val_loss: 0.4056 - val_accuracy: 0.8068 - 213ms/epoch - 539us/step\n",
      "Epoch 100/100\n",
      "396/396 - 0s - loss: 0.4103 - accuracy: 0.8052 - val_loss: 0.4052 - val_accuracy: 0.8011 - 219ms/epoch - 554us/step\n"
     ]
    }
   ],
   "source": [
    "# Model Training\n",
    "_X = X.to_numpy()\n",
    "_y = y.to_numpy()\n",
    "accuracy = []\n",
    "val_accuracy = []\n",
    "loss = []\n",
    "val_loss = []\n",
    "counter = 0\n",
    "times = 1 # cross validation folds (set it 10 for all the folds)\n",
    "\n",
    "for train_index, test_index in cv.split(X):\n",
    "    if counter < times:\n",
    "        print(f\"\\nCross Validation Training K={counter}\\n\")\n",
    "        # Train Test split based on K fold Cross Validation split\n",
    "        X_train, X_test = _X[train_index], _X[test_index]\n",
    "        y_train, y_test = _y[train_index], _y[test_index]\n",
    "\n",
    "        # Define the model\n",
    "        model = keras.Sequential([\n",
    "            #keras.layers.Dense(10, activation='relu'),\n",
    "            #keras.layers.Dense(15, activation='relu'),\n",
    "            #keras.layers.Dense(21, activation='relu'),\n",
    "            keras.layers.Dense(16, input_shape=(X.shape[1],), activation='relu'),\n",
    "            keras.layers.Dropout(0.4),\n",
    "            #keras.layers.Dense(46, activation='relu'),\n",
    "            keras.layers.Dense(1, activation='sigmoid')\n",
    "        ])\n",
    "\n",
    "        # Compile\n",
    "        model.compile(optimizer='adam',\n",
    "                     loss='binary_crossentropy',\n",
    "                     metrics=['accuracy'])\n",
    "\n",
    "        # Fit the training data\n",
    "        # history = model.fit(X_train, y_train, batch_size=4, epochs=100, verbose=2)\n",
    "        # history = model.fit(X_train, y_train, batch_size=8, epochs=100, verbose=2)\n",
    "        history = model.fit(X_train, y_train, validation_data=(X_test, y_test), batch_size=16, epochs=100, verbose=2)\n",
    "        # history = model.fit(X_train, y_train, batch_size=32, epochs=100, verbose=2)\n",
    "        # history = model.fit(X_train, y_train, batch_size=64, epochs=100, verbose=2)\n",
    "        # history = model.fit(X_train, y_train, batch_size=128, epochs=100, verbose=2)\n",
    "\n",
    "        # Model prediction for test data\n",
    "        y_pred = np.rint(model.predict(X_test))\n",
    "\n",
    "        # storing in lists\n",
    "        y_pred_arr.extend(y_pred)\n",
    "        y_true_arr.extend(y_test)\n",
    "        \n",
    "        # Accuracy\n",
    "        accuracy.append(history.history['accuracy'])\n",
    "        val_accuracy.append(history.history['val_accuracy'])\n",
    "        \n",
    "        # Loss\n",
    "        loss.append(history.history['loss'])\n",
    "        val_loss.append(history.history['val_loss'])\n",
    "\n",
    "        # Increase counter\n",
    "        counter += 1"
   ]
  },
  {
   "cell_type": "markdown",
   "metadata": {},
   "source": [
    "### Model Evaluation"
   ]
  },
  {
   "cell_type": "code",
   "execution_count": 51,
   "metadata": {},
   "outputs": [
    {
     "name": "stdout",
     "output_type": "stream",
     "text": [
      "Training Accuracy: 0.802253475189209\n",
      "Validation Accuracy: 0.8056676125526429\n",
      "\n",
      "              precision    recall  f1-score   support\n",
      "\n",
      "           0       0.85      0.90      0.87      4242\n",
      "           1       0.62      0.51      0.56      1390\n",
      "\n",
      "    accuracy                           0.80      5632\n",
      "   macro avg       0.73      0.70      0.72      5632\n",
      "weighted avg       0.79      0.80      0.79      5632\n",
      "\n"
     ]
    }
   ],
   "source": [
    "# Accuracy\n",
    "print(f\"Training Accuracy: {sum([sum(accuracy[k]) / len(accuracy[k]) for k in range(len(accuracy))]) / len(accuracy)}\")\n",
    "print(f\"Validation Accuracy: {sum([sum(val_accuracy[k]) / len(val_accuracy[k]) for k in range(len(val_accuracy))]) / len(val_accuracy)}\\n\")\n",
    "\n",
    "# classification Report\n",
    "print(classification_report(y_true_arr, y_pred_arr))"
   ]
  },
  {
   "cell_type": "code",
   "execution_count": 52,
   "metadata": {},
   "outputs": [
    {
     "data": {
      "image/png": "[encoded data removed]",
      "text/plain": [
       "<Figure size 640x480 with 1 Axes>"
      ]
     },
     "metadata": {},
     "output_type": "display_data"
    }
   ],
   "source": [
    "draw_graph(loss, \"Training Loss\")"
   ]
  },
  {
   "cell_type": "code",
   "execution_count": 53,
   "metadata": {},
   "outputs": [
    {
     "data": {
      "image/png": "[encoded data removed]",
      "text/plain": [
       "<Figure size 640x480 with 1 Axes>"
      ]
     },
     "metadata": {},
     "output_type": "display_data"
    }
   ],
   "source": [
    "draw_graph(val_loss, \"Validation Loss\")"
   ]
  },
  {
   "cell_type": "code",
   "execution_count": 54,
   "metadata": {},
   "outputs": [
    {
     "data": {
      "image/png": "[encoded data removed]",
      "text/plain": [
       "<Figure size 640x480 with 1 Axes>"
      ]
     },
     "metadata": {},
     "output_type": "display_data"
    }
   ],
   "source": [
    "draw_graph(accuracy, \"Training Accuracy\")"
   ]
  },
  {
   "cell_type": "code",
   "execution_count": 55,
   "metadata": {},
   "outputs": [
    {
     "data": {
      "image/png": "[encoded data removed]",
      "text/plain": [
       "<Figure size 640x480 with 1 Axes>"
      ]
     },
     "metadata": {},
     "output_type": "display_data"
    }
   ],
   "source": [
    "draw_graph(val_accuracy, \"Validation Accuracy\")"
   ]
  },
  {
   "cell_type": "code",
   "execution_count": 26,
   "metadata": {},
   "outputs": [],
   "source": [
    "reset() # Reset the Global arrays"
   ]
  },
  {
   "cell_type": "markdown",
   "metadata": {},
   "source": [
    "## Save Model"
   ]
  },
  {
   "cell_type": "code",
   "execution_count": 136,
   "metadata": {},
   "outputs": [
    {
     "data": {
      "text/plain": [
       "['Model\\\\numerical_features.joblib']"
      ]
     },
     "execution_count": 136,
     "metadata": {},
     "output_type": "execute_result"
    }
   ],
   "source": [
    "# Saving the model elements\n",
    "joblib.dump(le, Path('./Model/label_encoder.joblib'))\n",
    "joblib.dump(std_scaler, Path('./Model/std_scaler.joblib'))\n",
    "joblib.dump(xgb_clf, Path('./Model/xgb_clf.joblib'))\n",
    "joblib.dump(categorical_features, Path('./Model/categorical_features.joblib'))\n",
    "joblib.dump(numerical_features, Path('./Model/numerical_features.joblib'))"
   ]
  },
  {
   "cell_type": "code",
   "execution_count": 137,
   "metadata": {},
   "outputs": [
    {
     "data": {
      "text/plain": [
       "['city',\n",
       " 'gender',\n",
       " 'senior_citizen',\n",
       " 'partner',\n",
       " 'dependents',\n",
       " 'phone_service',\n",
       " 'multiple_lines',\n",
       " 'internet_service',\n",
       " 'online_security',\n",
       " 'online_backup',\n",
       " 'device_protection',\n",
       " 'tech_support',\n",
       " 'streaming_tv',\n",
       " 'streaming_movies',\n",
       " 'contract',\n",
       " 'paperless_billing',\n",
       " 'payment_method',\n",
       " 'monthly_charges',\n",
       " 'total_charges',\n",
       " 'tenure',\n",
       " 'lat',\n",
       " 'long',\n",
       " 'zip']"
      ]
     },
     "execution_count": 137,
     "metadata": {},
     "output_type": "execute_result"
    }
   ],
   "source": [
    "categorical_features+numerical_features"
   ]
  },
  {
   "cell_type": "code",
   "execution_count": 139,
   "metadata": {},
   "outputs": [
    {
     "data": {
      "text/plain": [
       "city                  object\n",
       "zip                    int64\n",
       "lat                  float64\n",
       "long                 float64\n",
       "gender                object\n",
       "senior_citizen        object\n",
       "partner               object\n",
       "dependents            object\n",
       "tenure                 int64\n",
       "phone_service         object\n",
       "multiple_lines        object\n",
       "internet_service      object\n",
       "online_security       object\n",
       "online_backup         object\n",
       "device_protection     object\n",
       "tech_support          object\n",
       "streaming_tv          object\n",
       "streaming_movies      object\n",
       "contract              object\n",
       "paperless_billing     object\n",
       "payment_method        object\n",
       "monthly_charges      float64\n",
       "total_charges        float64\n",
       "churn                  int64\n",
       "dtype: object"
      ]
     },
     "execution_count": 139,
     "metadata": {},
     "output_type": "execute_result"
    }
   ],
   "source": [
    "df.dtypes"
   ]
  },
  {
   "cell_type": "code",
   "execution_count": 141,
   "metadata": {},
   "outputs": [
    {
     "data": {
      "text/plain": [
       "city                    Los Angeles\n",
       "gender                         Male\n",
       "senior_citizen                   No\n",
       "partner                          No\n",
       "dependents                       No\n",
       "phone_service                   Yes\n",
       "multiple_lines                   No\n",
       "internet_service                DSL\n",
       "online_security                 Yes\n",
       "online_backup                   Yes\n",
       "device_protection                No\n",
       "tech_support                     No\n",
       "streaming_tv                     No\n",
       "streaming_movies                 No\n",
       "contract             Month-to-month\n",
       "paperless_billing               Yes\n",
       "payment_method         Mailed check\n",
       "monthly_charges               53.85\n",
       "total_charges                108.15\n",
       "tenure                            2\n",
       "lat                         33.9641\n",
       "long                       -118.273\n",
       "zip                           90003\n",
       "Name: 0, dtype: object"
      ]
     },
     "execution_count": 141,
     "metadata": {},
     "output_type": "execute_result"
    }
   ],
   "source": [
    "df[categorical_features+numerical_features].iloc[0]"
   ]
  },
  {
   "cell_type": "code",
   "execution_count": 145,
   "metadata": {},
   "outputs": [
    {
     "data": {
      "text/plain": [
       "city                    Los Angeles\n",
       "gender                         Male\n",
       "senior_citizen                   No\n",
       "partner                          No\n",
       "dependents                       No\n",
       "phone_service                   Yes\n",
       "multiple_lines                   No\n",
       "internet_service                DSL\n",
       "online_security                 Yes\n",
       "online_backup                   Yes\n",
       "device_protection                No\n",
       "tech_support                     No\n",
       "streaming_tv                     No\n",
       "streaming_movies                 No\n",
       "contract             Month-to-month\n",
       "paperless_billing               Yes\n",
       "payment_method         Mailed check\n",
       "Name: 0, dtype: object"
      ]
     },
     "execution_count": 145,
     "metadata": {},
     "output_type": "execute_result"
    }
   ],
   "source": [
    "df.iloc[0][categorical_features]"
   ]
  },
  {
   "cell_type": "code",
   "execution_count": null,
   "metadata": {},
   "outputs": [],
   "source": []
  }
 ],
 "metadata": {
  "kernelspec": {
   "display_name": "Python 3",
   "language": "python",
   "name": "python3"
  },
  "language_info": {
   "codemirror_mode": {
    "name": "ipython",
    "version": 3
   },
   "file_extension": ".py",
   "mimetype": "text/x-python",
   "name": "python",
   "nbconvert_exporter": "python",
   "pygments_lexer": "ipython3",
   "version": "3.8.3"
  }
 },
 "nbformat": 4,
 "nbformat_minor": 4
}
