{
 "cells": [
  {
   "cell_type": "code",
   "execution_count": 62,
   "id": "bfee4c78-97d6-4685-8021-5086b0c78ce4",
   "metadata": {},
   "outputs": [],
   "source": [
    "# importing packages\n",
    "import numpy as np\n",
    "import pandas as pd\n",
    "from pathlib import Path\n",
    "from sklearn.preprocessing import LabelEncoder\n",
    "from sklearn.preprocessing import StandardScaler\n",
    "from sklearn.model_selection import train_test_split\n",
    "from imblearn.metrics import classification_report_imbalanced\n",
    "from sklearn.metrics import balanced_accuracy_score\n",
    "from sklearn.metrics import confusion_matrix\n",
    "from sklearn.metrics import roc_auc_score\n",
    "from sklearn.metrics import plot_roc_curve\n",
    "from sklearn.ensemble import RandomForestClassifier\n",
    "from imblearn.ensemble import BalancedRandomForestClassifier\n",
    "from imblearn.ensemble import EasyEnsembleClassifier\n",
    "from sklearn.linear_model import LogisticRegression\n",
    "from xgboost import XGBClassifier\n",
    "from imblearn.over_sampling import SMOTE\n",
    "from collections import Counter\n",
    "import xgboost\n",
    "import matplotlib.pyplot as plt\n",
    "import seaborn as sns\n",
    "\n",
    "import warnings\n",
    "warnings.filterwarnings('ignore')\n",
    "\n",
    "%matplotlib inline"
   ]
  },
  {
   "cell_type": "markdown",
   "id": "84750448-4de6-4985-906f-821720958e7a",
   "metadata": {},
   "source": [
    "# PRE PROCESSING FROM CLEANSED DATA FILE"
   ]
  },
  {
   "cell_type": "code",
   "execution_count": 3,
   "id": "54d5560e-3c59-44e5-b1e7-855ce58f3114",
   "metadata": {},
   "outputs": [],
   "source": [
    "# import cleansed data\n",
    "file_path = Path(\"Data/churn_data.csv\")"
   ]
  },
  {
   "cell_type": "code",
   "execution_count": 5,
   "id": "0e2cd7df-eccd-4b16-9ae6-f6c3ac192bcb",
   "metadata": {},
   "outputs": [
    {
     "data": {
      "text/html": [
       "<div>\n",
       "<style scoped>\n",
       "    .dataframe tbody tr th:only-of-type {\n",
       "        vertical-align: middle;\n",
       "    }\n",
       "\n",
       "    .dataframe tbody tr th {\n",
       "        vertical-align: top;\n",
       "    }\n",
       "\n",
       "    .dataframe thead th {\n",
       "        text-align: right;\n",
       "    }\n",
       "</style>\n",
       "<table border=\"1\" class=\"dataframe\">\n",
       "  <thead>\n",
       "    <tr style=\"text-align: right;\">\n",
       "      <th></th>\n",
       "      <th>city</th>\n",
       "      <th>zip</th>\n",
       "      <th>gender</th>\n",
       "      <th>senior_citizen</th>\n",
       "      <th>partner</th>\n",
       "      <th>dependents</th>\n",
       "      <th>tenure</th>\n",
       "      <th>phone_service</th>\n",
       "      <th>multiple_lines</th>\n",
       "      <th>internet_service</th>\n",
       "      <th>...</th>\n",
       "      <th>device_protection</th>\n",
       "      <th>tech_support</th>\n",
       "      <th>streaming_tv</th>\n",
       "      <th>streaming_movies</th>\n",
       "      <th>contract</th>\n",
       "      <th>paperless_billing</th>\n",
       "      <th>payment_method</th>\n",
       "      <th>monthly_charges</th>\n",
       "      <th>total_charges</th>\n",
       "      <th>churn</th>\n",
       "    </tr>\n",
       "  </thead>\n",
       "  <tbody>\n",
       "    <tr>\n",
       "      <th>0</th>\n",
       "      <td>Los Angeles</td>\n",
       "      <td>90003</td>\n",
       "      <td>Male</td>\n",
       "      <td>No</td>\n",
       "      <td>No</td>\n",
       "      <td>No</td>\n",
       "      <td>2</td>\n",
       "      <td>Yes</td>\n",
       "      <td>No</td>\n",
       "      <td>DSL</td>\n",
       "      <td>...</td>\n",
       "      <td>No</td>\n",
       "      <td>No</td>\n",
       "      <td>No</td>\n",
       "      <td>No</td>\n",
       "      <td>Month-to-month</td>\n",
       "      <td>Yes</td>\n",
       "      <td>Mailed check</td>\n",
       "      <td>53.85</td>\n",
       "      <td>108.15</td>\n",
       "      <td>1</td>\n",
       "    </tr>\n",
       "    <tr>\n",
       "      <th>1</th>\n",
       "      <td>Los Angeles</td>\n",
       "      <td>90005</td>\n",
       "      <td>Female</td>\n",
       "      <td>No</td>\n",
       "      <td>No</td>\n",
       "      <td>Yes</td>\n",
       "      <td>2</td>\n",
       "      <td>Yes</td>\n",
       "      <td>No</td>\n",
       "      <td>Fiber optic</td>\n",
       "      <td>...</td>\n",
       "      <td>No</td>\n",
       "      <td>No</td>\n",
       "      <td>No</td>\n",
       "      <td>No</td>\n",
       "      <td>Month-to-month</td>\n",
       "      <td>Yes</td>\n",
       "      <td>Electronic check</td>\n",
       "      <td>70.70</td>\n",
       "      <td>151.65</td>\n",
       "      <td>1</td>\n",
       "    </tr>\n",
       "    <tr>\n",
       "      <th>2</th>\n",
       "      <td>Los Angeles</td>\n",
       "      <td>90006</td>\n",
       "      <td>Female</td>\n",
       "      <td>No</td>\n",
       "      <td>No</td>\n",
       "      <td>Yes</td>\n",
       "      <td>8</td>\n",
       "      <td>Yes</td>\n",
       "      <td>Yes</td>\n",
       "      <td>Fiber optic</td>\n",
       "      <td>...</td>\n",
       "      <td>Yes</td>\n",
       "      <td>No</td>\n",
       "      <td>Yes</td>\n",
       "      <td>Yes</td>\n",
       "      <td>Month-to-month</td>\n",
       "      <td>Yes</td>\n",
       "      <td>Electronic check</td>\n",
       "      <td>99.65</td>\n",
       "      <td>820.50</td>\n",
       "      <td>1</td>\n",
       "    </tr>\n",
       "    <tr>\n",
       "      <th>3</th>\n",
       "      <td>Los Angeles</td>\n",
       "      <td>90010</td>\n",
       "      <td>Female</td>\n",
       "      <td>No</td>\n",
       "      <td>Yes</td>\n",
       "      <td>Yes</td>\n",
       "      <td>28</td>\n",
       "      <td>Yes</td>\n",
       "      <td>Yes</td>\n",
       "      <td>Fiber optic</td>\n",
       "      <td>...</td>\n",
       "      <td>Yes</td>\n",
       "      <td>Yes</td>\n",
       "      <td>Yes</td>\n",
       "      <td>Yes</td>\n",
       "      <td>Month-to-month</td>\n",
       "      <td>Yes</td>\n",
       "      <td>Electronic check</td>\n",
       "      <td>104.80</td>\n",
       "      <td>3046.05</td>\n",
       "      <td>1</td>\n",
       "    </tr>\n",
       "    <tr>\n",
       "      <th>4</th>\n",
       "      <td>Los Angeles</td>\n",
       "      <td>90015</td>\n",
       "      <td>Male</td>\n",
       "      <td>No</td>\n",
       "      <td>No</td>\n",
       "      <td>Yes</td>\n",
       "      <td>49</td>\n",
       "      <td>Yes</td>\n",
       "      <td>Yes</td>\n",
       "      <td>Fiber optic</td>\n",
       "      <td>...</td>\n",
       "      <td>Yes</td>\n",
       "      <td>No</td>\n",
       "      <td>Yes</td>\n",
       "      <td>Yes</td>\n",
       "      <td>Month-to-month</td>\n",
       "      <td>Yes</td>\n",
       "      <td>Bank transfer (automatic)</td>\n",
       "      <td>103.70</td>\n",
       "      <td>5036.30</td>\n",
       "      <td>1</td>\n",
       "    </tr>\n",
       "  </tbody>\n",
       "</table>\n",
       "<p>5 rows × 22 columns</p>\n",
       "</div>"
      ],
      "text/plain": [
       "          city    zip  gender senior_citizen partner dependents  tenure  \\\n",
       "0  Los Angeles  90003    Male             No      No         No       2   \n",
       "1  Los Angeles  90005  Female             No      No        Yes       2   \n",
       "2  Los Angeles  90006  Female             No      No        Yes       8   \n",
       "3  Los Angeles  90010  Female             No     Yes        Yes      28   \n",
       "4  Los Angeles  90015    Male             No      No        Yes      49   \n",
       "\n",
       "  phone_service multiple_lines internet_service  ... device_protection  \\\n",
       "0           Yes             No              DSL  ...                No   \n",
       "1           Yes             No      Fiber optic  ...                No   \n",
       "2           Yes            Yes      Fiber optic  ...               Yes   \n",
       "3           Yes            Yes      Fiber optic  ...               Yes   \n",
       "4           Yes            Yes      Fiber optic  ...               Yes   \n",
       "\n",
       "  tech_support streaming_tv streaming_movies        contract  \\\n",
       "0           No           No               No  Month-to-month   \n",
       "1           No           No               No  Month-to-month   \n",
       "2           No          Yes              Yes  Month-to-month   \n",
       "3          Yes          Yes              Yes  Month-to-month   \n",
       "4           No          Yes              Yes  Month-to-month   \n",
       "\n",
       "  paperless_billing             payment_method monthly_charges total_charges  \\\n",
       "0               Yes               Mailed check           53.85        108.15   \n",
       "1               Yes           Electronic check           70.70        151.65   \n",
       "2               Yes           Electronic check           99.65        820.50   \n",
       "3               Yes           Electronic check          104.80       3046.05   \n",
       "4               Yes  Bank transfer (automatic)          103.70       5036.30   \n",
       "\n",
       "   churn  \n",
       "0      1  \n",
       "1      1  \n",
       "2      1  \n",
       "3      1  \n",
       "4      1  \n",
       "\n",
       "[5 rows x 22 columns]"
      ]
     },
     "execution_count": 5,
     "metadata": {},
     "output_type": "execute_result"
    }
   ],
   "source": [
    "# Create a DataFrame\n",
    "churn_data_df = pd.read_csv(file_path)\n",
    "churn_data_df.head(5)"
   ]
  },
  {
   "cell_type": "code",
   "execution_count": 6,
   "id": "8d5b8393-9145-44e9-9622-dd639283022a",
   "metadata": {},
   "outputs": [
    {
     "data": {
      "text/html": [
       "<div>\n",
       "<style scoped>\n",
       "    .dataframe tbody tr th:only-of-type {\n",
       "        vertical-align: middle;\n",
       "    }\n",
       "\n",
       "    .dataframe tbody tr th {\n",
       "        vertical-align: top;\n",
       "    }\n",
       "\n",
       "    .dataframe thead th {\n",
       "        text-align: right;\n",
       "    }\n",
       "</style>\n",
       "<table border=\"1\" class=\"dataframe\">\n",
       "  <thead>\n",
       "    <tr style=\"text-align: right;\">\n",
       "      <th></th>\n",
       "      <th>zip</th>\n",
       "      <th>tenure</th>\n",
       "      <th>monthly_charges</th>\n",
       "      <th>total_charges</th>\n",
       "      <th>churn</th>\n",
       "    </tr>\n",
       "  </thead>\n",
       "  <tbody>\n",
       "    <tr>\n",
       "      <th>count</th>\n",
       "      <td>7032.000000</td>\n",
       "      <td>7032.000000</td>\n",
       "      <td>7032.000000</td>\n",
       "      <td>7032.000000</td>\n",
       "      <td>7032.000000</td>\n",
       "    </tr>\n",
       "    <tr>\n",
       "      <th>mean</th>\n",
       "      <td>93523.032565</td>\n",
       "      <td>32.421786</td>\n",
       "      <td>64.798208</td>\n",
       "      <td>2283.300441</td>\n",
       "      <td>0.265785</td>\n",
       "    </tr>\n",
       "    <tr>\n",
       "      <th>std</th>\n",
       "      <td>1865.515958</td>\n",
       "      <td>24.545260</td>\n",
       "      <td>30.085974</td>\n",
       "      <td>2266.771362</td>\n",
       "      <td>0.441782</td>\n",
       "    </tr>\n",
       "    <tr>\n",
       "      <th>min</th>\n",
       "      <td>90001.000000</td>\n",
       "      <td>1.000000</td>\n",
       "      <td>18.250000</td>\n",
       "      <td>18.800000</td>\n",
       "      <td>0.000000</td>\n",
       "    </tr>\n",
       "    <tr>\n",
       "      <th>25%</th>\n",
       "      <td>92102.000000</td>\n",
       "      <td>9.000000</td>\n",
       "      <td>35.587500</td>\n",
       "      <td>401.450000</td>\n",
       "      <td>0.000000</td>\n",
       "    </tr>\n",
       "    <tr>\n",
       "      <th>50%</th>\n",
       "      <td>93552.500000</td>\n",
       "      <td>29.000000</td>\n",
       "      <td>70.350000</td>\n",
       "      <td>1397.475000</td>\n",
       "      <td>0.000000</td>\n",
       "    </tr>\n",
       "    <tr>\n",
       "      <th>75%</th>\n",
       "      <td>95354.000000</td>\n",
       "      <td>55.000000</td>\n",
       "      <td>89.862500</td>\n",
       "      <td>3794.737500</td>\n",
       "      <td>1.000000</td>\n",
       "    </tr>\n",
       "    <tr>\n",
       "      <th>max</th>\n",
       "      <td>96161.000000</td>\n",
       "      <td>72.000000</td>\n",
       "      <td>118.750000</td>\n",
       "      <td>8684.800000</td>\n",
       "      <td>1.000000</td>\n",
       "    </tr>\n",
       "  </tbody>\n",
       "</table>\n",
       "</div>"
      ],
      "text/plain": [
       "                zip       tenure  monthly_charges  total_charges        churn\n",
       "count   7032.000000  7032.000000      7032.000000    7032.000000  7032.000000\n",
       "mean   93523.032565    32.421786        64.798208    2283.300441     0.265785\n",
       "std     1865.515958    24.545260        30.085974    2266.771362     0.441782\n",
       "min    90001.000000     1.000000        18.250000      18.800000     0.000000\n",
       "25%    92102.000000     9.000000        35.587500     401.450000     0.000000\n",
       "50%    93552.500000    29.000000        70.350000    1397.475000     0.000000\n",
       "75%    95354.000000    55.000000        89.862500    3794.737500     1.000000\n",
       "max    96161.000000    72.000000       118.750000    8684.800000     1.000000"
      ]
     },
     "execution_count": 6,
     "metadata": {},
     "output_type": "execute_result"
    }
   ],
   "source": [
    "# View of data set\n",
    "churn_data_df.describe()"
   ]
  },
  {
   "cell_type": "code",
   "execution_count": 9,
   "id": "bbac8c8e-14a1-4f6a-82f5-b3f666b23613",
   "metadata": {},
   "outputs": [
    {
     "data": {
      "text/html": [
       "<div>\n",
       "<style scoped>\n",
       "    .dataframe tbody tr th:only-of-type {\n",
       "        vertical-align: middle;\n",
       "    }\n",
       "\n",
       "    .dataframe tbody tr th {\n",
       "        vertical-align: top;\n",
       "    }\n",
       "\n",
       "    .dataframe thead th {\n",
       "        text-align: right;\n",
       "    }\n",
       "</style>\n",
       "<table border=\"1\" class=\"dataframe\">\n",
       "  <thead>\n",
       "    <tr style=\"text-align: right;\">\n",
       "      <th></th>\n",
       "      <th>city</th>\n",
       "      <th>zip</th>\n",
       "      <th>gender</th>\n",
       "      <th>senior_citizen</th>\n",
       "      <th>partner</th>\n",
       "      <th>dependents</th>\n",
       "      <th>tenure</th>\n",
       "      <th>phone_service</th>\n",
       "      <th>multiple_lines</th>\n",
       "      <th>internet_service</th>\n",
       "      <th>...</th>\n",
       "      <th>device_protection</th>\n",
       "      <th>tech_support</th>\n",
       "      <th>streaming_tv</th>\n",
       "      <th>streaming_movies</th>\n",
       "      <th>contract</th>\n",
       "      <th>paperless_billing</th>\n",
       "      <th>payment_method</th>\n",
       "      <th>monthly_charges</th>\n",
       "      <th>total_charges</th>\n",
       "      <th>churn</th>\n",
       "    </tr>\n",
       "  </thead>\n",
       "  <tbody>\n",
       "    <tr>\n",
       "      <th>0</th>\n",
       "      <td>562</td>\n",
       "      <td>90003</td>\n",
       "      <td>1</td>\n",
       "      <td>0</td>\n",
       "      <td>0</td>\n",
       "      <td>0</td>\n",
       "      <td>2</td>\n",
       "      <td>1</td>\n",
       "      <td>0</td>\n",
       "      <td>0</td>\n",
       "      <td>...</td>\n",
       "      <td>0</td>\n",
       "      <td>0</td>\n",
       "      <td>0</td>\n",
       "      <td>0</td>\n",
       "      <td>0</td>\n",
       "      <td>1</td>\n",
       "      <td>3</td>\n",
       "      <td>53.85</td>\n",
       "      <td>108.15</td>\n",
       "      <td>1</td>\n",
       "    </tr>\n",
       "    <tr>\n",
       "      <th>1</th>\n",
       "      <td>562</td>\n",
       "      <td>90005</td>\n",
       "      <td>0</td>\n",
       "      <td>0</td>\n",
       "      <td>0</td>\n",
       "      <td>1</td>\n",
       "      <td>2</td>\n",
       "      <td>1</td>\n",
       "      <td>0</td>\n",
       "      <td>1</td>\n",
       "      <td>...</td>\n",
       "      <td>0</td>\n",
       "      <td>0</td>\n",
       "      <td>0</td>\n",
       "      <td>0</td>\n",
       "      <td>0</td>\n",
       "      <td>1</td>\n",
       "      <td>2</td>\n",
       "      <td>70.70</td>\n",
       "      <td>151.65</td>\n",
       "      <td>1</td>\n",
       "    </tr>\n",
       "    <tr>\n",
       "      <th>2</th>\n",
       "      <td>562</td>\n",
       "      <td>90006</td>\n",
       "      <td>0</td>\n",
       "      <td>0</td>\n",
       "      <td>0</td>\n",
       "      <td>1</td>\n",
       "      <td>8</td>\n",
       "      <td>1</td>\n",
       "      <td>2</td>\n",
       "      <td>1</td>\n",
       "      <td>...</td>\n",
       "      <td>2</td>\n",
       "      <td>0</td>\n",
       "      <td>2</td>\n",
       "      <td>2</td>\n",
       "      <td>0</td>\n",
       "      <td>1</td>\n",
       "      <td>2</td>\n",
       "      <td>99.65</td>\n",
       "      <td>820.50</td>\n",
       "      <td>1</td>\n",
       "    </tr>\n",
       "    <tr>\n",
       "      <th>3</th>\n",
       "      <td>562</td>\n",
       "      <td>90010</td>\n",
       "      <td>0</td>\n",
       "      <td>0</td>\n",
       "      <td>1</td>\n",
       "      <td>1</td>\n",
       "      <td>28</td>\n",
       "      <td>1</td>\n",
       "      <td>2</td>\n",
       "      <td>1</td>\n",
       "      <td>...</td>\n",
       "      <td>2</td>\n",
       "      <td>2</td>\n",
       "      <td>2</td>\n",
       "      <td>2</td>\n",
       "      <td>0</td>\n",
       "      <td>1</td>\n",
       "      <td>2</td>\n",
       "      <td>104.80</td>\n",
       "      <td>3046.05</td>\n",
       "      <td>1</td>\n",
       "    </tr>\n",
       "    <tr>\n",
       "      <th>4</th>\n",
       "      <td>562</td>\n",
       "      <td>90015</td>\n",
       "      <td>1</td>\n",
       "      <td>0</td>\n",
       "      <td>0</td>\n",
       "      <td>1</td>\n",
       "      <td>49</td>\n",
       "      <td>1</td>\n",
       "      <td>2</td>\n",
       "      <td>1</td>\n",
       "      <td>...</td>\n",
       "      <td>2</td>\n",
       "      <td>0</td>\n",
       "      <td>2</td>\n",
       "      <td>2</td>\n",
       "      <td>0</td>\n",
       "      <td>1</td>\n",
       "      <td>0</td>\n",
       "      <td>103.70</td>\n",
       "      <td>5036.30</td>\n",
       "      <td>1</td>\n",
       "    </tr>\n",
       "  </tbody>\n",
       "</table>\n",
       "<p>5 rows × 22 columns</p>\n",
       "</div>"
      ],
      "text/plain": [
       "   city    zip  gender  senior_citizen  partner  dependents  tenure  \\\n",
       "0   562  90003       1               0        0           0       2   \n",
       "1   562  90005       0               0        0           1       2   \n",
       "2   562  90006       0               0        0           1       8   \n",
       "3   562  90010       0               0        1           1      28   \n",
       "4   562  90015       1               0        0           1      49   \n",
       "\n",
       "   phone_service  multiple_lines  internet_service  ...  device_protection  \\\n",
       "0              1               0                 0  ...                  0   \n",
       "1              1               0                 1  ...                  0   \n",
       "2              1               2                 1  ...                  2   \n",
       "3              1               2                 1  ...                  2   \n",
       "4              1               2                 1  ...                  2   \n",
       "\n",
       "   tech_support  streaming_tv  streaming_movies  contract  paperless_billing  \\\n",
       "0             0             0                 0         0                  1   \n",
       "1             0             0                 0         0                  1   \n",
       "2             0             2                 2         0                  1   \n",
       "3             2             2                 2         0                  1   \n",
       "4             0             2                 2         0                  1   \n",
       "\n",
       "   payment_method  monthly_charges  total_charges  churn  \n",
       "0               3            53.85         108.15      1  \n",
       "1               2            70.70         151.65      1  \n",
       "2               2            99.65         820.50      1  \n",
       "3               2           104.80        3046.05      1  \n",
       "4               0           103.70        5036.30      1  \n",
       "\n",
       "[5 rows x 22 columns]"
      ]
     },
     "execution_count": 9,
     "metadata": {},
     "output_type": "execute_result"
    }
   ],
   "source": [
    "# Encode all the categorical data\n",
    "categorical_cols = ['city', 'gender', 'senior_citizen', 'partner', 'dependents', 'phone_service', 'multiple_lines', 'internet_service',\n",
    "                   'online_security', 'online_backup','device_protection', 'tech_support', 'streaming_tv', 'streaming_movies',\n",
    "                    'contract', 'paperless_billing', 'payment_method']\n",
    "encoders = {}\n",
    "\n",
    "for i in categorical_cols:\n",
    "    encoders[i] = LabelEncoder()\n",
    "    churn_data_df[i] = encoders[i].fit_transform(churn_data_df[i])\n",
    "\n",
    "churn_data_df.head()"
   ]
  },
  {
   "cell_type": "code",
   "execution_count": 11,
   "id": "90cd2074-3287-4847-a6ac-d57e91fc40e4",
   "metadata": {},
   "outputs": [],
   "source": [
    "# Split the data into X and y features\n",
    "X = churn_data_df.iloc[:, :-1]\n",
    "y = churn_data_df.iloc[:, -1]"
   ]
  },
  {
   "cell_type": "code",
   "execution_count": 16,
   "id": "29691a25-16de-46e5-a521-94402c800e3d",
   "metadata": {},
   "outputs": [
    {
     "data": {
      "text/html": [
       "<div>\n",
       "<style scoped>\n",
       "    .dataframe tbody tr th:only-of-type {\n",
       "        vertical-align: middle;\n",
       "    }\n",
       "\n",
       "    .dataframe tbody tr th {\n",
       "        vertical-align: top;\n",
       "    }\n",
       "\n",
       "    .dataframe thead th {\n",
       "        text-align: right;\n",
       "    }\n",
       "</style>\n",
       "<table border=\"1\" class=\"dataframe\">\n",
       "  <thead>\n",
       "    <tr style=\"text-align: right;\">\n",
       "      <th></th>\n",
       "      <th>city</th>\n",
       "      <th>zip</th>\n",
       "      <th>gender</th>\n",
       "      <th>senior_citizen</th>\n",
       "      <th>partner</th>\n",
       "      <th>dependents</th>\n",
       "      <th>tenure</th>\n",
       "      <th>phone_service</th>\n",
       "      <th>multiple_lines</th>\n",
       "      <th>internet_service</th>\n",
       "      <th>...</th>\n",
       "      <th>online_backup</th>\n",
       "      <th>device_protection</th>\n",
       "      <th>tech_support</th>\n",
       "      <th>streaming_tv</th>\n",
       "      <th>streaming_movies</th>\n",
       "      <th>contract</th>\n",
       "      <th>paperless_billing</th>\n",
       "      <th>payment_method</th>\n",
       "      <th>monthly_charges</th>\n",
       "      <th>total_charges</th>\n",
       "    </tr>\n",
       "  </thead>\n",
       "  <tbody>\n",
       "    <tr>\n",
       "      <th>count</th>\n",
       "      <td>7032.000000</td>\n",
       "      <td>7032.000000</td>\n",
       "      <td>7032.000000</td>\n",
       "      <td>7032.000000</td>\n",
       "      <td>7032.000000</td>\n",
       "      <td>7032.000000</td>\n",
       "      <td>7032.000000</td>\n",
       "      <td>7032.000000</td>\n",
       "      <td>7032.000000</td>\n",
       "      <td>7032.000000</td>\n",
       "      <td>...</td>\n",
       "      <td>7032.000000</td>\n",
       "      <td>7032.000000</td>\n",
       "      <td>7032.000000</td>\n",
       "      <td>7032.000000</td>\n",
       "      <td>7032.000000</td>\n",
       "      <td>7032.000000</td>\n",
       "      <td>7032.000000</td>\n",
       "      <td>7032.000000</td>\n",
       "      <td>7032.000000</td>\n",
       "      <td>7032.000000</td>\n",
       "    </tr>\n",
       "    <tr>\n",
       "      <th>mean</th>\n",
       "      <td>593.711889</td>\n",
       "      <td>93523.032565</td>\n",
       "      <td>0.504693</td>\n",
       "      <td>0.162400</td>\n",
       "      <td>0.482509</td>\n",
       "      <td>0.230375</td>\n",
       "      <td>32.421786</td>\n",
       "      <td>0.903299</td>\n",
       "      <td>0.940557</td>\n",
       "      <td>0.872582</td>\n",
       "      <td>...</td>\n",
       "      <td>0.905859</td>\n",
       "      <td>0.903868</td>\n",
       "      <td>0.796359</td>\n",
       "      <td>0.984926</td>\n",
       "      <td>0.992890</td>\n",
       "      <td>0.688567</td>\n",
       "      <td>0.592719</td>\n",
       "      <td>1.573237</td>\n",
       "      <td>64.798208</td>\n",
       "      <td>2283.300441</td>\n",
       "    </tr>\n",
       "    <tr>\n",
       "      <th>std</th>\n",
       "      <td>314.937096</td>\n",
       "      <td>1865.515958</td>\n",
       "      <td>0.500014</td>\n",
       "      <td>0.368844</td>\n",
       "      <td>0.499729</td>\n",
       "      <td>0.421103</td>\n",
       "      <td>24.545260</td>\n",
       "      <td>0.295571</td>\n",
       "      <td>0.948627</td>\n",
       "      <td>0.737271</td>\n",
       "      <td>...</td>\n",
       "      <td>0.880394</td>\n",
       "      <td>0.880178</td>\n",
       "      <td>0.861674</td>\n",
       "      <td>0.885285</td>\n",
       "      <td>0.885385</td>\n",
       "      <td>0.832934</td>\n",
       "      <td>0.491363</td>\n",
       "      <td>1.067504</td>\n",
       "      <td>30.085974</td>\n",
       "      <td>2266.771362</td>\n",
       "    </tr>\n",
       "    <tr>\n",
       "      <th>min</th>\n",
       "      <td>0.000000</td>\n",
       "      <td>90001.000000</td>\n",
       "      <td>0.000000</td>\n",
       "      <td>0.000000</td>\n",
       "      <td>0.000000</td>\n",
       "      <td>0.000000</td>\n",
       "      <td>1.000000</td>\n",
       "      <td>0.000000</td>\n",
       "      <td>0.000000</td>\n",
       "      <td>0.000000</td>\n",
       "      <td>...</td>\n",
       "      <td>0.000000</td>\n",
       "      <td>0.000000</td>\n",
       "      <td>0.000000</td>\n",
       "      <td>0.000000</td>\n",
       "      <td>0.000000</td>\n",
       "      <td>0.000000</td>\n",
       "      <td>0.000000</td>\n",
       "      <td>0.000000</td>\n",
       "      <td>18.250000</td>\n",
       "      <td>18.800000</td>\n",
       "    </tr>\n",
       "    <tr>\n",
       "      <th>25%</th>\n",
       "      <td>337.000000</td>\n",
       "      <td>92102.000000</td>\n",
       "      <td>0.000000</td>\n",
       "      <td>0.000000</td>\n",
       "      <td>0.000000</td>\n",
       "      <td>0.000000</td>\n",
       "      <td>9.000000</td>\n",
       "      <td>1.000000</td>\n",
       "      <td>0.000000</td>\n",
       "      <td>0.000000</td>\n",
       "      <td>...</td>\n",
       "      <td>0.000000</td>\n",
       "      <td>0.000000</td>\n",
       "      <td>0.000000</td>\n",
       "      <td>0.000000</td>\n",
       "      <td>0.000000</td>\n",
       "      <td>0.000000</td>\n",
       "      <td>0.000000</td>\n",
       "      <td>1.000000</td>\n",
       "      <td>35.587500</td>\n",
       "      <td>401.450000</td>\n",
       "    </tr>\n",
       "    <tr>\n",
       "      <th>50%</th>\n",
       "      <td>601.000000</td>\n",
       "      <td>93552.500000</td>\n",
       "      <td>1.000000</td>\n",
       "      <td>0.000000</td>\n",
       "      <td>0.000000</td>\n",
       "      <td>0.000000</td>\n",
       "      <td>29.000000</td>\n",
       "      <td>1.000000</td>\n",
       "      <td>1.000000</td>\n",
       "      <td>1.000000</td>\n",
       "      <td>...</td>\n",
       "      <td>1.000000</td>\n",
       "      <td>1.000000</td>\n",
       "      <td>1.000000</td>\n",
       "      <td>1.000000</td>\n",
       "      <td>1.000000</td>\n",
       "      <td>0.000000</td>\n",
       "      <td>1.000000</td>\n",
       "      <td>2.000000</td>\n",
       "      <td>70.350000</td>\n",
       "      <td>1397.475000</td>\n",
       "    </tr>\n",
       "    <tr>\n",
       "      <th>75%</th>\n",
       "      <td>869.000000</td>\n",
       "      <td>95354.000000</td>\n",
       "      <td>1.000000</td>\n",
       "      <td>0.000000</td>\n",
       "      <td>1.000000</td>\n",
       "      <td>0.000000</td>\n",
       "      <td>55.000000</td>\n",
       "      <td>1.000000</td>\n",
       "      <td>2.000000</td>\n",
       "      <td>1.000000</td>\n",
       "      <td>...</td>\n",
       "      <td>2.000000</td>\n",
       "      <td>2.000000</td>\n",
       "      <td>2.000000</td>\n",
       "      <td>2.000000</td>\n",
       "      <td>2.000000</td>\n",
       "      <td>1.000000</td>\n",
       "      <td>1.000000</td>\n",
       "      <td>2.000000</td>\n",
       "      <td>89.862500</td>\n",
       "      <td>3794.737500</td>\n",
       "    </tr>\n",
       "    <tr>\n",
       "      <th>max</th>\n",
       "      <td>1128.000000</td>\n",
       "      <td>96161.000000</td>\n",
       "      <td>1.000000</td>\n",
       "      <td>1.000000</td>\n",
       "      <td>1.000000</td>\n",
       "      <td>1.000000</td>\n",
       "      <td>72.000000</td>\n",
       "      <td>1.000000</td>\n",
       "      <td>2.000000</td>\n",
       "      <td>2.000000</td>\n",
       "      <td>...</td>\n",
       "      <td>2.000000</td>\n",
       "      <td>2.000000</td>\n",
       "      <td>2.000000</td>\n",
       "      <td>2.000000</td>\n",
       "      <td>2.000000</td>\n",
       "      <td>2.000000</td>\n",
       "      <td>1.000000</td>\n",
       "      <td>3.000000</td>\n",
       "      <td>118.750000</td>\n",
       "      <td>8684.800000</td>\n",
       "    </tr>\n",
       "  </tbody>\n",
       "</table>\n",
       "<p>8 rows × 21 columns</p>\n",
       "</div>"
      ],
      "text/plain": [
       "              city           zip       gender  senior_citizen      partner  \\\n",
       "count  7032.000000   7032.000000  7032.000000     7032.000000  7032.000000   \n",
       "mean    593.711889  93523.032565     0.504693        0.162400     0.482509   \n",
       "std     314.937096   1865.515958     0.500014        0.368844     0.499729   \n",
       "min       0.000000  90001.000000     0.000000        0.000000     0.000000   \n",
       "25%     337.000000  92102.000000     0.000000        0.000000     0.000000   \n",
       "50%     601.000000  93552.500000     1.000000        0.000000     0.000000   \n",
       "75%     869.000000  95354.000000     1.000000        0.000000     1.000000   \n",
       "max    1128.000000  96161.000000     1.000000        1.000000     1.000000   \n",
       "\n",
       "        dependents       tenure  phone_service  multiple_lines  \\\n",
       "count  7032.000000  7032.000000    7032.000000     7032.000000   \n",
       "mean      0.230375    32.421786       0.903299        0.940557   \n",
       "std       0.421103    24.545260       0.295571        0.948627   \n",
       "min       0.000000     1.000000       0.000000        0.000000   \n",
       "25%       0.000000     9.000000       1.000000        0.000000   \n",
       "50%       0.000000    29.000000       1.000000        1.000000   \n",
       "75%       0.000000    55.000000       1.000000        2.000000   \n",
       "max       1.000000    72.000000       1.000000        2.000000   \n",
       "\n",
       "       internet_service  ...  online_backup  device_protection  tech_support  \\\n",
       "count       7032.000000  ...    7032.000000        7032.000000   7032.000000   \n",
       "mean           0.872582  ...       0.905859           0.903868      0.796359   \n",
       "std            0.737271  ...       0.880394           0.880178      0.861674   \n",
       "min            0.000000  ...       0.000000           0.000000      0.000000   \n",
       "25%            0.000000  ...       0.000000           0.000000      0.000000   \n",
       "50%            1.000000  ...       1.000000           1.000000      1.000000   \n",
       "75%            1.000000  ...       2.000000           2.000000      2.000000   \n",
       "max            2.000000  ...       2.000000           2.000000      2.000000   \n",
       "\n",
       "       streaming_tv  streaming_movies     contract  paperless_billing  \\\n",
       "count   7032.000000       7032.000000  7032.000000        7032.000000   \n",
       "mean       0.984926          0.992890     0.688567           0.592719   \n",
       "std        0.885285          0.885385     0.832934           0.491363   \n",
       "min        0.000000          0.000000     0.000000           0.000000   \n",
       "25%        0.000000          0.000000     0.000000           0.000000   \n",
       "50%        1.000000          1.000000     0.000000           1.000000   \n",
       "75%        2.000000          2.000000     1.000000           1.000000   \n",
       "max        2.000000          2.000000     2.000000           1.000000   \n",
       "\n",
       "       payment_method  monthly_charges  total_charges  \n",
       "count     7032.000000      7032.000000    7032.000000  \n",
       "mean         1.573237        64.798208    2283.300441  \n",
       "std          1.067504        30.085974    2266.771362  \n",
       "min          0.000000        18.250000      18.800000  \n",
       "25%          1.000000        35.587500     401.450000  \n",
       "50%          2.000000        70.350000    1397.475000  \n",
       "75%          2.000000        89.862500    3794.737500  \n",
       "max          3.000000       118.750000    8684.800000  \n",
       "\n",
       "[8 rows x 21 columns]"
      ]
     },
     "execution_count": 16,
     "metadata": {},
     "output_type": "execute_result"
    }
   ],
   "source": [
    "X.describe()"
   ]
  },
  {
   "cell_type": "code",
   "execution_count": 12,
   "id": "45d17bb4-1a13-45f3-892e-efcfbe3c86db",
   "metadata": {},
   "outputs": [
    {
     "data": {
      "text/plain": [
       "0    5163\n",
       "1    1869\n",
       "Name: churn, dtype: int64"
      ]
     },
     "execution_count": 12,
     "metadata": {},
     "output_type": "execute_result"
    }
   ],
   "source": [
    "# Checking the balance of the Target values- Data is imbalanced.\n",
    "y.value_counts()"
   ]
  },
  {
   "cell_type": "code",
   "execution_count": 13,
   "id": "f3c132d6-6a76-477f-9c53-24d514abe2ee",
   "metadata": {},
   "outputs": [],
   "source": [
    "# Creating Train and Test split for X and y- 80 to 20 split\n",
    "X_train, X_test, y_train, y_test = train_test_split(X, \n",
    "                                                    y,\n",
    "                                                    test_size=0.2,\n",
    "                                                    shuffle=True, \n",
    "                                                    random_state=1)"
   ]
  },
  {
   "cell_type": "code",
   "execution_count": 25,
   "id": "30a2c943-04af-4c09-891c-b67f37854588",
   "metadata": {},
   "outputs": [],
   "source": [
    "# Creating standard scaler instance and fit the training data\n",
    "scaler = StandardScaler()\n",
    "X_scaler = scaler.fit(X_train)"
   ]
  },
  {
   "cell_type": "code",
   "execution_count": 26,
   "id": "5ce97c6e-ba70-40b3-b9d0-2c778f121856",
   "metadata": {},
   "outputs": [],
   "source": [
    "# Scaling Train and Test data\n",
    "X_train_scaled = X_scaler.transform(X_train)\n",
    "X_test_scaled = X_scaler.transform(X_test)"
   ]
  },
  {
   "cell_type": "markdown",
   "id": "e2003314-20dd-4201-8bac-842ca79ff5f2",
   "metadata": {},
   "source": [
    "# SIMPLE LOGISTIC REGRESSION CLASSIFIER"
   ]
  },
  {
   "cell_type": "code",
   "execution_count": 38,
   "id": "be662127-ee9b-4b74-a7f9-9a7bcba633e6",
   "metadata": {},
   "outputs": [
    {
     "data": {
      "text/plain": [
       "LogisticRegression()"
      ]
     },
     "execution_count": 38,
     "metadata": {},
     "output_type": "execute_result"
    }
   ],
   "source": [
    "lr_clf = LogisticRegression(solver='lbfgs', random_state=1)\n",
    "lr_clf.fit(X_train_scaled, y_train) "
   ]
  },
  {
   "cell_type": "code",
   "execution_count": 40,
   "id": "b4530704-c0de-4a82-bbfc-90ae1383a669",
   "metadata": {},
   "outputs": [
    {
     "data": {
      "text/plain": [
       "0.7289498580889309"
      ]
     },
     "execution_count": 40,
     "metadata": {},
     "output_type": "execute_result"
    }
   ],
   "source": [
    "# Calculate the balanced accuracy score i.e. make predictions/calculate accuracy. Looks good in this instance.\n",
    "y_pred = lr_clf.predict(X_test_scaled)\n",
    "balanced_accuracy_score(y_test, y_pred)"
   ]
  },
  {
   "cell_type": "code",
   "execution_count": 85,
   "id": "f22e0819-67c0-40a3-92bf-7f1051decfeb",
   "metadata": {},
   "outputs": [
    {
     "data": {
      "text/plain": [
       "array([[763, 294],\n",
       "       [ 73, 277]], dtype=int64)"
      ]
     },
     "execution_count": 85,
     "metadata": {},
     "output_type": "execute_result"
    }
   ],
   "source": [
    "# Display the confusion matrix\n",
    "confusion_matrix(y_test, y_pred)"
   ]
  },
  {
   "cell_type": "code",
   "execution_count": 86,
   "id": "7b91b60b-0128-4443-bc57-906b6a2b7021",
   "metadata": {},
   "outputs": [
    {
     "data": {
      "text/plain": [
       "<AxesSubplot:>"
      ]
     },
     "execution_count": 86,
     "metadata": {},
     "output_type": "execute_result"
    },
    {
     "data": {
      "image/png": "[encoded data removed]",
      "text/plain": [
       "<Figure size 432x288 with 2 Axes>"
      ]
     },
     "metadata": {
      "needs_background": "light"
     },
     "output_type": "display_data"
    }
   ],
   "source": [
    "lr_clf_cm = pd.DataFrame(confusion_matrix(y_test, y_pred), index=['Retain', 'Churn'], columns=['Retain', 'Churn'])\n",
    "sns.heatmap(lr_clf_cm, annot=True, cmap='Reds')"
   ]
  },
  {
   "cell_type": "code",
   "execution_count": 30,
   "id": "2482a18d-c330-4328-bb4b-160356c28934",
   "metadata": {},
   "outputs": [
    {
     "name": "stdout",
     "output_type": "stream",
     "text": [
      "                   pre       rec       spe        f1       geo       iba       sup\n",
      "\n",
      "          0       0.86      0.89      0.57      0.87      0.71      0.52      1057\n",
      "          1       0.62      0.57      0.89      0.60      0.71      0.49       350\n",
      "\n",
      "avg / total       0.80      0.81      0.65      0.81      0.71      0.51      1407\n",
      "\n"
     ]
    }
   ],
   "source": [
    "# Print the imbalanced classification report- based on below results model is performing well.\n",
    "print(classification_report_imbalanced(y_test, y_pred))"
   ]
  },
  {
   "cell_type": "code",
   "execution_count": 43,
   "id": "66f53792-d066-4f3b-b02e-c78f36749675",
   "metadata": {},
   "outputs": [
    {
     "data": {
      "text/plain": [
       "0.728949858088931"
      ]
     },
     "execution_count": 43,
     "metadata": {},
     "output_type": "execute_result"
    }
   ],
   "source": [
    "# ROC-AUC score\n",
    "roc_auc_score(y_test, y_pred)"
   ]
  },
  {
   "cell_type": "markdown",
   "id": "e5a62e18-cfe7-4006-a704-345f948492d4",
   "metadata": {},
   "source": [
    "# Review results\n",
    "\n",
    "Since the precision for predicting churn rate and recall is low, there is potentrial to improve this model."
   ]
  },
  {
   "cell_type": "markdown",
   "id": "d4261d6f-d74d-4a2a-94f3-0fda370e94e8",
   "metadata": {},
   "source": [
    "# Combination (Over and Under) Sampling\n",
    "\n",
    "In this section, will use a combination over and under sampling algorithm to determine if the results can be improved. Will resample the data using the SMOTEENN algorithm."
   ]
  },
  {
   "cell_type": "code",
   "execution_count": 52,
   "id": "5b080030-7f88-4ca8-89b5-7d0c44354208",
   "metadata": {},
   "outputs": [
    {
     "data": {
      "text/plain": [
       "Counter({0: 4106, 1: 4106})"
      ]
     },
     "execution_count": 52,
     "metadata": {},
     "output_type": "execute_result"
    }
   ],
   "source": [
    "# Resample the training data with SMOTEENN as the data is imbalanced\n",
    "lr_sm = SMOTE(random_state=1)\n",
    "X_resampled, y_resampled = lr_sm.fit_resample(X_train_scaled, y_train)\n",
    "\n",
    "# View the count of target classes with Counter\n",
    "Counter(y_resampled)"
   ]
  },
  {
   "cell_type": "code",
   "execution_count": 53,
   "id": "1b633739-9fc2-45dd-9aea-12065366d306",
   "metadata": {},
   "outputs": [
    {
     "data": {
      "text/plain": [
       "LogisticRegression(random_state=1)"
      ]
     },
     "execution_count": 53,
     "metadata": {},
     "output_type": "execute_result"
    }
   ],
   "source": [
    "# Train the Logistic Regression model using the resampled data\n",
    "lr_cf_model = LogisticRegression(solver='lbfgs', random_state=1)\n",
    "lr_cf_model.fit(X_resampled, y_resampled)"
   ]
  },
  {
   "cell_type": "code",
   "execution_count": 54,
   "id": "79cda618-d415-4d85-b7c1-0abef8c112a3",
   "metadata": {},
   "outputs": [
    {
     "data": {
      "text/plain": [
       "0.7546546830652792"
      ]
     },
     "execution_count": 54,
     "metadata": {},
     "output_type": "execute_result"
    }
   ],
   "source": [
    "# Calculate the balanced accuracy score\n",
    "y_pred = lr_cf_model.predict(X_test_scaled)\n",
    "balanced_accuracy_score(y_test, y_pred)"
   ]
  },
  {
   "cell_type": "code",
   "execution_count": 67,
   "id": "d9908939-bf5e-4c50-999b-6adcf4c2efe9",
   "metadata": {},
   "outputs": [
    {
     "data": {
      "text/plain": [
       "count    1407.000000\n",
       "mean        0.248756\n",
       "std         0.432446\n",
       "min         0.000000\n",
       "25%         0.000000\n",
       "50%         0.000000\n",
       "75%         0.000000\n",
       "max         1.000000\n",
       "Name: churn, dtype: float64"
      ]
     },
     "execution_count": 67,
     "metadata": {},
     "output_type": "execute_result"
    }
   ],
   "source": [
    "y_test.describe()"
   ]
  },
  {
   "cell_type": "code",
   "execution_count": 84,
   "id": "ced187a7-6c3e-4c26-9302-0be3e36fc472",
   "metadata": {},
   "outputs": [
    {
     "data": {
      "text/plain": [
       "array([[763, 294],\n",
       "       [ 73, 277]], dtype=int64)"
      ]
     },
     "execution_count": 84,
     "metadata": {},
     "output_type": "execute_result"
    }
   ],
   "source": [
    "# Display the confusion matrix\n",
    "confusion_matrix(y_test, y_pred)"
   ]
  },
  {
   "cell_type": "code",
   "execution_count": null,
   "id": "dec36778-b4f5-441b-ba39-e4d0c41d1fda",
   "metadata": {},
   "outputs": [],
   "source": [
    "lr_clf_cm = pd.DataFrame(confusion_matrix(y_test, y_pred), index=['Retain', 'Churn'], columns=['Retain', 'Churn'])\n",
    "sns.heatmap(lr_clf_cm, annot=True, cmap='Reds')"
   ]
  },
  {
   "cell_type": "code",
   "execution_count": 57,
   "id": "3af543df-a1ae-4d4e-9c1e-a28c231f22a1",
   "metadata": {},
   "outputs": [
    {
     "name": "stdout",
     "output_type": "stream",
     "text": [
      "                   pre       rec       spe        f1       geo       iba       sup\n",
      "\n",
      "          0       0.90      0.75      0.76      0.82      0.75      0.57      1057\n",
      "          1       0.50      0.76      0.75      0.60      0.75      0.57       350\n",
      "\n",
      "avg / total       0.80      0.75      0.76      0.76      0.75      0.57      1407\n",
      "\n"
     ]
    }
   ],
   "source": [
    "# Print the imbalanced classification report\n",
    "print(classification_report_imbalanced(y_test, y_pred))"
   ]
  },
  {
   "cell_type": "code",
   "execution_count": 59,
   "id": "fa558f32-8927-4511-8010-9cb8856b1e0d",
   "metadata": {},
   "outputs": [
    {
     "data": {
      "text/plain": [
       "0.7546546830652792"
      ]
     },
     "execution_count": 59,
     "metadata": {},
     "output_type": "execute_result"
    }
   ],
   "source": [
    "# ROC-AUC score\n",
    "roc_auc_score(y_test, y_pred)"
   ]
  },
  {
   "cell_type": "markdown",
   "id": "11c19d2d-7acf-4a44-aa2e-1c9613e5af19",
   "metadata": {},
   "source": [
    "# Review results of resampling with SMOTEEN\n",
    "\n",
    "Though the false negatives have come down dramatically the false positives is too high."
   ]
  },
  {
   "cell_type": "markdown",
   "id": "b42b47f5-cac4-4d21-9e49-41562c2d8dac",
   "metadata": {},
   "source": [
    "# Balanced Random Forest Classifier"
   ]
  },
  {
   "cell_type": "code",
   "execution_count": 64,
   "id": "6700b1b7-083f-4606-a536-e3ddc9a0b73f",
   "metadata": {},
   "outputs": [],
   "source": [
    "# Resample the training data with the BalancedRandomForestClassifier\n",
    "brf_model = BalancedRandomForestClassifier(n_estimators=100, random_state=1)\n",
    "brf_model = brf_model.fit(X_train_scaled, y_train)"
   ]
  },
  {
   "cell_type": "code",
   "execution_count": 65,
   "id": "65446a69-c20e-4b02-af1c-8589b3bdf336",
   "metadata": {},
   "outputs": [
    {
     "data": {
      "text/plain": [
       "0.762317880794702"
      ]
     },
     "execution_count": 65,
     "metadata": {},
     "output_type": "execute_result"
    }
   ],
   "source": [
    "# Calculated the balanced accuracy score\n",
    "y_pred = brf_model.predict(X_test_scaled)\n",
    "balanced_accuracy_score(y_test, y_pred)"
   ]
  },
  {
   "cell_type": "code",
   "execution_count": 83,
   "id": "76002a52-f238-40e7-8d69-10e8d1ee02c0",
   "metadata": {},
   "outputs": [
    {
     "data": {
      "text/plain": [
       "array([[763, 294],\n",
       "       [ 73, 277]], dtype=int64)"
      ]
     },
     "execution_count": 83,
     "metadata": {},
     "output_type": "execute_result"
    }
   ],
   "source": [
    "# Display the confusion matrix\n",
    "confusion_matrix(y_test, y_pred)"
   ]
  },
  {
   "cell_type": "code",
   "execution_count": 79,
   "id": "652f6441-669e-40d4-99e9-ddb8e3c12808",
   "metadata": {},
   "outputs": [
    {
     "data": {
      "text/plain": [
       "<AxesSubplot:>"
      ]
     },
     "execution_count": 79,
     "metadata": {},
     "output_type": "execute_result"
    },
    {
     "data": {
      "image/png": "[encoded data removed]",
      "text/plain": [
       "<Figure size 432x288 with 2 Axes>"
      ]
     },
     "metadata": {
      "needs_background": "light"
     },
     "output_type": "display_data"
    }
   ],
   "source": [
    "brf_clf_cm = pd.DataFrame(confusion_matrix(y_test, y_pred), index=['Retain', 'Churn'], columns=['Retain', 'Churn'])\n",
    "sns.heatmap(brf_clf_cm, annot=True, cmap='Reds')"
   ]
  },
  {
   "cell_type": "code",
   "execution_count": 71,
   "id": "4fa79994-d02c-4660-9924-0c13bc96ed40",
   "metadata": {},
   "outputs": [
    {
     "name": "stdout",
     "output_type": "stream",
     "text": [
      "                   pre       rec       spe        f1       geo       iba       sup\n",
      "\n",
      "          0       0.91      0.73      0.79      0.81      0.76      0.58      1057\n",
      "          1       0.50      0.79      0.73      0.61      0.76      0.58       350\n",
      "\n",
      "avg / total       0.81      0.75      0.78      0.76      0.76      0.58      1407\n",
      "\n"
     ]
    }
   ],
   "source": [
    "# Print the imbalanced classification report\n",
    "print(classification_report_imbalanced(y_test, y_pred))"
   ]
  },
  {
   "cell_type": "code",
   "execution_count": 72,
   "id": "59506eda-ff8f-4aad-80f2-adb0dbe076e2",
   "metadata": {},
   "outputs": [
    {
     "data": {
      "text/plain": [
       "[(0.12083629897878728, 'tenure'),\n",
       " (0.11723298714203481, 'total_charges'),\n",
       " (0.11492181490432445, 'monthly_charges'),\n",
       " (0.10183008488075136, 'contract'),\n",
       " (0.09031020384431102, 'city'),\n",
       " (0.08891459315308166, 'zip'),\n",
       " (0.05261345539688971, 'tech_support'),\n",
       " (0.0480543522679358, 'online_security'),\n",
       " (0.04532312212809223, 'dependents'),\n",
       " (0.03620741540781331, 'payment_method'),\n",
       " (0.029103824114619106, 'internet_service'),\n",
       " (0.02381906229311367, 'online_backup'),\n",
       " (0.019604805452287308, 'paperless_billing'),\n",
       " (0.017766756067248406, 'device_protection'),\n",
       " (0.017255352082378522, 'gender'),\n",
       " (0.01624114955322387, 'multiple_lines'),\n",
       " (0.01570225195084802, 'partner'),\n",
       " (0.013539890583595041, 'streaming_tv'),\n",
       " (0.012809504783804656, 'senior_citizen'),\n",
       " (0.012735438809775537, 'streaming_movies'),\n",
       " (0.005177636205084325, 'phone_service')]"
      ]
     },
     "execution_count": 72,
     "metadata": {},
     "output_type": "execute_result"
    }
   ],
   "source": [
    "# List the features sorted in descending order by feature importance\n",
    "importances = brf_model.feature_importances_\n",
    "sorted(zip(brf_model.feature_importances_, X.columns), reverse=True)"
   ]
  },
  {
   "cell_type": "markdown",
   "id": "ebf5aaa0-844f-4e49-ab56-a3057c27316c",
   "metadata": {},
   "source": [
    "# Easy Ensemble Classifier"
   ]
  },
  {
   "cell_type": "code",
   "execution_count": 73,
   "id": "82c6859e-af24-4063-8076-c9f67b2ff06d",
   "metadata": {},
   "outputs": [
    {
     "data": {
      "text/plain": [
       "EasyEnsembleClassifier(n_estimators=100, random_state=1)"
      ]
     },
     "execution_count": 73,
     "metadata": {},
     "output_type": "execute_result"
    }
   ],
   "source": [
    "# Train the Classifier\n",
    "eec_model = EasyEnsembleClassifier(n_estimators=100, random_state=1)\n",
    "eec_model.fit(X_train_scaled, y_train)"
   ]
  },
  {
   "cell_type": "code",
   "execution_count": 74,
   "id": "c635401b-b0e2-44bd-b9c1-3b2646cc5b60",
   "metadata": {},
   "outputs": [
    {
     "data": {
      "text/plain": [
       "0.7566414380321665"
      ]
     },
     "execution_count": 74,
     "metadata": {},
     "output_type": "execute_result"
    }
   ],
   "source": [
    "# Calculated the balanced accuracy score\n",
    "y_pred = eec_model.predict(X_test_scaled)\n",
    "balanced_accuracy_score(y_test, y_pred)"
   ]
  },
  {
   "cell_type": "code",
   "execution_count": 75,
   "id": "381ad3e7-13c4-4661-95a7-8e70c80e5440",
   "metadata": {},
   "outputs": [
    {
     "data": {
      "text/plain": [
       "array([[763, 294],\n",
       "       [ 73, 277]], dtype=int64)"
      ]
     },
     "execution_count": 75,
     "metadata": {},
     "output_type": "execute_result"
    }
   ],
   "source": [
    "# Display the confusion matrix\n",
    "confusion_matrix(y_test, y_pred)"
   ]
  },
  {
   "cell_type": "code",
   "execution_count": 76,
   "id": "85a799f3-c1d6-4d82-beb3-1cf42e5419a0",
   "metadata": {},
   "outputs": [
    {
     "name": "stdout",
     "output_type": "stream",
     "text": [
      "                   pre       rec       spe        f1       geo       iba       sup\n",
      "\n",
      "          0       0.91      0.72      0.79      0.81      0.76      0.57      1057\n",
      "          1       0.49      0.79      0.72      0.60      0.76      0.58       350\n",
      "\n",
      "avg / total       0.81      0.74      0.77      0.76      0.76      0.57      1407\n",
      "\n"
     ]
    }
   ],
   "source": [
    "# Print the imbalanced classification report\n",
    "print(classification_report_imbalanced(y_test, y_pred))"
   ]
  },
  {
   "cell_type": "code",
   "execution_count": null,
   "id": "00330e5f-cd62-4250-bf46-eaf7517faa4a",
   "metadata": {},
   "outputs": [],
   "source": []
  },
  {
   "cell_type": "code",
   "execution_count": null,
   "id": "a5f04554-482c-4787-94a1-38be5d383ef0",
   "metadata": {},
   "outputs": [],
   "source": []
  },
  {
   "cell_type": "code",
   "execution_count": null,
   "id": "350b0f98-e06b-49ea-bd3f-d69bc164433f",
   "metadata": {},
   "outputs": [],
   "source": []
  },
  {
   "cell_type": "code",
   "execution_count": null,
   "id": "f991f7ac-d652-49b7-8d5d-126fc9a91910",
   "metadata": {},
   "outputs": [],
   "source": []
  }
 ],
 "metadata": {
  "kernelspec": {
   "display_name": "Python 3 (ipykernel)",
   "language": "python",
   "name": "python3"
  },
  "language_info": {
   "codemirror_mode": {
    "name": "ipython",
    "version": 3
   },
   "file_extension": ".py",
   "mimetype": "text/x-python",
   "name": "python",
   "nbconvert_exporter": "python",
   "pygments_lexer": "ipython3",
   "version": "3.8.8"
  }
 },
 "nbformat": 4,
 "nbformat_minor": 5
}
