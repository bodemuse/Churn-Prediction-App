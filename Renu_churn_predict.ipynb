{
 "cells": [
  {
   "cell_type": "code",
   "execution_count": 113,
   "id": "bfee4c78-97d6-4685-8021-5086b0c78ce4",
   "metadata": {},
   "outputs": [],
   "source": [
    "# importing packages\n",
    "import numpy as np\n",
    "import pandas as pd\n",
    "from pathlib import Path\n",
    "from sklearn.preprocessing import LabelEncoder\n",
    "from sklearn.preprocessing import StandardScaler\n",
    "from sklearn.model_selection import train_test_split\n",
    "from imblearn.metrics import classification_report_imbalanced\n",
    "from sklearn.metrics import balanced_accuracy_score\n",
    "from sklearn.metrics import confusion_matrix\n",
    "from sklearn.metrics import roc_auc_score\n",
    "from sklearn.metrics import plot_roc_curve\n",
    "from sklearn.ensemble import RandomForestClassifier\n",
    "from imblearn.ensemble import BalancedRandomForestClassifier\n",
    "from imblearn.ensemble import EasyEnsembleClassifier\n",
    "from sklearn.linear_model import LogisticRegression\n",
    "from xgboost import XGBClassifier\n",
    "from imblearn.over_sampling import RandomOverSampler\n",
    "from collections import Counter\n",
    "import xgboost\n",
    "import matplotlib.pyplot as plt\n",
    "import seaborn as sns\n",
    "\n",
    "import warnings\n",
    "warnings.filterwarnings('ignore')\n",
    "\n",
    "%matplotlib inline"
   ]
  },
  {
   "cell_type": "markdown",
   "id": "84750448-4de6-4985-906f-821720958e7a",
   "metadata": {},
   "source": [
    "# PRE PROCESSING FROM CLEANSED DATA FILE"
   ]
  },
  {
   "cell_type": "code",
   "execution_count": 114,
   "id": "54d5560e-3c59-44e5-b1e7-855ce58f3114",
   "metadata": {},
   "outputs": [],
   "source": [
    "# import cleansed data\n",
    "file_path = Path(\"Data/churn_data.csv\")"
   ]
  },
  {
   "cell_type": "code",
   "execution_count": 115,
   "id": "0e2cd7df-eccd-4b16-9ae6-f6c3ac192bcb",
   "metadata": {},
   "outputs": [
    {
     "data": {
      "text/html": [
       "<div>\n",
       "<style scoped>\n",
       "    .dataframe tbody tr th:only-of-type {\n",
       "        vertical-align: middle;\n",
       "    }\n",
       "\n",
       "    .dataframe tbody tr th {\n",
       "        vertical-align: top;\n",
       "    }\n",
       "\n",
       "    .dataframe thead th {\n",
       "        text-align: right;\n",
       "    }\n",
       "</style>\n",
       "<table border=\"1\" class=\"dataframe\">\n",
       "  <thead>\n",
       "    <tr style=\"text-align: right;\">\n",
       "      <th></th>\n",
       "      <th>city</th>\n",
       "      <th>zip</th>\n",
       "      <th>lat</th>\n",
       "      <th>long</th>\n",
       "      <th>gender</th>\n",
       "      <th>senior_citizen</th>\n",
       "      <th>partner</th>\n",
       "      <th>dependents</th>\n",
       "      <th>tenure</th>\n",
       "      <th>phone_service</th>\n",
       "      <th>...</th>\n",
       "      <th>tech_support</th>\n",
       "      <th>streaming_tv</th>\n",
       "      <th>streaming_movies</th>\n",
       "      <th>contract</th>\n",
       "      <th>paperless_billing</th>\n",
       "      <th>payment_method</th>\n",
       "      <th>monthly_charges</th>\n",
       "      <th>total_charges</th>\n",
       "      <th>churn</th>\n",
       "      <th>CLTV</th>\n",
       "    </tr>\n",
       "  </thead>\n",
       "  <tbody>\n",
       "    <tr>\n",
       "      <th>0</th>\n",
       "      <td>Los Angeles</td>\n",
       "      <td>90003</td>\n",
       "      <td>33.964131</td>\n",
       "      <td>-118.272783</td>\n",
       "      <td>Male</td>\n",
       "      <td>No</td>\n",
       "      <td>No</td>\n",
       "      <td>No</td>\n",
       "      <td>2</td>\n",
       "      <td>Yes</td>\n",
       "      <td>...</td>\n",
       "      <td>No</td>\n",
       "      <td>No</td>\n",
       "      <td>No</td>\n",
       "      <td>Month-to-month</td>\n",
       "      <td>Yes</td>\n",
       "      <td>Mailed check</td>\n",
       "      <td>53.85</td>\n",
       "      <td>108.15</td>\n",
       "      <td>1</td>\n",
       "      <td>3239</td>\n",
       "    </tr>\n",
       "    <tr>\n",
       "      <th>1</th>\n",
       "      <td>Los Angeles</td>\n",
       "      <td>90005</td>\n",
       "      <td>34.059281</td>\n",
       "      <td>-118.307420</td>\n",
       "      <td>Female</td>\n",
       "      <td>No</td>\n",
       "      <td>No</td>\n",
       "      <td>Yes</td>\n",
       "      <td>2</td>\n",
       "      <td>Yes</td>\n",
       "      <td>...</td>\n",
       "      <td>No</td>\n",
       "      <td>No</td>\n",
       "      <td>No</td>\n",
       "      <td>Month-to-month</td>\n",
       "      <td>Yes</td>\n",
       "      <td>Electronic check</td>\n",
       "      <td>70.70</td>\n",
       "      <td>151.65</td>\n",
       "      <td>1</td>\n",
       "      <td>2701</td>\n",
       "    </tr>\n",
       "    <tr>\n",
       "      <th>2</th>\n",
       "      <td>Los Angeles</td>\n",
       "      <td>90006</td>\n",
       "      <td>34.048013</td>\n",
       "      <td>-118.293953</td>\n",
       "      <td>Female</td>\n",
       "      <td>No</td>\n",
       "      <td>No</td>\n",
       "      <td>Yes</td>\n",
       "      <td>8</td>\n",
       "      <td>Yes</td>\n",
       "      <td>...</td>\n",
       "      <td>No</td>\n",
       "      <td>Yes</td>\n",
       "      <td>Yes</td>\n",
       "      <td>Month-to-month</td>\n",
       "      <td>Yes</td>\n",
       "      <td>Electronic check</td>\n",
       "      <td>99.65</td>\n",
       "      <td>820.50</td>\n",
       "      <td>1</td>\n",
       "      <td>5372</td>\n",
       "    </tr>\n",
       "    <tr>\n",
       "      <th>3</th>\n",
       "      <td>Los Angeles</td>\n",
       "      <td>90010</td>\n",
       "      <td>34.062125</td>\n",
       "      <td>-118.315709</td>\n",
       "      <td>Female</td>\n",
       "      <td>No</td>\n",
       "      <td>Yes</td>\n",
       "      <td>Yes</td>\n",
       "      <td>28</td>\n",
       "      <td>Yes</td>\n",
       "      <td>...</td>\n",
       "      <td>Yes</td>\n",
       "      <td>Yes</td>\n",
       "      <td>Yes</td>\n",
       "      <td>Month-to-month</td>\n",
       "      <td>Yes</td>\n",
       "      <td>Electronic check</td>\n",
       "      <td>104.80</td>\n",
       "      <td>3046.05</td>\n",
       "      <td>1</td>\n",
       "      <td>5003</td>\n",
       "    </tr>\n",
       "    <tr>\n",
       "      <th>4</th>\n",
       "      <td>Los Angeles</td>\n",
       "      <td>90015</td>\n",
       "      <td>34.039224</td>\n",
       "      <td>-118.266293</td>\n",
       "      <td>Male</td>\n",
       "      <td>No</td>\n",
       "      <td>No</td>\n",
       "      <td>Yes</td>\n",
       "      <td>49</td>\n",
       "      <td>Yes</td>\n",
       "      <td>...</td>\n",
       "      <td>No</td>\n",
       "      <td>Yes</td>\n",
       "      <td>Yes</td>\n",
       "      <td>Month-to-month</td>\n",
       "      <td>Yes</td>\n",
       "      <td>Bank transfer (automatic)</td>\n",
       "      <td>103.70</td>\n",
       "      <td>5036.30</td>\n",
       "      <td>1</td>\n",
       "      <td>5340</td>\n",
       "    </tr>\n",
       "  </tbody>\n",
       "</table>\n",
       "<p>5 rows × 25 columns</p>\n",
       "</div>"
      ],
      "text/plain": [
       "          city    zip        lat        long  gender senior_citizen partner  \\\n",
       "0  Los Angeles  90003  33.964131 -118.272783    Male             No      No   \n",
       "1  Los Angeles  90005  34.059281 -118.307420  Female             No      No   \n",
       "2  Los Angeles  90006  34.048013 -118.293953  Female             No      No   \n",
       "3  Los Angeles  90010  34.062125 -118.315709  Female             No     Yes   \n",
       "4  Los Angeles  90015  34.039224 -118.266293    Male             No      No   \n",
       "\n",
       "  dependents  tenure phone_service  ... tech_support streaming_tv  \\\n",
       "0         No       2           Yes  ...           No           No   \n",
       "1        Yes       2           Yes  ...           No           No   \n",
       "2        Yes       8           Yes  ...           No          Yes   \n",
       "3        Yes      28           Yes  ...          Yes          Yes   \n",
       "4        Yes      49           Yes  ...           No          Yes   \n",
       "\n",
       "  streaming_movies        contract paperless_billing  \\\n",
       "0               No  Month-to-month               Yes   \n",
       "1               No  Month-to-month               Yes   \n",
       "2              Yes  Month-to-month               Yes   \n",
       "3              Yes  Month-to-month               Yes   \n",
       "4              Yes  Month-to-month               Yes   \n",
       "\n",
       "              payment_method monthly_charges total_charges churn  CLTV  \n",
       "0               Mailed check           53.85        108.15     1  3239  \n",
       "1           Electronic check           70.70        151.65     1  2701  \n",
       "2           Electronic check           99.65        820.50     1  5372  \n",
       "3           Electronic check          104.80       3046.05     1  5003  \n",
       "4  Bank transfer (automatic)          103.70       5036.30     1  5340  \n",
       "\n",
       "[5 rows x 25 columns]"
      ]
     },
     "execution_count": 115,
     "metadata": {},
     "output_type": "execute_result"
    }
   ],
   "source": [
    "# Create a DataFrame\n",
    "churn_data_df = pd.read_csv(file_path)\n",
    "churn_data_df.head(5)"
   ]
  },
  {
   "cell_type": "code",
   "execution_count": 116,
   "id": "8d5b8393-9145-44e9-9622-dd639283022a",
   "metadata": {},
   "outputs": [
    {
     "data": {
      "text/html": [
       "<div>\n",
       "<style scoped>\n",
       "    .dataframe tbody tr th:only-of-type {\n",
       "        vertical-align: middle;\n",
       "    }\n",
       "\n",
       "    .dataframe tbody tr th {\n",
       "        vertical-align: top;\n",
       "    }\n",
       "\n",
       "    .dataframe thead th {\n",
       "        text-align: right;\n",
       "    }\n",
       "</style>\n",
       "<table border=\"1\" class=\"dataframe\">\n",
       "  <thead>\n",
       "    <tr style=\"text-align: right;\">\n",
       "      <th></th>\n",
       "      <th>zip</th>\n",
       "      <th>lat</th>\n",
       "      <th>long</th>\n",
       "      <th>tenure</th>\n",
       "      <th>monthly_charges</th>\n",
       "      <th>total_charges</th>\n",
       "      <th>churn</th>\n",
       "      <th>CLTV</th>\n",
       "    </tr>\n",
       "  </thead>\n",
       "  <tbody>\n",
       "    <tr>\n",
       "      <th>count</th>\n",
       "      <td>7032.000000</td>\n",
       "      <td>7032.000000</td>\n",
       "      <td>7032.000000</td>\n",
       "      <td>7032.000000</td>\n",
       "      <td>7032.000000</td>\n",
       "      <td>7032.000000</td>\n",
       "      <td>7032.000000</td>\n",
       "      <td>7032.000000</td>\n",
       "    </tr>\n",
       "    <tr>\n",
       "      <th>mean</th>\n",
       "      <td>93523.032565</td>\n",
       "      <td>36.283307</td>\n",
       "      <td>-119.799215</td>\n",
       "      <td>32.421786</td>\n",
       "      <td>64.798208</td>\n",
       "      <td>2283.300441</td>\n",
       "      <td>0.265785</td>\n",
       "      <td>4401.445108</td>\n",
       "    </tr>\n",
       "    <tr>\n",
       "      <th>std</th>\n",
       "      <td>1865.515958</td>\n",
       "      <td>2.456118</td>\n",
       "      <td>2.157588</td>\n",
       "      <td>24.545260</td>\n",
       "      <td>30.085974</td>\n",
       "      <td>2266.771362</td>\n",
       "      <td>0.441782</td>\n",
       "      <td>1182.414266</td>\n",
       "    </tr>\n",
       "    <tr>\n",
       "      <th>min</th>\n",
       "      <td>90001.000000</td>\n",
       "      <td>32.555828</td>\n",
       "      <td>-124.301372</td>\n",
       "      <td>1.000000</td>\n",
       "      <td>18.250000</td>\n",
       "      <td>18.800000</td>\n",
       "      <td>0.000000</td>\n",
       "      <td>2003.000000</td>\n",
       "    </tr>\n",
       "    <tr>\n",
       "      <th>25%</th>\n",
       "      <td>92102.000000</td>\n",
       "      <td>34.030915</td>\n",
       "      <td>-121.815412</td>\n",
       "      <td>9.000000</td>\n",
       "      <td>35.587500</td>\n",
       "      <td>401.450000</td>\n",
       "      <td>0.000000</td>\n",
       "      <td>3469.750000</td>\n",
       "    </tr>\n",
       "    <tr>\n",
       "      <th>50%</th>\n",
       "      <td>93552.500000</td>\n",
       "      <td>36.391777</td>\n",
       "      <td>-119.735410</td>\n",
       "      <td>29.000000</td>\n",
       "      <td>70.350000</td>\n",
       "      <td>1397.475000</td>\n",
       "      <td>0.000000</td>\n",
       "      <td>4527.500000</td>\n",
       "    </tr>\n",
       "    <tr>\n",
       "      <th>75%</th>\n",
       "      <td>95354.000000</td>\n",
       "      <td>38.227285</td>\n",
       "      <td>-118.043237</td>\n",
       "      <td>55.000000</td>\n",
       "      <td>89.862500</td>\n",
       "      <td>3794.737500</td>\n",
       "      <td>1.000000</td>\n",
       "      <td>5381.000000</td>\n",
       "    </tr>\n",
       "    <tr>\n",
       "      <th>max</th>\n",
       "      <td>96161.000000</td>\n",
       "      <td>41.962127</td>\n",
       "      <td>-114.192901</td>\n",
       "      <td>72.000000</td>\n",
       "      <td>118.750000</td>\n",
       "      <td>8684.800000</td>\n",
       "      <td>1.000000</td>\n",
       "      <td>6500.000000</td>\n",
       "    </tr>\n",
       "  </tbody>\n",
       "</table>\n",
       "</div>"
      ],
      "text/plain": [
       "                zip          lat         long       tenure  monthly_charges  \\\n",
       "count   7032.000000  7032.000000  7032.000000  7032.000000      7032.000000   \n",
       "mean   93523.032565    36.283307  -119.799215    32.421786        64.798208   \n",
       "std     1865.515958     2.456118     2.157588    24.545260        30.085974   \n",
       "min    90001.000000    32.555828  -124.301372     1.000000        18.250000   \n",
       "25%    92102.000000    34.030915  -121.815412     9.000000        35.587500   \n",
       "50%    93552.500000    36.391777  -119.735410    29.000000        70.350000   \n",
       "75%    95354.000000    38.227285  -118.043237    55.000000        89.862500   \n",
       "max    96161.000000    41.962127  -114.192901    72.000000       118.750000   \n",
       "\n",
       "       total_charges        churn         CLTV  \n",
       "count    7032.000000  7032.000000  7032.000000  \n",
       "mean     2283.300441     0.265785  4401.445108  \n",
       "std      2266.771362     0.441782  1182.414266  \n",
       "min        18.800000     0.000000  2003.000000  \n",
       "25%       401.450000     0.000000  3469.750000  \n",
       "50%      1397.475000     0.000000  4527.500000  \n",
       "75%      3794.737500     1.000000  5381.000000  \n",
       "max      8684.800000     1.000000  6500.000000  "
      ]
     },
     "execution_count": 116,
     "metadata": {},
     "output_type": "execute_result"
    }
   ],
   "source": [
    "# View of data set\n",
    "churn_data_df.describe()"
   ]
  },
  {
   "cell_type": "code",
   "execution_count": 117,
   "id": "bbac8c8e-14a1-4f6a-82f5-b3f666b23613",
   "metadata": {},
   "outputs": [
    {
     "data": {
      "text/html": [
       "<div>\n",
       "<style scoped>\n",
       "    .dataframe tbody tr th:only-of-type {\n",
       "        vertical-align: middle;\n",
       "    }\n",
       "\n",
       "    .dataframe tbody tr th {\n",
       "        vertical-align: top;\n",
       "    }\n",
       "\n",
       "    .dataframe thead th {\n",
       "        text-align: right;\n",
       "    }\n",
       "</style>\n",
       "<table border=\"1\" class=\"dataframe\">\n",
       "  <thead>\n",
       "    <tr style=\"text-align: right;\">\n",
       "      <th></th>\n",
       "      <th>city</th>\n",
       "      <th>zip</th>\n",
       "      <th>lat</th>\n",
       "      <th>long</th>\n",
       "      <th>gender</th>\n",
       "      <th>senior_citizen</th>\n",
       "      <th>partner</th>\n",
       "      <th>dependents</th>\n",
       "      <th>tenure</th>\n",
       "      <th>phone_service</th>\n",
       "      <th>...</th>\n",
       "      <th>tech_support</th>\n",
       "      <th>streaming_tv</th>\n",
       "      <th>streaming_movies</th>\n",
       "      <th>contract</th>\n",
       "      <th>paperless_billing</th>\n",
       "      <th>payment_method</th>\n",
       "      <th>monthly_charges</th>\n",
       "      <th>total_charges</th>\n",
       "      <th>churn</th>\n",
       "      <th>CLTV</th>\n",
       "    </tr>\n",
       "  </thead>\n",
       "  <tbody>\n",
       "    <tr>\n",
       "      <th>0</th>\n",
       "      <td>562</td>\n",
       "      <td>90003</td>\n",
       "      <td>33.964131</td>\n",
       "      <td>-118.272783</td>\n",
       "      <td>1</td>\n",
       "      <td>0</td>\n",
       "      <td>0</td>\n",
       "      <td>0</td>\n",
       "      <td>2</td>\n",
       "      <td>1</td>\n",
       "      <td>...</td>\n",
       "      <td>0</td>\n",
       "      <td>0</td>\n",
       "      <td>0</td>\n",
       "      <td>0</td>\n",
       "      <td>1</td>\n",
       "      <td>3</td>\n",
       "      <td>53.85</td>\n",
       "      <td>108.15</td>\n",
       "      <td>1</td>\n",
       "      <td>3239</td>\n",
       "    </tr>\n",
       "    <tr>\n",
       "      <th>1</th>\n",
       "      <td>562</td>\n",
       "      <td>90005</td>\n",
       "      <td>34.059281</td>\n",
       "      <td>-118.307420</td>\n",
       "      <td>0</td>\n",
       "      <td>0</td>\n",
       "      <td>0</td>\n",
       "      <td>1</td>\n",
       "      <td>2</td>\n",
       "      <td>1</td>\n",
       "      <td>...</td>\n",
       "      <td>0</td>\n",
       "      <td>0</td>\n",
       "      <td>0</td>\n",
       "      <td>0</td>\n",
       "      <td>1</td>\n",
       "      <td>2</td>\n",
       "      <td>70.70</td>\n",
       "      <td>151.65</td>\n",
       "      <td>1</td>\n",
       "      <td>2701</td>\n",
       "    </tr>\n",
       "    <tr>\n",
       "      <th>2</th>\n",
       "      <td>562</td>\n",
       "      <td>90006</td>\n",
       "      <td>34.048013</td>\n",
       "      <td>-118.293953</td>\n",
       "      <td>0</td>\n",
       "      <td>0</td>\n",
       "      <td>0</td>\n",
       "      <td>1</td>\n",
       "      <td>8</td>\n",
       "      <td>1</td>\n",
       "      <td>...</td>\n",
       "      <td>0</td>\n",
       "      <td>2</td>\n",
       "      <td>2</td>\n",
       "      <td>0</td>\n",
       "      <td>1</td>\n",
       "      <td>2</td>\n",
       "      <td>99.65</td>\n",
       "      <td>820.50</td>\n",
       "      <td>1</td>\n",
       "      <td>5372</td>\n",
       "    </tr>\n",
       "    <tr>\n",
       "      <th>3</th>\n",
       "      <td>562</td>\n",
       "      <td>90010</td>\n",
       "      <td>34.062125</td>\n",
       "      <td>-118.315709</td>\n",
       "      <td>0</td>\n",
       "      <td>0</td>\n",
       "      <td>1</td>\n",
       "      <td>1</td>\n",
       "      <td>28</td>\n",
       "      <td>1</td>\n",
       "      <td>...</td>\n",
       "      <td>2</td>\n",
       "      <td>2</td>\n",
       "      <td>2</td>\n",
       "      <td>0</td>\n",
       "      <td>1</td>\n",
       "      <td>2</td>\n",
       "      <td>104.80</td>\n",
       "      <td>3046.05</td>\n",
       "      <td>1</td>\n",
       "      <td>5003</td>\n",
       "    </tr>\n",
       "    <tr>\n",
       "      <th>4</th>\n",
       "      <td>562</td>\n",
       "      <td>90015</td>\n",
       "      <td>34.039224</td>\n",
       "      <td>-118.266293</td>\n",
       "      <td>1</td>\n",
       "      <td>0</td>\n",
       "      <td>0</td>\n",
       "      <td>1</td>\n",
       "      <td>49</td>\n",
       "      <td>1</td>\n",
       "      <td>...</td>\n",
       "      <td>0</td>\n",
       "      <td>2</td>\n",
       "      <td>2</td>\n",
       "      <td>0</td>\n",
       "      <td>1</td>\n",
       "      <td>0</td>\n",
       "      <td>103.70</td>\n",
       "      <td>5036.30</td>\n",
       "      <td>1</td>\n",
       "      <td>5340</td>\n",
       "    </tr>\n",
       "  </tbody>\n",
       "</table>\n",
       "<p>5 rows × 25 columns</p>\n",
       "</div>"
      ],
      "text/plain": [
       "   city    zip        lat        long  gender  senior_citizen  partner  \\\n",
       "0   562  90003  33.964131 -118.272783       1               0        0   \n",
       "1   562  90005  34.059281 -118.307420       0               0        0   \n",
       "2   562  90006  34.048013 -118.293953       0               0        0   \n",
       "3   562  90010  34.062125 -118.315709       0               0        1   \n",
       "4   562  90015  34.039224 -118.266293       1               0        0   \n",
       "\n",
       "   dependents  tenure  phone_service  ...  tech_support  streaming_tv  \\\n",
       "0           0       2              1  ...             0             0   \n",
       "1           1       2              1  ...             0             0   \n",
       "2           1       8              1  ...             0             2   \n",
       "3           1      28              1  ...             2             2   \n",
       "4           1      49              1  ...             0             2   \n",
       "\n",
       "   streaming_movies  contract  paperless_billing  payment_method  \\\n",
       "0                 0         0                  1               3   \n",
       "1                 0         0                  1               2   \n",
       "2                 2         0                  1               2   \n",
       "3                 2         0                  1               2   \n",
       "4                 2         0                  1               0   \n",
       "\n",
       "   monthly_charges  total_charges  churn  CLTV  \n",
       "0            53.85         108.15      1  3239  \n",
       "1            70.70         151.65      1  2701  \n",
       "2            99.65         820.50      1  5372  \n",
       "3           104.80        3046.05      1  5003  \n",
       "4           103.70        5036.30      1  5340  \n",
       "\n",
       "[5 rows x 25 columns]"
      ]
     },
     "execution_count": 117,
     "metadata": {},
     "output_type": "execute_result"
    }
   ],
   "source": [
    "# Encode all the categorical data\n",
    "categorical_cols = ['city', 'gender', 'senior_citizen', 'partner', 'dependents', 'phone_service', 'multiple_lines', 'internet_service',\n",
    "                   'online_security', 'online_backup','device_protection', 'tech_support', 'streaming_tv', 'streaming_movies',\n",
    "                    'contract', 'paperless_billing', 'payment_method']\n",
    "encoders = {}\n",
    "\n",
    "for i in categorical_cols:\n",
    "    encoders[i] = LabelEncoder()\n",
    "    churn_data_df[i] = encoders[i].fit_transform(churn_data_df[i])\n",
    "\n",
    "churn_data_df.head()"
   ]
  },
  {
   "cell_type": "code",
   "execution_count": 118,
   "id": "90cd2074-3287-4847-a6ac-d57e91fc40e4",
   "metadata": {},
   "outputs": [],
   "source": [
    "# Split the data into X and y features\n",
    "#X = churn_data_df.iloc[:, :-1]\n",
    "#y = churn_data_df.iloc[:, -1]\n",
    "\n",
    "X = churn_data_df.drop(columns= 'churn')\n",
    "y = churn_data_df['churn']"
   ]
  },
  {
   "cell_type": "code",
   "execution_count": 119,
   "id": "29691a25-16de-46e5-a521-94402c800e3d",
   "metadata": {},
   "outputs": [
    {
     "data": {
      "text/html": [
       "<div>\n",
       "<style scoped>\n",
       "    .dataframe tbody tr th:only-of-type {\n",
       "        vertical-align: middle;\n",
       "    }\n",
       "\n",
       "    .dataframe tbody tr th {\n",
       "        vertical-align: top;\n",
       "    }\n",
       "\n",
       "    .dataframe thead th {\n",
       "        text-align: right;\n",
       "    }\n",
       "</style>\n",
       "<table border=\"1\" class=\"dataframe\">\n",
       "  <thead>\n",
       "    <tr style=\"text-align: right;\">\n",
       "      <th></th>\n",
       "      <th>city</th>\n",
       "      <th>zip</th>\n",
       "      <th>lat</th>\n",
       "      <th>long</th>\n",
       "      <th>gender</th>\n",
       "      <th>senior_citizen</th>\n",
       "      <th>partner</th>\n",
       "      <th>dependents</th>\n",
       "      <th>tenure</th>\n",
       "      <th>phone_service</th>\n",
       "      <th>...</th>\n",
       "      <th>device_protection</th>\n",
       "      <th>tech_support</th>\n",
       "      <th>streaming_tv</th>\n",
       "      <th>streaming_movies</th>\n",
       "      <th>contract</th>\n",
       "      <th>paperless_billing</th>\n",
       "      <th>payment_method</th>\n",
       "      <th>monthly_charges</th>\n",
       "      <th>total_charges</th>\n",
       "      <th>CLTV</th>\n",
       "    </tr>\n",
       "  </thead>\n",
       "  <tbody>\n",
       "    <tr>\n",
       "      <th>count</th>\n",
       "      <td>7032.000000</td>\n",
       "      <td>7032.000000</td>\n",
       "      <td>7032.000000</td>\n",
       "      <td>7032.000000</td>\n",
       "      <td>7032.000000</td>\n",
       "      <td>7032.000000</td>\n",
       "      <td>7032.000000</td>\n",
       "      <td>7032.000000</td>\n",
       "      <td>7032.000000</td>\n",
       "      <td>7032.000000</td>\n",
       "      <td>...</td>\n",
       "      <td>7032.000000</td>\n",
       "      <td>7032.000000</td>\n",
       "      <td>7032.000000</td>\n",
       "      <td>7032.000000</td>\n",
       "      <td>7032.000000</td>\n",
       "      <td>7032.000000</td>\n",
       "      <td>7032.000000</td>\n",
       "      <td>7032.000000</td>\n",
       "      <td>7032.000000</td>\n",
       "      <td>7032.000000</td>\n",
       "    </tr>\n",
       "    <tr>\n",
       "      <th>mean</th>\n",
       "      <td>593.711889</td>\n",
       "      <td>93523.032565</td>\n",
       "      <td>36.283307</td>\n",
       "      <td>-119.799215</td>\n",
       "      <td>0.504693</td>\n",
       "      <td>0.162400</td>\n",
       "      <td>0.482509</td>\n",
       "      <td>0.230375</td>\n",
       "      <td>32.421786</td>\n",
       "      <td>0.903299</td>\n",
       "      <td>...</td>\n",
       "      <td>0.903868</td>\n",
       "      <td>0.796359</td>\n",
       "      <td>0.984926</td>\n",
       "      <td>0.992890</td>\n",
       "      <td>0.688567</td>\n",
       "      <td>0.592719</td>\n",
       "      <td>1.573237</td>\n",
       "      <td>64.798208</td>\n",
       "      <td>2283.300441</td>\n",
       "      <td>4401.445108</td>\n",
       "    </tr>\n",
       "    <tr>\n",
       "      <th>std</th>\n",
       "      <td>314.937096</td>\n",
       "      <td>1865.515958</td>\n",
       "      <td>2.456118</td>\n",
       "      <td>2.157588</td>\n",
       "      <td>0.500014</td>\n",
       "      <td>0.368844</td>\n",
       "      <td>0.499729</td>\n",
       "      <td>0.421103</td>\n",
       "      <td>24.545260</td>\n",
       "      <td>0.295571</td>\n",
       "      <td>...</td>\n",
       "      <td>0.880178</td>\n",
       "      <td>0.861674</td>\n",
       "      <td>0.885285</td>\n",
       "      <td>0.885385</td>\n",
       "      <td>0.832934</td>\n",
       "      <td>0.491363</td>\n",
       "      <td>1.067504</td>\n",
       "      <td>30.085974</td>\n",
       "      <td>2266.771362</td>\n",
       "      <td>1182.414266</td>\n",
       "    </tr>\n",
       "    <tr>\n",
       "      <th>min</th>\n",
       "      <td>0.000000</td>\n",
       "      <td>90001.000000</td>\n",
       "      <td>32.555828</td>\n",
       "      <td>-124.301372</td>\n",
       "      <td>0.000000</td>\n",
       "      <td>0.000000</td>\n",
       "      <td>0.000000</td>\n",
       "      <td>0.000000</td>\n",
       "      <td>1.000000</td>\n",
       "      <td>0.000000</td>\n",
       "      <td>...</td>\n",
       "      <td>0.000000</td>\n",
       "      <td>0.000000</td>\n",
       "      <td>0.000000</td>\n",
       "      <td>0.000000</td>\n",
       "      <td>0.000000</td>\n",
       "      <td>0.000000</td>\n",
       "      <td>0.000000</td>\n",
       "      <td>18.250000</td>\n",
       "      <td>18.800000</td>\n",
       "      <td>2003.000000</td>\n",
       "    </tr>\n",
       "    <tr>\n",
       "      <th>25%</th>\n",
       "      <td>337.000000</td>\n",
       "      <td>92102.000000</td>\n",
       "      <td>34.030915</td>\n",
       "      <td>-121.815412</td>\n",
       "      <td>0.000000</td>\n",
       "      <td>0.000000</td>\n",
       "      <td>0.000000</td>\n",
       "      <td>0.000000</td>\n",
       "      <td>9.000000</td>\n",
       "      <td>1.000000</td>\n",
       "      <td>...</td>\n",
       "      <td>0.000000</td>\n",
       "      <td>0.000000</td>\n",
       "      <td>0.000000</td>\n",
       "      <td>0.000000</td>\n",
       "      <td>0.000000</td>\n",
       "      <td>0.000000</td>\n",
       "      <td>1.000000</td>\n",
       "      <td>35.587500</td>\n",
       "      <td>401.450000</td>\n",
       "      <td>3469.750000</td>\n",
       "    </tr>\n",
       "    <tr>\n",
       "      <th>50%</th>\n",
       "      <td>601.000000</td>\n",
       "      <td>93552.500000</td>\n",
       "      <td>36.391777</td>\n",
       "      <td>-119.735410</td>\n",
       "      <td>1.000000</td>\n",
       "      <td>0.000000</td>\n",
       "      <td>0.000000</td>\n",
       "      <td>0.000000</td>\n",
       "      <td>29.000000</td>\n",
       "      <td>1.000000</td>\n",
       "      <td>...</td>\n",
       "      <td>1.000000</td>\n",
       "      <td>1.000000</td>\n",
       "      <td>1.000000</td>\n",
       "      <td>1.000000</td>\n",
       "      <td>0.000000</td>\n",
       "      <td>1.000000</td>\n",
       "      <td>2.000000</td>\n",
       "      <td>70.350000</td>\n",
       "      <td>1397.475000</td>\n",
       "      <td>4527.500000</td>\n",
       "    </tr>\n",
       "    <tr>\n",
       "      <th>75%</th>\n",
       "      <td>869.000000</td>\n",
       "      <td>95354.000000</td>\n",
       "      <td>38.227285</td>\n",
       "      <td>-118.043237</td>\n",
       "      <td>1.000000</td>\n",
       "      <td>0.000000</td>\n",
       "      <td>1.000000</td>\n",
       "      <td>0.000000</td>\n",
       "      <td>55.000000</td>\n",
       "      <td>1.000000</td>\n",
       "      <td>...</td>\n",
       "      <td>2.000000</td>\n",
       "      <td>2.000000</td>\n",
       "      <td>2.000000</td>\n",
       "      <td>2.000000</td>\n",
       "      <td>1.000000</td>\n",
       "      <td>1.000000</td>\n",
       "      <td>2.000000</td>\n",
       "      <td>89.862500</td>\n",
       "      <td>3794.737500</td>\n",
       "      <td>5381.000000</td>\n",
       "    </tr>\n",
       "    <tr>\n",
       "      <th>max</th>\n",
       "      <td>1128.000000</td>\n",
       "      <td>96161.000000</td>\n",
       "      <td>41.962127</td>\n",
       "      <td>-114.192901</td>\n",
       "      <td>1.000000</td>\n",
       "      <td>1.000000</td>\n",
       "      <td>1.000000</td>\n",
       "      <td>1.000000</td>\n",
       "      <td>72.000000</td>\n",
       "      <td>1.000000</td>\n",
       "      <td>...</td>\n",
       "      <td>2.000000</td>\n",
       "      <td>2.000000</td>\n",
       "      <td>2.000000</td>\n",
       "      <td>2.000000</td>\n",
       "      <td>2.000000</td>\n",
       "      <td>1.000000</td>\n",
       "      <td>3.000000</td>\n",
       "      <td>118.750000</td>\n",
       "      <td>8684.800000</td>\n",
       "      <td>6500.000000</td>\n",
       "    </tr>\n",
       "  </tbody>\n",
       "</table>\n",
       "<p>8 rows × 24 columns</p>\n",
       "</div>"
      ],
      "text/plain": [
       "              city           zip          lat         long       gender  \\\n",
       "count  7032.000000   7032.000000  7032.000000  7032.000000  7032.000000   \n",
       "mean    593.711889  93523.032565    36.283307  -119.799215     0.504693   \n",
       "std     314.937096   1865.515958     2.456118     2.157588     0.500014   \n",
       "min       0.000000  90001.000000    32.555828  -124.301372     0.000000   \n",
       "25%     337.000000  92102.000000    34.030915  -121.815412     0.000000   \n",
       "50%     601.000000  93552.500000    36.391777  -119.735410     1.000000   \n",
       "75%     869.000000  95354.000000    38.227285  -118.043237     1.000000   \n",
       "max    1128.000000  96161.000000    41.962127  -114.192901     1.000000   \n",
       "\n",
       "       senior_citizen      partner   dependents       tenure  phone_service  \\\n",
       "count     7032.000000  7032.000000  7032.000000  7032.000000    7032.000000   \n",
       "mean         0.162400     0.482509     0.230375    32.421786       0.903299   \n",
       "std          0.368844     0.499729     0.421103    24.545260       0.295571   \n",
       "min          0.000000     0.000000     0.000000     1.000000       0.000000   \n",
       "25%          0.000000     0.000000     0.000000     9.000000       1.000000   \n",
       "50%          0.000000     0.000000     0.000000    29.000000       1.000000   \n",
       "75%          0.000000     1.000000     0.000000    55.000000       1.000000   \n",
       "max          1.000000     1.000000     1.000000    72.000000       1.000000   \n",
       "\n",
       "       ...  device_protection  tech_support  streaming_tv  streaming_movies  \\\n",
       "count  ...        7032.000000   7032.000000   7032.000000       7032.000000   \n",
       "mean   ...           0.903868      0.796359      0.984926          0.992890   \n",
       "std    ...           0.880178      0.861674      0.885285          0.885385   \n",
       "min    ...           0.000000      0.000000      0.000000          0.000000   \n",
       "25%    ...           0.000000      0.000000      0.000000          0.000000   \n",
       "50%    ...           1.000000      1.000000      1.000000          1.000000   \n",
       "75%    ...           2.000000      2.000000      2.000000          2.000000   \n",
       "max    ...           2.000000      2.000000      2.000000          2.000000   \n",
       "\n",
       "          contract  paperless_billing  payment_method  monthly_charges  \\\n",
       "count  7032.000000        7032.000000     7032.000000      7032.000000   \n",
       "mean      0.688567           0.592719        1.573237        64.798208   \n",
       "std       0.832934           0.491363        1.067504        30.085974   \n",
       "min       0.000000           0.000000        0.000000        18.250000   \n",
       "25%       0.000000           0.000000        1.000000        35.587500   \n",
       "50%       0.000000           1.000000        2.000000        70.350000   \n",
       "75%       1.000000           1.000000        2.000000        89.862500   \n",
       "max       2.000000           1.000000        3.000000       118.750000   \n",
       "\n",
       "       total_charges         CLTV  \n",
       "count    7032.000000  7032.000000  \n",
       "mean     2283.300441  4401.445108  \n",
       "std      2266.771362  1182.414266  \n",
       "min        18.800000  2003.000000  \n",
       "25%       401.450000  3469.750000  \n",
       "50%      1397.475000  4527.500000  \n",
       "75%      3794.737500  5381.000000  \n",
       "max      8684.800000  6500.000000  \n",
       "\n",
       "[8 rows x 24 columns]"
      ]
     },
     "execution_count": 119,
     "metadata": {},
     "output_type": "execute_result"
    }
   ],
   "source": [
    "# Summary stats of data set\n",
    "X.describe()"
   ]
  },
  {
   "cell_type": "code",
   "execution_count": 120,
   "id": "45d17bb4-1a13-45f3-892e-efcfbe3c86db",
   "metadata": {},
   "outputs": [
    {
     "data": {
      "text/plain": [
       "0    5163\n",
       "1    1869\n",
       "Name: churn, dtype: int64"
      ]
     },
     "execution_count": 120,
     "metadata": {},
     "output_type": "execute_result"
    }
   ],
   "source": [
    "# Checking the balance of the Target values- Data is imbalanced.\n",
    "y.value_counts()"
   ]
  },
  {
   "cell_type": "code",
   "execution_count": 156,
   "id": "f3c132d6-6a76-477f-9c53-24d514abe2ee",
   "metadata": {},
   "outputs": [],
   "source": [
    "# Creating Train and Test split for X and y- 80 to 20 split\n",
    "X_train, X_test, y_train, y_test = train_test_split(X, \n",
    "                                                    y,\n",
    "                                                    test_size=0.3,\n",
    "                                                    shuffle=True, \n",
    "                                                    random_state=1)"
   ]
  },
  {
   "cell_type": "code",
   "execution_count": 157,
   "id": "4ad08442-ce05-4cee-9dee-bca2d63e10cb",
   "metadata": {},
   "outputs": [
    {
     "name": "stdout",
     "output_type": "stream",
     "text": [
      "0    3590\n",
      "1    1332\n",
      "Name: churn, dtype: int64\n",
      "0    1573\n",
      "1     537\n",
      "Name: churn, dtype: int64\n"
     ]
    }
   ],
   "source": [
    "# Data count for train and test\n",
    "c= pd.DataFrame(y_train)\n",
    "k = pd.DataFrame(y_test)\n",
    "print(c['churn'].value_counts())\n",
    "print(k['churn'].value_counts())"
   ]
  },
  {
   "cell_type": "code",
   "execution_count": 123,
   "id": "30a2c943-04af-4c09-891c-b67f37854588",
   "metadata": {},
   "outputs": [],
   "source": [
    "# Creating standard scaler instance and fit the training data\n",
    "scaler = StandardScaler()\n",
    "X_scaler = scaler.fit(X_train)"
   ]
  },
  {
   "cell_type": "code",
   "execution_count": 124,
   "id": "5ce97c6e-ba70-40b3-b9d0-2c778f121856",
   "metadata": {},
   "outputs": [],
   "source": [
    "# Scaling Train and Test data\n",
    "X_train_scaled = X_scaler.transform(X_train)\n",
    "X_test_scaled = X_scaler.transform(X_test)"
   ]
  },
  {
   "cell_type": "markdown",
   "id": "e2003314-20dd-4201-8bac-842ca79ff5f2",
   "metadata": {},
   "source": [
    "# SIMPLE LOGISTIC REGRESSION CLASSIFIER"
   ]
  },
  {
   "cell_type": "code",
   "execution_count": 125,
   "id": "be662127-ee9b-4b74-a7f9-9a7bcba633e6",
   "metadata": {},
   "outputs": [
    {
     "data": {
      "text/plain": [
       "LogisticRegression(random_state=1)"
      ]
     },
     "execution_count": 125,
     "metadata": {},
     "output_type": "execute_result"
    }
   ],
   "source": [
    "lr_clf = LogisticRegression(solver='lbfgs', random_state=1)\n",
    "lr_clf.fit(X_train_scaled, y_train) "
   ]
  },
  {
   "cell_type": "code",
   "execution_count": 126,
   "id": "b4530704-c0de-4a82-bbfc-90ae1383a669",
   "metadata": {},
   "outputs": [
    {
     "data": {
      "text/plain": [
       "0.7302436009901728"
      ]
     },
     "execution_count": 126,
     "metadata": {},
     "output_type": "execute_result"
    }
   ],
   "source": [
    "# Calculate the balanced accuracy score i.e. make predictions/calculate accuracy. Looks good in this instance.\n",
    "y_pred = lr_clf.predict(X_test_scaled)\n",
    "balanced_accuracy_score(y_test, y_pred)"
   ]
  },
  {
   "cell_type": "code",
   "execution_count": 127,
   "id": "f22e0819-67c0-40a3-92bf-7f1051decfeb",
   "metadata": {},
   "outputs": [
    {
     "data": {
      "text/plain": [
       "array([[1401,  172],\n",
       "       [ 231,  306]], dtype=int64)"
      ]
     },
     "execution_count": 127,
     "metadata": {},
     "output_type": "execute_result"
    }
   ],
   "source": [
    "# Display the confusion matrix\n",
    "confusion_matrix(y_test, y_pred)"
   ]
  },
  {
   "cell_type": "code",
   "execution_count": 128,
   "id": "7b91b60b-0128-4443-bc57-906b6a2b7021",
   "metadata": {},
   "outputs": [
    {
     "data": {
      "text/plain": [
       "<AxesSubplot:>"
      ]
     },
     "execution_count": 128,
     "metadata": {},
     "output_type": "execute_result"
    },
    {
     "data": {
      "image/png": "[encoded data removed]",
      "text/plain": [
       "<Figure size 432x288 with 2 Axes>"
      ]
     },
     "metadata": {
      "needs_background": "light"
     },
     "output_type": "display_data"
    }
   ],
   "source": [
    "# Display Confusion Matrix heatmap\n",
    "lr_clf_cm = pd.DataFrame(confusion_matrix(y_test, y_pred), index=['Retain', 'Churn'], columns=['Retain', 'Churn'])\n",
    "sns.heatmap(lr_clf_cm, annot=True, cmap='Reds')"
   ]
  },
  {
   "cell_type": "code",
   "execution_count": 129,
   "id": "2482a18d-c330-4328-bb4b-160356c28934",
   "metadata": {},
   "outputs": [
    {
     "name": "stdout",
     "output_type": "stream",
     "text": [
      "                   pre       rec       spe        f1       geo       iba       sup\n",
      "\n",
      "          0       0.86      0.89      0.57      0.87      0.71      0.52      1573\n",
      "          1       0.64      0.57      0.89      0.60      0.71      0.49       537\n",
      "\n",
      "avg / total       0.80      0.81      0.65      0.81      0.71      0.52      2110\n",
      "\n"
     ]
    }
   ],
   "source": [
    "# Print the imbalanced classification report- based on below results model is performing well.\n",
    "print(classification_report_imbalanced(y_test, y_pred))"
   ]
  },
  {
   "cell_type": "code",
   "execution_count": 130,
   "id": "66f53792-d066-4f3b-b02e-c78f36749675",
   "metadata": {},
   "outputs": [
    {
     "data": {
      "text/plain": [
       "0.7302436009901728"
      ]
     },
     "execution_count": 130,
     "metadata": {},
     "output_type": "execute_result"
    }
   ],
   "source": [
    "# ROC-AUC score\n",
    "roc_auc_score(y_test, y_pred)"
   ]
  },
  {
   "cell_type": "markdown",
   "id": "e5a62e18-cfe7-4006-a704-345f948492d4",
   "metadata": {},
   "source": [
    "# Review results\n",
    "\n",
    "Since the precision for predicting churn rate and recall is low, there is potentrial to improve this model."
   ]
  },
  {
   "cell_type": "markdown",
   "id": "d4261d6f-d74d-4a2a-94f3-0fda370e94e8",
   "metadata": {},
   "source": [
    "# Over Sampling- does not help- makes precision worse!\n",
    "\n",
    "In this section, will use oversampling alogrithm to balance the data set."
   ]
  },
  {
   "cell_type": "code",
   "execution_count": 131,
   "id": "5b080030-7f88-4ca8-89b5-7d0c44354208",
   "metadata": {},
   "outputs": [
    {
     "data": {
      "text/plain": [
       "Counter({1: 3590, 0: 3590})"
      ]
     },
     "execution_count": 131,
     "metadata": {},
     "output_type": "execute_result"
    }
   ],
   "source": [
    "# Resample the training data with the RandomOversampler- note scaled data is resampled.\n",
    "# implement random oversampling- all libraries loaded at the start\n",
    "ros = RandomOverSampler(random_state=1)\n",
    "X_resampled, y_resampled = ros.fit_resample(X_train_scaled, y_train)\n",
    "\n",
    "# View the count of target classes with Counter\n",
    "Counter(y_resampled)"
   ]
  },
  {
   "cell_type": "code",
   "execution_count": 132,
   "id": "1b633739-9fc2-45dd-9aea-12065366d306",
   "metadata": {},
   "outputs": [
    {
     "data": {
      "text/plain": [
       "LogisticRegression(random_state=1)"
      ]
     },
     "execution_count": 132,
     "metadata": {},
     "output_type": "execute_result"
    }
   ],
   "source": [
    "# Train the Logistic Regression model using the resampled data\n",
    "lr_cf_model = LogisticRegression(solver='lbfgs', random_state=1)\n",
    "lr_cf_model.fit(X_resampled, y_resampled)"
   ]
  },
  {
   "cell_type": "code",
   "execution_count": 133,
   "id": "79cda618-d415-4d85-b7c1-0abef8c112a3",
   "metadata": {},
   "outputs": [
    {
     "data": {
      "text/plain": [
       "0.7623715373842341"
      ]
     },
     "execution_count": 133,
     "metadata": {},
     "output_type": "execute_result"
    }
   ],
   "source": [
    "# Calculate the balanced accuracy score\n",
    "y_pred = lr_cf_model.predict(X_test_scaled)\n",
    "balanced_accuracy_score(y_test, y_pred)"
   ]
  },
  {
   "cell_type": "code",
   "execution_count": 134,
   "id": "d9908939-bf5e-4c50-999b-6adcf4c2efe9",
   "metadata": {},
   "outputs": [
    {
     "data": {
      "text/plain": [
       "count    2110.000000\n",
       "mean        0.254502\n",
       "std         0.435684\n",
       "min         0.000000\n",
       "25%         0.000000\n",
       "50%         0.000000\n",
       "75%         1.000000\n",
       "max         1.000000\n",
       "Name: churn, dtype: float64"
      ]
     },
     "execution_count": 134,
     "metadata": {},
     "output_type": "execute_result"
    }
   ],
   "source": [
    "y_test.describe()"
   ]
  },
  {
   "cell_type": "code",
   "execution_count": 135,
   "id": "ced187a7-6c3e-4c26-9302-0be3e36fc472",
   "metadata": {},
   "outputs": [
    {
     "data": {
      "text/plain": [
       "array([[1174,  399],\n",
       "       [ 119,  418]], dtype=int64)"
      ]
     },
     "execution_count": 135,
     "metadata": {},
     "output_type": "execute_result"
    }
   ],
   "source": [
    "# Display the Confusion Matrix\n",
    "confusion_matrix(y_test, y_pred)"
   ]
  },
  {
   "cell_type": "code",
   "execution_count": 136,
   "id": "dec36778-b4f5-441b-ba39-e4d0c41d1fda",
   "metadata": {},
   "outputs": [
    {
     "data": {
      "text/plain": [
       "<AxesSubplot:>"
      ]
     },
     "execution_count": 136,
     "metadata": {},
     "output_type": "execute_result"
    },
    {
     "data": {
      "image/png": "[encoded data removed]",
      "text/plain": [
       "<Figure size 432x288 with 2 Axes>"
      ]
     },
     "metadata": {
      "needs_background": "light"
     },
     "output_type": "display_data"
    }
   ],
   "source": [
    "# Display Confusion Matrix heatmap\n",
    "lr_clf_cm = pd.DataFrame(confusion_matrix(y_test, y_pred), index=['Retain', 'Churn'], columns=['Retain', 'Churn'])\n",
    "sns.heatmap(lr_clf_cm, annot=True, cmap='Reds')"
   ]
  },
  {
   "cell_type": "code",
   "execution_count": 137,
   "id": "3af543df-a1ae-4d4e-9c1e-a28c231f22a1",
   "metadata": {},
   "outputs": [
    {
     "name": "stdout",
     "output_type": "stream",
     "text": [
      "                   pre       rec       spe        f1       geo       iba       sup\n",
      "\n",
      "          0       0.91      0.75      0.78      0.82      0.76      0.58      1573\n",
      "          1       0.51      0.78      0.75      0.62      0.76      0.58       537\n",
      "\n",
      "avg / total       0.81      0.75      0.77      0.77      0.76      0.58      2110\n",
      "\n"
     ]
    }
   ],
   "source": [
    "# Print the imbalanced classification report\n",
    "print(classification_report_imbalanced(y_test, y_pred))"
   ]
  },
  {
   "cell_type": "code",
   "execution_count": 138,
   "id": "fa558f32-8927-4511-8010-9cb8856b1e0d",
   "metadata": {},
   "outputs": [
    {
     "data": {
      "text/plain": [
       "0.7623715373842341"
      ]
     },
     "execution_count": 138,
     "metadata": {},
     "output_type": "execute_result"
    }
   ],
   "source": [
    "# ROC-AUC score\n",
    "roc_auc_score(y_test, y_pred)"
   ]
  },
  {
   "cell_type": "markdown",
   "id": "b42b47f5-cac4-4d21-9e49-41562c2d8dac",
   "metadata": {},
   "source": [
    "# Balanced Random Forest Classifier"
   ]
  },
  {
   "cell_type": "code",
   "execution_count": 139,
   "id": "6700b1b7-083f-4606-a536-e3ddc9a0b73f",
   "metadata": {},
   "outputs": [],
   "source": [
    "# Resample the training data with the BalancedRandomForestClassifier\n",
    "brf_clf = BalancedRandomForestClassifier(n_estimators=100, random_state=1)\n",
    "brf_clf = brf_clf.fit(X_train_scaled, y_train)"
   ]
  },
  {
   "cell_type": "code",
   "execution_count": 140,
   "id": "65446a69-c20e-4b02-af1c-8589b3bdf336",
   "metadata": {},
   "outputs": [
    {
     "data": {
      "text/plain": [
       "0.76087219027798"
      ]
     },
     "execution_count": 140,
     "metadata": {},
     "output_type": "execute_result"
    }
   ],
   "source": [
    "# Calculated the balanced accuracy score\n",
    "y_pred = brf_clf.predict(X_test_scaled)\n",
    "balanced_accuracy_score(y_test, y_pred)"
   ]
  },
  {
   "cell_type": "code",
   "execution_count": 141,
   "id": "76002a52-f238-40e7-8d69-10e8d1ee02c0",
   "metadata": {},
   "outputs": [
    {
     "data": {
      "text/plain": [
       "array([[1181,  392],\n",
       "       [ 123,  414]], dtype=int64)"
      ]
     },
     "execution_count": 141,
     "metadata": {},
     "output_type": "execute_result"
    }
   ],
   "source": [
    "# Display the Confusion Matrix\n",
    "confusion_matrix(y_test, y_pred)"
   ]
  },
  {
   "cell_type": "code",
   "execution_count": 142,
   "id": "652f6441-669e-40d4-99e9-ddb8e3c12808",
   "metadata": {},
   "outputs": [
    {
     "data": {
      "text/plain": [
       "<AxesSubplot:>"
      ]
     },
     "execution_count": 142,
     "metadata": {},
     "output_type": "execute_result"
    },
    {
     "data": {
      "image/png": "[encoded data removed]",
      "text/plain": [
       "<Figure size 432x288 with 2 Axes>"
      ]
     },
     "metadata": {
      "needs_background": "light"
     },
     "output_type": "display_data"
    }
   ],
   "source": [
    "# Display the Confusion Matrix heatmap\n",
    "brf_clf_cm = pd.DataFrame(confusion_matrix(y_test, y_pred), index=['Retain', 'Churn'], columns=['Retain', 'Churn'])\n",
    "sns.heatmap(brf_clf_cm, annot=True, cmap='Reds')"
   ]
  },
  {
   "cell_type": "code",
   "execution_count": 143,
   "id": "4fa79994-d02c-4660-9924-0c13bc96ed40",
   "metadata": {},
   "outputs": [
    {
     "name": "stdout",
     "output_type": "stream",
     "text": [
      "                   pre       rec       spe        f1       geo       iba       sup\n",
      "\n",
      "          0       0.91      0.75      0.77      0.82      0.76      0.58      1573\n",
      "          1       0.51      0.77      0.75      0.62      0.76      0.58       537\n",
      "\n",
      "avg / total       0.81      0.76      0.77      0.77      0.76      0.58      2110\n",
      "\n"
     ]
    }
   ],
   "source": [
    "# Print the imbalanced classification report\n",
    "print(classification_report_imbalanced(y_test, y_pred))"
   ]
  },
  {
   "cell_type": "code",
   "execution_count": 144,
   "id": "59506eda-ff8f-4aad-80f2-adb0dbe076e2",
   "metadata": {},
   "outputs": [
    {
     "data": {
      "image/png": "[encoded data removed]",
      "text/plain": [
       "<Figure size 432x288 with 1 Axes>"
      ]
     },
     "metadata": {
      "needs_background": "light"
     },
     "output_type": "display_data"
    }
   ],
   "source": [
    "# List the features sorted in descending order by feature importance\n",
    "feature_list = {i:j for i, j in zip(brf_clf.feature_importances_, X.columns)}\n",
    "fi = pd.DataFrame(sorted(feature_list.items(), reverse=True), columns=['Feature Importance', 'Feature'])\n",
    "plot = sns.barplot(x='Feature', y='Feature Importance', data=fi)\n",
    "plot.set_xticklabels(plot.get_xticklabels(), rotation=90);"
   ]
  },
  {
   "cell_type": "markdown",
   "id": "ebf5aaa0-844f-4e49-ab56-a3057c27316c",
   "metadata": {},
   "source": [
    "# Easy Ensemble Classifier"
   ]
  },
  {
   "cell_type": "code",
   "execution_count": 145,
   "id": "82c6859e-af24-4063-8076-c9f67b2ff06d",
   "metadata": {},
   "outputs": [
    {
     "data": {
      "text/plain": [
       "EasyEnsembleClassifier(n_estimators=100, random_state=1)"
      ]
     },
     "execution_count": 145,
     "metadata": {},
     "output_type": "execute_result"
    }
   ],
   "source": [
    "# Train the Classifier\n",
    "eec_clf = EasyEnsembleClassifier(n_estimators=100, random_state=1)\n",
    "eec_clf.fit(X_train_scaled, y_train)"
   ]
  },
  {
   "cell_type": "code",
   "execution_count": 146,
   "id": "c635401b-b0e2-44bd-b9c1-3b2646cc5b60",
   "metadata": {},
   "outputs": [
    {
     "data": {
      "text/plain": [
       "0.7512912853187104"
      ]
     },
     "execution_count": 146,
     "metadata": {},
     "output_type": "execute_result"
    }
   ],
   "source": [
    "# Calculated the balanced accuracy score\n",
    "y_pred = eec_clf.predict(X_test_scaled)\n",
    "balanced_accuracy_score(y_test, y_pred)"
   ]
  },
  {
   "cell_type": "code",
   "execution_count": 147,
   "id": "381ad3e7-13c4-4661-95a7-8e70c80e5440",
   "metadata": {},
   "outputs": [
    {
     "data": {
      "text/plain": [
       "array([[1145,  428],\n",
       "       [ 121,  416]], dtype=int64)"
      ]
     },
     "execution_count": 147,
     "metadata": {},
     "output_type": "execute_result"
    }
   ],
   "source": [
    "# Display the Confusion Matrix\n",
    "confusion_matrix(y_test, y_pred)"
   ]
  },
  {
   "cell_type": "code",
   "execution_count": 148,
   "id": "ef9c9b17-1f15-49b4-8c11-67fd2f1d05e0",
   "metadata": {},
   "outputs": [
    {
     "data": {
      "text/plain": [
       "<AxesSubplot:>"
      ]
     },
     "execution_count": 148,
     "metadata": {},
     "output_type": "execute_result"
    },
    {
     "data": {
      "image/png": "[encoded data removed]",
      "text/plain": [
       "<Figure size 432x288 with 2 Axes>"
      ]
     },
     "metadata": {
      "needs_background": "light"
     },
     "output_type": "display_data"
    }
   ],
   "source": [
    "# Display the Confusion Matrix heatmap\n",
    "eec_clf_cm = pd.DataFrame(confusion_matrix(y_test, y_pred), index=['Retain', 'Churn'], columns=['Retain', 'Churn'])\n",
    "sns.heatmap(eec_clf_cm, annot=True, cmap='Reds')"
   ]
  },
  {
   "cell_type": "code",
   "execution_count": 149,
   "id": "85a799f3-c1d6-4d82-beb3-1cf42e5419a0",
   "metadata": {},
   "outputs": [
    {
     "name": "stdout",
     "output_type": "stream",
     "text": [
      "                   pre       rec       spe        f1       geo       iba       sup\n",
      "\n",
      "          0       0.90      0.73      0.77      0.81      0.75      0.56      1573\n",
      "          1       0.49      0.77      0.73      0.60      0.75      0.57       537\n",
      "\n",
      "avg / total       0.80      0.74      0.76      0.75      0.75      0.56      2110\n",
      "\n"
     ]
    }
   ],
   "source": [
    "# Print the imbalanced classification report\n",
    "print(classification_report_imbalanced(y_test, y_pred))"
   ]
  },
  {
   "cell_type": "markdown",
   "id": "9bdc1041-958f-43ed-a183-43db7d4264de",
   "metadata": {},
   "source": [
    "# XGBOOST CLASSIFIER"
   ]
  },
  {
   "cell_type": "code",
   "execution_count": 150,
   "id": "a5f04554-482c-4787-94a1-38be5d383ef0",
   "metadata": {},
   "outputs": [
    {
     "data": {
      "text/plain": [
       "XGBClassifier(base_score=0.5, booster='gbtree', colsample_bylevel=1,\n",
       "              colsample_bynode=1, colsample_bytree=1, eval_metric='mlogloss',\n",
       "              gamma=0, gpu_id=-1, importance_type='gain',\n",
       "              interaction_constraints='', learning_rate=0.35, max_delta_step=0,\n",
       "              max_depth=6, min_child_weight=1, missing=nan,\n",
       "              monotone_constraints='()', n_estimators=100, n_jobs=8,\n",
       "              num_parallel_tree=1, random_state=1, reg_alpha=0, reg_lambda=1,\n",
       "              scale_pos_weight=1, subsample=1, tree_method='exact',\n",
       "              validate_parameters=1, verbosity=None)"
      ]
     },
     "execution_count": 150,
     "metadata": {},
     "output_type": "execute_result"
    }
   ],
   "source": [
    "# Train the XGBoost classifier\n",
    "xgb_clf = XGBClassifier(random_state=1, \n",
    "                        learning_rate=0.35, \n",
    "                        eval_metric='mlogloss')\n",
    "\n",
    "xgb_clf.fit(X_train, y_train)"
   ]
  },
  {
   "cell_type": "code",
   "execution_count": 151,
   "id": "350b0f98-e06b-49ea-bd3f-d69bc164433f",
   "metadata": {},
   "outputs": [
    {
     "data": {
      "text/plain": [
       "0.7108059538227136"
      ]
     },
     "execution_count": 151,
     "metadata": {},
     "output_type": "execute_result"
    }
   ],
   "source": [
    "# Predict and Evaluate the results\n",
    "y_pred = xgb_clf.predict(X_test)\n",
    "balanced_accuracy_score(y_test, y_pred)"
   ]
  },
  {
   "cell_type": "code",
   "execution_count": 152,
   "id": "a4f6f2dc-2c55-45c2-be9b-b65d3c18dd64",
   "metadata": {},
   "outputs": [
    {
     "data": {
      "text/plain": [
       "array([[1375,  198],\n",
       "       [ 243,  294]], dtype=int64)"
      ]
     },
     "execution_count": 152,
     "metadata": {},
     "output_type": "execute_result"
    }
   ],
   "source": [
    "# Display the Confusion Matrix\n",
    "confusion_matrix(y_test, y_pred)"
   ]
  },
  {
   "cell_type": "code",
   "execution_count": 153,
   "id": "1a073598-bb95-4781-b072-6b1cf6c6c850",
   "metadata": {},
   "outputs": [
    {
     "data": {
      "text/plain": [
       "<AxesSubplot:>"
      ]
     },
     "execution_count": 153,
     "metadata": {},
     "output_type": "execute_result"
    },
    {
     "data": {
      "image/png": "[encoded data removed]",
      "text/plain": [
       "<Figure size 432x288 with 2 Axes>"
      ]
     },
     "metadata": {
      "needs_background": "light"
     },
     "output_type": "display_data"
    }
   ],
   "source": [
    "# Display the Confusion Matrix heatmap\n",
    "xgb_clf_cm = pd.DataFrame(confusion_matrix(y_test, y_pred), index=['Retain', 'Churn'], columns=['Retain', 'Churn'])\n",
    "sns.heatmap(xgb_clf_cm, annot=True, cmap='Reds')"
   ]
  },
  {
   "cell_type": "code",
   "execution_count": 154,
   "id": "450dfdf8-833a-464f-bf6a-c4a2736ea403",
   "metadata": {},
   "outputs": [
    {
     "name": "stdout",
     "output_type": "stream",
     "text": [
      "                   pre       rec       spe        f1       geo       iba       sup\n",
      "\n",
      "          0       0.85      0.87      0.55      0.86      0.69      0.49      1573\n",
      "          1       0.60      0.55      0.87      0.57      0.69      0.46       537\n",
      "\n",
      "avg / total       0.79      0.79      0.63      0.79      0.69      0.49      2110\n",
      "\n"
     ]
    }
   ],
   "source": [
    "# Print the imbalanced classification report\n",
    "print(classification_report_imbalanced(y_test, y_pred))"
   ]
  },
  {
   "cell_type": "code",
   "execution_count": 155,
   "id": "f991f7ac-d652-49b7-8d5d-126fc9a91910",
   "metadata": {},
   "outputs": [
    {
     "data": {
      "text/plain": [
       "<AxesSubplot:title={'center':'Feature Importance (XGBoost)'}, xlabel='F score', ylabel='Features'>"
      ]
     },
     "execution_count": 155,
     "metadata": {},
     "output_type": "execute_result"
    },
    {
     "data": {
      "image/png": "[encoded data removed]",
      "text/plain": [
       "<Figure size 432x288 with 1 Axes>"
      ]
     },
     "metadata": {
      "needs_background": "light"
     },
     "output_type": "display_data"
    }
   ],
   "source": [
    "xgboost.plot_importance(xgb_clf, title=\"Feature Importance (XGBoost)\", color='Blue')"
   ]
  },
  {
   "cell_type": "code",
   "execution_count": null,
   "id": "439eda89-e2c6-40d8-b305-22b49d6478fa",
   "metadata": {},
   "outputs": [],
   "source": []
  }
 ],
 "metadata": {
  "kernelspec": {
   "display_name": "Python 3 (ipykernel)",
   "language": "python",
   "name": "python3"
  },
  "language_info": {
   "codemirror_mode": {
    "name": "ipython",
    "version": 3
   },
   "file_extension": ".py",
   "mimetype": "text/x-python",
   "name": "python",
   "nbconvert_exporter": "python",
   "pygments_lexer": "ipython3",
   "version": "3.8.8"
  }
 },
 "nbformat": 4,
 "nbformat_minor": 5
}
