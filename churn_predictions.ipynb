{
 "cells": [
  {
   "cell_type": "markdown",
   "metadata": {},
   "source": [
    "# Churn Prediction"
   ]
  },
  {
   "cell_type": "markdown",
   "metadata": {},
   "source": [
    "## Importing Packages"
   ]
  },
  {
   "cell_type": "code",
   "execution_count": 1,
   "metadata": {},
   "outputs": [
    {
     "name": "stdout",
     "output_type": "stream",
     "text": [
      "2.7.0\n"
     ]
    }
   ],
   "source": [
    "# Import packages\n",
    "import numpy as np\n",
    "import pandas as pd\n",
    "import pickle\n",
    "\n",
    "# Visualization\n",
    "import seaborn as sns\n",
    "import matplotlib.pyplot as plt\n",
    "\n",
    "# Sampling\n",
    "from imblearn.over_sampling import RandomOverSampler\n",
    "from imblearn.under_sampling import RandomUnderSampler\n",
    "from imblearn.over_sampling import SMOTE\n",
    "\n",
    "# Data Pre-processing\n",
    "from sklearn.preprocessing import LabelEncoder\n",
    "from sklearn.preprocessing import StandardScaler\n",
    "from sklearn.preprocessing import MinMaxScaler\n",
    "\n",
    "# Models\n",
    "from sklearn.linear_model import LogisticRegression\n",
    "from sklearn.tree import DecisionTreeClassifier\n",
    "from sklearn.svm import SVC\n",
    "from catboost import CatBoostClassifier\n",
    "from xgboost import XGBClassifier\n",
    "from sklearn.ensemble import RandomForestClassifier\n",
    "import xgboost\n",
    "\n",
    "# Model Selection\n",
    "from sklearn.model_selection import cross_val_score\n",
    "from sklearn.model_selection import cross_val_predict\n",
    "from sklearn.model_selection import KFold\n",
    "from imblearn.pipeline import Pipeline\n",
    "\n",
    "# Metrics\n",
    "from sklearn.metrics import accuracy_score\n",
    "from sklearn.metrics import confusion_matrix\n",
    "from sklearn.metrics import roc_auc_score\n",
    "from sklearn.metrics import classification_report\n",
    "from sklearn.metrics import make_scorer\n",
    "from sklearn.metrics import confusion_matrix\n",
    "\n",
    "# For Deep Learning\n",
    "import tensorflow as tf\n",
    "print(tf.__version__)\n",
    "from tensorflow import keras\n",
    "\n",
    "import warnings\n",
    "warnings.filterwarnings('ignore')"
   ]
  },
  {
   "cell_type": "markdown",
   "metadata": {},
   "source": [
    "### Helper Functions"
   ]
  },
  {
   "cell_type": "code",
   "execution_count": 3,
   "metadata": {},
   "outputs": [],
   "source": [
    "# Reset global arrays\n",
    "def reset():\n",
    "    global y_true_arr, y_pred_arr\n",
    "    y_true_arr, y_pred_arr = [], []"
   ]
  },
  {
   "cell_type": "code",
   "execution_count": 4,
   "metadata": {},
   "outputs": [],
   "source": [
    "# Store each K split true class and prediction values\n",
    "y_true_arr = []\n",
    "y_pred_arr = []\n",
    "\n",
    "def classification_report_with_accuracy(y_true, y_pred):\n",
    "    y_true_arr.extend(y_true)\n",
    "    y_pred_arr.extend(y_pred)\n",
    "    return accuracy_score(y_true, y_pred)"
   ]
  },
  {
   "cell_type": "code",
   "execution_count": 5,
   "metadata": {},
   "outputs": [],
   "source": [
    "# This function Draw each Cross Validation Fold epochs \n",
    "def draw_graph(arr, header):\n",
    "    plt.title(f\"{header}\")\n",
    "    plt.xlabel(\"epoch\")\n",
    "    plt.ylabel(f\"{header}\")\n",
    "    for k in range(len(arr)):\n",
    "        plt.plot(arr[k], label=f'K = {k}')\n",
    "    plt.legend()\n",
    "    plt.show()"
   ]
  },
  {
   "cell_type": "markdown",
   "metadata": {},
   "source": [
    "## Read the CSV data file"
   ]
  },
  {
   "cell_type": "code",
   "execution_count": 12,
   "metadata": {},
   "outputs": [
    {
     "data": {
      "text/html": [
       "<div>\n",
       "<style scoped>\n",
       "    .dataframe tbody tr th:only-of-type {\n",
       "        vertical-align: middle;\n",
       "    }\n",
       "\n",
       "    .dataframe tbody tr th {\n",
       "        vertical-align: top;\n",
       "    }\n",
       "\n",
       "    .dataframe thead th {\n",
       "        text-align: right;\n",
       "    }\n",
       "</style>\n",
       "<table border=\"1\" class=\"dataframe\">\n",
       "  <thead>\n",
       "    <tr style=\"text-align: right;\">\n",
       "      <th></th>\n",
       "      <th>city</th>\n",
       "      <th>zip</th>\n",
       "      <th>lat</th>\n",
       "      <th>long</th>\n",
       "      <th>gender</th>\n",
       "      <th>senior_citizen</th>\n",
       "      <th>partner</th>\n",
       "      <th>dependents</th>\n",
       "      <th>tenure</th>\n",
       "      <th>phone_service</th>\n",
       "      <th>...</th>\n",
       "      <th>device_protection</th>\n",
       "      <th>tech_support</th>\n",
       "      <th>streaming_tv</th>\n",
       "      <th>streaming_movies</th>\n",
       "      <th>contract</th>\n",
       "      <th>paperless_billing</th>\n",
       "      <th>payment_method</th>\n",
       "      <th>monthly_charges</th>\n",
       "      <th>total_charges</th>\n",
       "      <th>churn</th>\n",
       "    </tr>\n",
       "  </thead>\n",
       "  <tbody>\n",
       "    <tr>\n",
       "      <th>0</th>\n",
       "      <td>Los Angeles</td>\n",
       "      <td>90003</td>\n",
       "      <td>33.964131</td>\n",
       "      <td>-118.272783</td>\n",
       "      <td>Male</td>\n",
       "      <td>No</td>\n",
       "      <td>No</td>\n",
       "      <td>No</td>\n",
       "      <td>2</td>\n",
       "      <td>Yes</td>\n",
       "      <td>...</td>\n",
       "      <td>No</td>\n",
       "      <td>No</td>\n",
       "      <td>No</td>\n",
       "      <td>No</td>\n",
       "      <td>Month-to-month</td>\n",
       "      <td>Yes</td>\n",
       "      <td>Mailed check</td>\n",
       "      <td>53.85</td>\n",
       "      <td>108.15</td>\n",
       "      <td>1</td>\n",
       "    </tr>\n",
       "    <tr>\n",
       "      <th>1</th>\n",
       "      <td>Los Angeles</td>\n",
       "      <td>90005</td>\n",
       "      <td>34.059281</td>\n",
       "      <td>-118.307420</td>\n",
       "      <td>Female</td>\n",
       "      <td>No</td>\n",
       "      <td>No</td>\n",
       "      <td>Yes</td>\n",
       "      <td>2</td>\n",
       "      <td>Yes</td>\n",
       "      <td>...</td>\n",
       "      <td>No</td>\n",
       "      <td>No</td>\n",
       "      <td>No</td>\n",
       "      <td>No</td>\n",
       "      <td>Month-to-month</td>\n",
       "      <td>Yes</td>\n",
       "      <td>Electronic check</td>\n",
       "      <td>70.70</td>\n",
       "      <td>151.65</td>\n",
       "      <td>1</td>\n",
       "    </tr>\n",
       "    <tr>\n",
       "      <th>2</th>\n",
       "      <td>Los Angeles</td>\n",
       "      <td>90006</td>\n",
       "      <td>34.048013</td>\n",
       "      <td>-118.293953</td>\n",
       "      <td>Female</td>\n",
       "      <td>No</td>\n",
       "      <td>No</td>\n",
       "      <td>Yes</td>\n",
       "      <td>8</td>\n",
       "      <td>Yes</td>\n",
       "      <td>...</td>\n",
       "      <td>Yes</td>\n",
       "      <td>No</td>\n",
       "      <td>Yes</td>\n",
       "      <td>Yes</td>\n",
       "      <td>Month-to-month</td>\n",
       "      <td>Yes</td>\n",
       "      <td>Electronic check</td>\n",
       "      <td>99.65</td>\n",
       "      <td>820.50</td>\n",
       "      <td>1</td>\n",
       "    </tr>\n",
       "    <tr>\n",
       "      <th>3</th>\n",
       "      <td>Los Angeles</td>\n",
       "      <td>90010</td>\n",
       "      <td>34.062125</td>\n",
       "      <td>-118.315709</td>\n",
       "      <td>Female</td>\n",
       "      <td>No</td>\n",
       "      <td>Yes</td>\n",
       "      <td>Yes</td>\n",
       "      <td>28</td>\n",
       "      <td>Yes</td>\n",
       "      <td>...</td>\n",
       "      <td>Yes</td>\n",
       "      <td>Yes</td>\n",
       "      <td>Yes</td>\n",
       "      <td>Yes</td>\n",
       "      <td>Month-to-month</td>\n",
       "      <td>Yes</td>\n",
       "      <td>Electronic check</td>\n",
       "      <td>104.80</td>\n",
       "      <td>3046.05</td>\n",
       "      <td>1</td>\n",
       "    </tr>\n",
       "    <tr>\n",
       "      <th>4</th>\n",
       "      <td>Los Angeles</td>\n",
       "      <td>90015</td>\n",
       "      <td>34.039224</td>\n",
       "      <td>-118.266293</td>\n",
       "      <td>Male</td>\n",
       "      <td>No</td>\n",
       "      <td>No</td>\n",
       "      <td>Yes</td>\n",
       "      <td>49</td>\n",
       "      <td>Yes</td>\n",
       "      <td>...</td>\n",
       "      <td>Yes</td>\n",
       "      <td>No</td>\n",
       "      <td>Yes</td>\n",
       "      <td>Yes</td>\n",
       "      <td>Month-to-month</td>\n",
       "      <td>Yes</td>\n",
       "      <td>Bank transfer (automatic)</td>\n",
       "      <td>103.70</td>\n",
       "      <td>5036.30</td>\n",
       "      <td>1</td>\n",
       "    </tr>\n",
       "  </tbody>\n",
       "</table>\n",
       "<p>5 rows × 24 columns</p>\n",
       "</div>"
      ],
      "text/plain": [
       "          city    zip        lat        long  gender senior_citizen partner  \\\n",
       "0  Los Angeles  90003  33.964131 -118.272783    Male             No      No   \n",
       "1  Los Angeles  90005  34.059281 -118.307420  Female             No      No   \n",
       "2  Los Angeles  90006  34.048013 -118.293953  Female             No      No   \n",
       "3  Los Angeles  90010  34.062125 -118.315709  Female             No     Yes   \n",
       "4  Los Angeles  90015  34.039224 -118.266293    Male             No      No   \n",
       "\n",
       "  dependents  tenure phone_service  ... device_protection tech_support  \\\n",
       "0         No       2           Yes  ...                No           No   \n",
       "1        Yes       2           Yes  ...                No           No   \n",
       "2        Yes       8           Yes  ...               Yes           No   \n",
       "3        Yes      28           Yes  ...               Yes          Yes   \n",
       "4        Yes      49           Yes  ...               Yes           No   \n",
       "\n",
       "  streaming_tv streaming_movies        contract paperless_billing  \\\n",
       "0           No               No  Month-to-month               Yes   \n",
       "1           No               No  Month-to-month               Yes   \n",
       "2          Yes              Yes  Month-to-month               Yes   \n",
       "3          Yes              Yes  Month-to-month               Yes   \n",
       "4          Yes              Yes  Month-to-month               Yes   \n",
       "\n",
       "              payment_method monthly_charges total_charges churn  \n",
       "0               Mailed check           53.85        108.15     1  \n",
       "1           Electronic check           70.70        151.65     1  \n",
       "2           Electronic check           99.65        820.50     1  \n",
       "3           Electronic check          104.80       3046.05     1  \n",
       "4  Bank transfer (automatic)          103.70       5036.30     1  \n",
       "\n",
       "[5 rows x 24 columns]"
      ]
     },
     "execution_count": 12,
     "metadata": {},
     "output_type": "execute_result"
    }
   ],
   "source": [
    "#import data\n",
    "df = pd.read_csv('./Data/churn_data.csv')\n",
    "df.head()"
   ]
  },
  {
   "cell_type": "code",
   "execution_count": 13,
   "metadata": {},
   "outputs": [
    {
     "data": {
      "text/plain": [
       "(7032, 24)"
      ]
     },
     "execution_count": 13,
     "metadata": {},
     "output_type": "execute_result"
    }
   ],
   "source": [
    "# Data shape\n",
    "df.shape"
   ]
  },
  {
   "cell_type": "code",
   "execution_count": 15,
   "metadata": {},
   "outputs": [
    {
     "data": {
      "text/plain": [
       "0    5163\n",
       "1    1869\n",
       "Name: churn, dtype: int64"
      ]
     },
     "execution_count": 15,
     "metadata": {},
     "output_type": "execute_result"
    }
   ],
   "source": [
    "# Target Class Distribution\n",
    "df[\"churn\"].value_counts()"
   ]
  },
  {
   "cell_type": "markdown",
   "metadata": {},
   "source": [
    "## Data Pre-Processing"
   ]
  },
  {
   "cell_type": "code",
   "execution_count": 16,
   "metadata": {},
   "outputs": [
    {
     "data": {
      "text/plain": [
       "city                  object\n",
       "zip                    int64\n",
       "lat                  float64\n",
       "long                 float64\n",
       "gender                object\n",
       "senior_citizen        object\n",
       "partner               object\n",
       "dependents            object\n",
       "tenure                 int64\n",
       "phone_service         object\n",
       "multiple_lines        object\n",
       "internet_service      object\n",
       "online_security       object\n",
       "online_backup         object\n",
       "device_protection     object\n",
       "tech_support          object\n",
       "streaming_tv          object\n",
       "streaming_movies      object\n",
       "contract              object\n",
       "paperless_billing     object\n",
       "payment_method        object\n",
       "monthly_charges      float64\n",
       "total_charges        float64\n",
       "churn                  int64\n",
       "dtype: object"
      ]
     },
     "execution_count": 16,
     "metadata": {},
     "output_type": "execute_result"
    }
   ],
   "source": [
    "# Checking data types\n",
    "df.dtypes"
   ]
  },
  {
   "cell_type": "code",
   "execution_count": 17,
   "metadata": {},
   "outputs": [
    {
     "name": "stdout",
     "output_type": "stream",
     "text": [
      "city  :  1129\n",
      "zip  :  1652\n",
      "lat  :  1652\n",
      "long  :  1651\n",
      "gender  :  2\n",
      "senior_citizen  :  2\n",
      "partner  :  2\n",
      "dependents  :  2\n",
      "tenure  :  72\n",
      "phone_service  :  2\n",
      "multiple_lines  :  3\n",
      "internet_service  :  3\n",
      "online_security  :  3\n",
      "online_backup  :  3\n",
      "device_protection  :  3\n",
      "tech_support  :  3\n",
      "streaming_tv  :  3\n",
      "streaming_movies  :  3\n",
      "contract  :  3\n",
      "paperless_billing  :  2\n",
      "payment_method  :  4\n",
      "monthly_charges  :  1584\n",
      "total_charges  :  6530\n",
      "churn  :  2\n"
     ]
    }
   ],
   "source": [
    "# Value counts for each column\n",
    "for i in range(df.shape[1]):\n",
    "    print(df.columns[i], ' : ', df.iloc[:, i].nunique())"
   ]
  },
  {
   "cell_type": "code",
   "execution_count": 18,
   "metadata": {},
   "outputs": [
    {
     "data": {
      "text/html": [
       "<div>\n",
       "<style scoped>\n",
       "    .dataframe tbody tr th:only-of-type {\n",
       "        vertical-align: middle;\n",
       "    }\n",
       "\n",
       "    .dataframe tbody tr th {\n",
       "        vertical-align: top;\n",
       "    }\n",
       "\n",
       "    .dataframe thead th {\n",
       "        text-align: right;\n",
       "    }\n",
       "</style>\n",
       "<table border=\"1\" class=\"dataframe\">\n",
       "  <thead>\n",
       "    <tr style=\"text-align: right;\">\n",
       "      <th></th>\n",
       "      <th>zip</th>\n",
       "      <th>lat</th>\n",
       "      <th>long</th>\n",
       "      <th>tenure</th>\n",
       "      <th>monthly_charges</th>\n",
       "      <th>total_charges</th>\n",
       "      <th>churn</th>\n",
       "    </tr>\n",
       "  </thead>\n",
       "  <tbody>\n",
       "    <tr>\n",
       "      <th>count</th>\n",
       "      <td>7032.000000</td>\n",
       "      <td>7032.000000</td>\n",
       "      <td>7032.000000</td>\n",
       "      <td>7032.000000</td>\n",
       "      <td>7032.000000</td>\n",
       "      <td>7032.000000</td>\n",
       "      <td>7032.000000</td>\n",
       "    </tr>\n",
       "    <tr>\n",
       "      <th>mean</th>\n",
       "      <td>93523.032565</td>\n",
       "      <td>36.283307</td>\n",
       "      <td>-119.799215</td>\n",
       "      <td>32.421786</td>\n",
       "      <td>64.798208</td>\n",
       "      <td>2283.300441</td>\n",
       "      <td>0.265785</td>\n",
       "    </tr>\n",
       "    <tr>\n",
       "      <th>std</th>\n",
       "      <td>1865.515958</td>\n",
       "      <td>2.456118</td>\n",
       "      <td>2.157588</td>\n",
       "      <td>24.545260</td>\n",
       "      <td>30.085974</td>\n",
       "      <td>2266.771362</td>\n",
       "      <td>0.441782</td>\n",
       "    </tr>\n",
       "    <tr>\n",
       "      <th>min</th>\n",
       "      <td>90001.000000</td>\n",
       "      <td>32.555828</td>\n",
       "      <td>-124.301372</td>\n",
       "      <td>1.000000</td>\n",
       "      <td>18.250000</td>\n",
       "      <td>18.800000</td>\n",
       "      <td>0.000000</td>\n",
       "    </tr>\n",
       "    <tr>\n",
       "      <th>25%</th>\n",
       "      <td>92102.000000</td>\n",
       "      <td>34.030915</td>\n",
       "      <td>-121.815412</td>\n",
       "      <td>9.000000</td>\n",
       "      <td>35.587500</td>\n",
       "      <td>401.450000</td>\n",
       "      <td>0.000000</td>\n",
       "    </tr>\n",
       "    <tr>\n",
       "      <th>50%</th>\n",
       "      <td>93552.500000</td>\n",
       "      <td>36.391777</td>\n",
       "      <td>-119.735410</td>\n",
       "      <td>29.000000</td>\n",
       "      <td>70.350000</td>\n",
       "      <td>1397.475000</td>\n",
       "      <td>0.000000</td>\n",
       "    </tr>\n",
       "    <tr>\n",
       "      <th>75%</th>\n",
       "      <td>95354.000000</td>\n",
       "      <td>38.227285</td>\n",
       "      <td>-118.043237</td>\n",
       "      <td>55.000000</td>\n",
       "      <td>89.862500</td>\n",
       "      <td>3794.737500</td>\n",
       "      <td>1.000000</td>\n",
       "    </tr>\n",
       "    <tr>\n",
       "      <th>max</th>\n",
       "      <td>96161.000000</td>\n",
       "      <td>41.962127</td>\n",
       "      <td>-114.192901</td>\n",
       "      <td>72.000000</td>\n",
       "      <td>118.750000</td>\n",
       "      <td>8684.800000</td>\n",
       "      <td>1.000000</td>\n",
       "    </tr>\n",
       "  </tbody>\n",
       "</table>\n",
       "</div>"
      ],
      "text/plain": [
       "                zip          lat         long       tenure  monthly_charges  \\\n",
       "count   7032.000000  7032.000000  7032.000000  7032.000000      7032.000000   \n",
       "mean   93523.032565    36.283307  -119.799215    32.421786        64.798208   \n",
       "std     1865.515958     2.456118     2.157588    24.545260        30.085974   \n",
       "min    90001.000000    32.555828  -124.301372     1.000000        18.250000   \n",
       "25%    92102.000000    34.030915  -121.815412     9.000000        35.587500   \n",
       "50%    93552.500000    36.391777  -119.735410    29.000000        70.350000   \n",
       "75%    95354.000000    38.227285  -118.043237    55.000000        89.862500   \n",
       "max    96161.000000    41.962127  -114.192901    72.000000       118.750000   \n",
       "\n",
       "       total_charges        churn  \n",
       "count    7032.000000  7032.000000  \n",
       "mean     2283.300441     0.265785  \n",
       "std      2266.771362     0.441782  \n",
       "min        18.800000     0.000000  \n",
       "25%       401.450000     0.000000  \n",
       "50%      1397.475000     0.000000  \n",
       "75%      3794.737500     1.000000  \n",
       "max      8684.800000     1.000000  "
      ]
     },
     "execution_count": 18,
     "metadata": {},
     "output_type": "execute_result"
    }
   ],
   "source": [
    "# Statistical Summary of the df\n",
    "df.describe()"
   ]
  },
  {
   "cell_type": "markdown",
   "metadata": {},
   "source": [
    "### Data Splitting"
   ]
  },
  {
   "cell_type": "code",
   "execution_count": 19,
   "metadata": {},
   "outputs": [],
   "source": [
    "# Features and Target\n",
    "X = df.iloc[:, :-1]\n",
    "y = df.iloc[:, -1]"
   ]
  },
  {
   "cell_type": "markdown",
   "metadata": {},
   "source": [
    "### Feature Encoding"
   ]
  },
  {
   "cell_type": "code",
   "execution_count": 24,
   "metadata": {},
   "outputs": [],
   "source": [
    "# Apply label encoder for non-numeric data\n",
    "X = X.apply(lambda _x: LabelEncoder().fit_transform(_x) if _x.dtype == np.object else _x)"
   ]
  },
  {
   "cell_type": "markdown",
   "metadata": {},
   "source": [
    "### Feature Scaling"
   ]
  },
  {
   "cell_type": "code",
   "execution_count": 23,
   "metadata": {},
   "outputs": [],
   "source": [
    "# Standardize monthly_charges and monthly_charges\n",
    "std_scaler = StandardScaler()\n",
    "X[['monthly_charges', 'zip', 'city', 'lat', 'long', 'total_charges']] = std_scaler.fit_transform(X[['monthly_charges', 'zip', 'city', 'lat', 'long', 'total_charges']])\n",
    "#X = std_scaler.fit_transform(X)"
   ]
  },
  {
   "cell_type": "markdown",
   "metadata": {},
   "source": [
    "## Model Training and Evaluation"
   ]
  },
  {
   "cell_type": "markdown",
   "metadata": {},
   "source": [
    "Cross Validation method is used here to prevent model overfitting"
   ]
  },
  {
   "cell_type": "markdown",
   "metadata": {},
   "source": [
    "### Pipeline"
   ]
  },
  {
   "cell_type": "code",
   "execution_count": 25,
   "metadata": {},
   "outputs": [],
   "source": [
    "# Prediction function using KFold Cross Validation\n",
    "# And printing the results\n",
    "\n",
    "# K = 10\n",
    "cv = KFold(n_splits=10, shuffle=True, random_state=1)\n",
    "\n",
    "def prediction_result(clf, X, y):\n",
    "    global y_true_arr, y_pred_arr\n",
    "        \n",
    "    # Steps\n",
    "    steps = [('model', clf)] # No Sampling\n",
    "    # steps = [('up-sampling', SMOTE()), ('model', clf)] # Apply SNMOTE\n",
    "    # steps = [('up-sampling', RandomOverSampler()), ('model', clf)] # Apply Upsampling\n",
    "    # steps = [('Under-sampling', RandomUnderSampler()), ('model', clf)] # Apply Downsampling\n",
    "    # steps = [('o', RandomOverSampler(sampling_strategy=0.5)), ('u', RandomUnderSampler(sampling_strategy=0.5)), ('m', clf)] # Apply Downsampling\n",
    "    \n",
    "    # Apply steps to pipeline\n",
    "    pipeline = Pipeline(steps=steps)\n",
    "\n",
    "    # Cross Validation Scores\n",
    "    scores = cross_val_score(pipeline, X, y, cv=cv, scoring=make_scorer(classification_report_with_accuracy))\n",
    "    \n",
    "    # Accuracy Score\n",
    "    print(f\"Accuracy: {scores.mean()}\\n\")\n",
    "    \n",
    "    # Classification Report\n",
    "    print(classification_report(y_true_arr, y_pred_arr))\n",
    "\n",
    "    # Reset the Global arrays\n",
    "    reset()"
   ]
  },
  {
   "cell_type": "markdown",
   "metadata": {},
   "source": [
    "### Logistic Regression"
   ]
  },
  {
   "cell_type": "code",
   "execution_count": 43,
   "metadata": {},
   "outputs": [
    {
     "name": "stdout",
     "output_type": "stream",
     "text": [
      "Accuracy: 0.8098700375016165\n",
      "\n",
      "              precision    recall  f1-score   support\n",
      "\n",
      "           0       0.85      0.89      0.87      5163\n",
      "           1       0.66      0.58      0.62      1869\n",
      "\n",
      "    accuracy                           0.81      7032\n",
      "   macro avg       0.76      0.74      0.75      7032\n",
      "weighted avg       0.80      0.81      0.81      7032\n",
      "\n"
     ]
    }
   ],
   "source": [
    "lr_clf = LogisticRegression(penalty='l2', C=1, random_state=1) # penalty for too many variables\n",
    "prediction_result(lr_clf, X, y)"
   ]
  },
  {
   "cell_type": "markdown",
   "metadata": {},
   "source": [
    "### Support Vector Machine"
   ]
  },
  {
   "cell_type": "code",
   "execution_count": 35,
   "metadata": {},
   "outputs": [
    {
     "name": "stdout",
     "output_type": "stream",
     "text": [
      "Accuracy: 0.7965030146773568\n",
      "\n",
      "              precision    recall  f1-score   support\n",
      "\n",
      "           0       0.82      0.92      0.87      5163\n",
      "           1       0.68      0.44      0.54      1869\n",
      "\n",
      "    accuracy                           0.80      7032\n",
      "   macro avg       0.75      0.68      0.70      7032\n",
      "weighted avg       0.78      0.80      0.78      7032\n",
      "\n"
     ]
    }
   ],
   "source": [
    "# SVM classifier with RBF kernel\n",
    "svm_clf = SVC(kernel='rbf', random_state=1)\n",
    "prediction_result(svm_clf, X, y)"
   ]
  },
  {
   "cell_type": "markdown",
   "metadata": {},
   "source": [
    "### Decision Tree"
   ]
  },
  {
   "cell_type": "code",
   "execution_count": 37,
   "metadata": {},
   "outputs": [
    {
     "name": "stdout",
     "output_type": "stream",
     "text": [
      "Accuracy: 0.7790098037630931\n",
      "\n",
      "              precision    recall  f1-score   support\n",
      "\n",
      "           0       0.81      0.92      0.86      5163\n",
      "           1       0.64      0.39      0.48      1869\n",
      "\n",
      "    accuracy                           0.78      7032\n",
      "   macro avg       0.72      0.65      0.67      7032\n",
      "weighted avg       0.76      0.78      0.76      7032\n",
      "\n"
     ]
    }
   ],
   "source": [
    "dt_clf = DecisionTreeClassifier(max_depth=4, min_samples_split=2, random_state=1)\n",
    "prediction_result(dt_clf, X, y)"
   ]
  },
  {
   "cell_type": "markdown",
   "metadata": {},
   "source": [
    "### Random Forest"
   ]
  },
  {
   "cell_type": "code",
   "execution_count": 38,
   "metadata": {},
   "outputs": [
    {
     "name": "stdout",
     "output_type": "stream",
     "text": [
      "Accuracy: 0.8026170309065046\n",
      "\n",
      "              precision    recall  f1-score   support\n",
      "\n",
      "           0       0.84      0.91      0.87      5163\n",
      "           1       0.67      0.51      0.58      1869\n",
      "\n",
      "    accuracy                           0.80      7032\n",
      "   macro avg       0.75      0.71      0.73      7032\n",
      "weighted avg       0.79      0.80      0.79      7032\n",
      "\n"
     ]
    }
   ],
   "source": [
    "rf_clf = RandomForestClassifier(n_estimators=100, random_state=1, min_samples_leaf=1)\n",
    "prediction_result(rf_clf, X, y)"
   ]
  },
  {
   "cell_type": "markdown",
   "metadata": {},
   "source": [
    "### XGBoost Classifier"
   ]
  },
  {
   "cell_type": "code",
   "execution_count": 51,
   "metadata": {},
   "outputs": [
    {
     "name": "stdout",
     "output_type": "stream",
     "text": [
      "Accuracy: 0.8118619067632226\n",
      "\n",
      "              precision    recall  f1-score   support\n",
      "\n",
      "           0       0.85      0.90      0.88      5163\n",
      "           1       0.68      0.56      0.61      1869\n",
      "\n",
      "    accuracy                           0.81      7032\n",
      "   macro avg       0.76      0.73      0.74      7032\n",
      "weighted avg       0.80      0.81      0.81      7032\n",
      "\n"
     ]
    }
   ],
   "source": [
    "xgb_clf = XGBClassifier(n_estimators=80, max_depth=1, learning_rate= 0.4, eval_metric='mlogloss', random_state=1)\n",
    "prediction_result(xgb_clf, X, y)"
   ]
  },
  {
   "cell_type": "markdown",
   "metadata": {},
   "source": [
    "### Feature Importance"
   ]
  },
  {
   "cell_type": "code",
   "execution_count": 40,
   "metadata": {},
   "outputs": [
    {
     "data": {
      "image/png": "[encoded data removed]",
      "text/plain": [
       "<Figure size 432x288 with 1 Axes>"
      ]
     },
     "metadata": {
      "needs_background": "light"
     },
     "output_type": "display_data"
    }
   ],
   "source": [
    "xgb_clf.fit(X,y)\n",
    "xgboost.plot_importance(xgb_clf, title=\"Feature Importance (XGBoost)\", color='Blue')\n",
    "plt.show();"
   ]
  },
  {
   "cell_type": "markdown",
   "metadata": {},
   "source": [
    "### CatBoost Classifier"
   ]
  },
  {
   "cell_type": "code",
   "execution_count": 52,
   "metadata": {},
   "outputs": [
    {
     "name": "stdout",
     "output_type": "stream",
     "text": [
      "Accuracy: 0.8023317276606748\n",
      "\n",
      "              precision    recall  f1-score   support\n",
      "\n",
      "           0       0.84      0.90      0.87      5163\n",
      "           1       0.65      0.54      0.59      1869\n",
      "\n",
      "    accuracy                           0.80      7032\n",
      "   macro avg       0.75      0.72      0.73      7032\n",
      "weighted avg       0.79      0.80      0.80      7032\n",
      "\n"
     ]
    }
   ],
   "source": [
    "cb_clf = CatBoostClassifier(random_state=1, verbose=False)\n",
    "prediction_result(cb_clf, X, y)"
   ]
  },
  {
   "cell_type": "markdown",
   "metadata": {},
   "source": [
    "### Deep Learning Model"
   ]
  },
  {
   "cell_type": "code",
   "execution_count": 59,
   "metadata": {},
   "outputs": [
    {
     "name": "stdout",
     "output_type": "stream",
     "text": [
      "\n",
      "Cross Validation Training K=0\n",
      "\n",
      "Epoch 1/100\n",
      "317/317 - 1s - loss: 1.0252 - accuracy: 0.6996 - val_loss: 0.5212 - val_accuracy: 0.7855 - 642ms/epoch - 2ms/step\n",
      "Epoch 2/100\n",
      "317/317 - 0s - loss: 0.5515 - accuracy: 0.7615 - val_loss: 0.4123 - val_accuracy: 0.8111 - 268ms/epoch - 847us/step\n",
      "Epoch 3/100\n",
      "317/317 - 0s - loss: 0.4551 - accuracy: 0.7786 - val_loss: 0.4067 - val_accuracy: 0.8011 - 277ms/epoch - 874us/step\n",
      "Epoch 4/100\n",
      "317/317 - 0s - loss: 0.4311 - accuracy: 0.7949 - val_loss: 0.4037 - val_accuracy: 0.8026 - 243ms/epoch - 768us/step\n",
      "Epoch 5/100\n",
      "317/317 - 0s - loss: 0.4265 - accuracy: 0.7950 - val_loss: 0.4034 - val_accuracy: 0.8139 - 262ms/epoch - 827us/step\n",
      "Epoch 6/100\n",
      "317/317 - 0s - loss: 0.4255 - accuracy: 0.7957 - val_loss: 0.4019 - val_accuracy: 0.8097 - 267ms/epoch - 842us/step\n",
      "Epoch 7/100\n",
      "317/317 - 0s - loss: 0.4235 - accuracy: 0.8018 - val_loss: 0.4051 - val_accuracy: 0.8026 - 235ms/epoch - 743us/step\n",
      "Epoch 8/100\n",
      "317/317 - 0s - loss: 0.4213 - accuracy: 0.8007 - val_loss: 0.4014 - val_accuracy: 0.8097 - 238ms/epoch - 752us/step\n",
      "Epoch 9/100\n",
      "317/317 - 0s - loss: 0.4190 - accuracy: 0.7976 - val_loss: 0.4039 - val_accuracy: 0.8097 - 267ms/epoch - 842us/step\n",
      "Epoch 10/100\n",
      "317/317 - 0s - loss: 0.4172 - accuracy: 0.8006 - val_loss: 0.4008 - val_accuracy: 0.8068 - 264ms/epoch - 834us/step\n",
      "Epoch 11/100\n",
      "317/317 - 0s - loss: 0.4161 - accuracy: 0.8023 - val_loss: 0.4050 - val_accuracy: 0.8168 - 255ms/epoch - 805us/step\n",
      "Epoch 12/100\n",
      "317/317 - 0s - loss: 0.4152 - accuracy: 0.8007 - val_loss: 0.4019 - val_accuracy: 0.8040 - 241ms/epoch - 761us/step\n",
      "Epoch 13/100\n",
      "317/317 - 0s - loss: 0.4127 - accuracy: 0.8063 - val_loss: 0.4014 - val_accuracy: 0.8082 - 275ms/epoch - 867us/step\n",
      "Epoch 14/100\n",
      "317/317 - 0s - loss: 0.4158 - accuracy: 0.8029 - val_loss: 0.4011 - val_accuracy: 0.8139 - 275ms/epoch - 868us/step\n",
      "Epoch 15/100\n",
      "317/317 - 0s - loss: 0.4139 - accuracy: 0.8059 - val_loss: 0.4021 - val_accuracy: 0.8097 - 240ms/epoch - 757us/step\n",
      "Epoch 16/100\n",
      "317/317 - 0s - loss: 0.4108 - accuracy: 0.8042 - val_loss: 0.4015 - val_accuracy: 0.8068 - 264ms/epoch - 833us/step\n",
      "Epoch 17/100\n",
      "317/317 - 0s - loss: 0.4117 - accuracy: 0.8061 - val_loss: 0.4061 - val_accuracy: 0.8068 - 253ms/epoch - 798us/step\n",
      "Epoch 18/100\n",
      "317/317 - 0s - loss: 0.4117 - accuracy: 0.8075 - val_loss: 0.4016 - val_accuracy: 0.8040 - 273ms/epoch - 862us/step\n",
      "Epoch 19/100\n",
      "317/317 - 0s - loss: 0.4116 - accuracy: 0.8099 - val_loss: 0.4013 - val_accuracy: 0.8040 - 228ms/epoch - 718us/step\n",
      "Epoch 20/100\n",
      "317/317 - 0s - loss: 0.4101 - accuracy: 0.8067 - val_loss: 0.4014 - val_accuracy: 0.8040 - 240ms/epoch - 759us/step\n",
      "Epoch 21/100\n",
      "317/317 - 0s - loss: 0.4065 - accuracy: 0.8077 - val_loss: 0.4025 - val_accuracy: 0.8026 - 282ms/epoch - 890us/step\n",
      "Epoch 22/100\n",
      "317/317 - 0s - loss: 0.4071 - accuracy: 0.8083 - val_loss: 0.4037 - val_accuracy: 0.7997 - 255ms/epoch - 805us/step\n",
      "Epoch 23/100\n",
      "317/317 - 0s - loss: 0.4105 - accuracy: 0.8075 - val_loss: 0.4039 - val_accuracy: 0.8054 - 240ms/epoch - 758us/step\n",
      "Epoch 24/100\n",
      "317/317 - 0s - loss: 0.4060 - accuracy: 0.8107 - val_loss: 0.4064 - val_accuracy: 0.8026 - 257ms/epoch - 812us/step\n",
      "Epoch 25/100\n",
      "317/317 - 0s - loss: 0.4073 - accuracy: 0.8107 - val_loss: 0.4014 - val_accuracy: 0.8026 - 372ms/epoch - 1ms/step\n",
      "Epoch 26/100\n",
      "317/317 - 0s - loss: 0.4084 - accuracy: 0.8088 - val_loss: 0.4034 - val_accuracy: 0.8011 - 406ms/epoch - 1ms/step\n",
      "Epoch 27/100\n",
      "317/317 - 0s - loss: 0.4090 - accuracy: 0.8077 - val_loss: 0.4005 - val_accuracy: 0.8040 - 321ms/epoch - 1ms/step\n",
      "Epoch 28/100\n",
      "317/317 - 0s - loss: 0.4053 - accuracy: 0.8142 - val_loss: 0.4022 - val_accuracy: 0.8026 - 451ms/epoch - 1ms/step\n",
      "Epoch 29/100\n",
      "317/317 - 0s - loss: 0.4056 - accuracy: 0.8119 - val_loss: 0.4003 - val_accuracy: 0.8054 - 374ms/epoch - 1ms/step\n",
      "Epoch 30/100\n",
      "317/317 - 0s - loss: 0.4053 - accuracy: 0.8058 - val_loss: 0.3995 - val_accuracy: 0.8082 - 265ms/epoch - 835us/step\n",
      "Epoch 31/100\n",
      "317/317 - 0s - loss: 0.4050 - accuracy: 0.8036 - val_loss: 0.4068 - val_accuracy: 0.8125 - 246ms/epoch - 775us/step\n",
      "Epoch 32/100\n",
      "317/317 - 0s - loss: 0.4065 - accuracy: 0.8104 - val_loss: 0.4024 - val_accuracy: 0.8097 - 388ms/epoch - 1ms/step\n",
      "Epoch 33/100\n",
      "317/317 - 0s - loss: 0.4040 - accuracy: 0.8101 - val_loss: 0.4005 - val_accuracy: 0.8040 - 325ms/epoch - 1ms/step\n",
      "Epoch 34/100\n",
      "317/317 - 0s - loss: 0.4029 - accuracy: 0.8074 - val_loss: 0.3999 - val_accuracy: 0.7983 - 268ms/epoch - 845us/step\n",
      "Epoch 35/100\n",
      "317/317 - 0s - loss: 0.4026 - accuracy: 0.8108 - val_loss: 0.3978 - val_accuracy: 0.8068 - 259ms/epoch - 817us/step\n",
      "Epoch 36/100\n",
      "317/317 - 0s - loss: 0.4043 - accuracy: 0.8089 - val_loss: 0.3994 - val_accuracy: 0.8011 - 255ms/epoch - 804us/step\n",
      "Epoch 37/100\n",
      "317/317 - 0s - loss: 0.4006 - accuracy: 0.8064 - val_loss: 0.3993 - val_accuracy: 0.8026 - 250ms/epoch - 789us/step\n",
      "Epoch 38/100\n",
      "317/317 - 0s - loss: 0.4024 - accuracy: 0.8101 - val_loss: 0.4019 - val_accuracy: 0.8054 - 274ms/epoch - 864us/step\n",
      "Epoch 39/100\n",
      "317/317 - 0s - loss: 0.4027 - accuracy: 0.8083 - val_loss: 0.4007 - val_accuracy: 0.8054 - 243ms/epoch - 767us/step\n",
      "Epoch 40/100\n",
      "317/317 - 0s - loss: 0.4051 - accuracy: 0.8099 - val_loss: 0.3991 - val_accuracy: 0.8040 - 237ms/epoch - 749us/step\n",
      "Epoch 41/100\n",
      "317/317 - 0s - loss: 0.4042 - accuracy: 0.8080 - val_loss: 0.3988 - val_accuracy: 0.8040 - 274ms/epoch - 864us/step\n",
      "Epoch 42/100\n",
      "317/317 - 0s - loss: 0.4049 - accuracy: 0.8080 - val_loss: 0.4006 - val_accuracy: 0.8082 - 272ms/epoch - 859us/step\n",
      "Epoch 43/100\n",
      "317/317 - 0s - loss: 0.3997 - accuracy: 0.8113 - val_loss: 0.4036 - val_accuracy: 0.8040 - 407ms/epoch - 1ms/step\n",
      "Epoch 44/100\n",
      "317/317 - 0s - loss: 0.3991 - accuracy: 0.8105 - val_loss: 0.4026 - val_accuracy: 0.8040 - 285ms/epoch - 899us/step\n",
      "Epoch 45/100\n",
      "317/317 - 0s - loss: 0.4025 - accuracy: 0.8096 - val_loss: 0.3989 - val_accuracy: 0.8082 - 244ms/epoch - 770us/step\n",
      "Epoch 46/100\n",
      "317/317 - 0s - loss: 0.4048 - accuracy: 0.8075 - val_loss: 0.3991 - val_accuracy: 0.8026 - 277ms/epoch - 872us/step\n",
      "Epoch 47/100\n",
      "317/317 - 0s - loss: 0.4045 - accuracy: 0.8102 - val_loss: 0.3980 - val_accuracy: 0.8026 - 247ms/epoch - 780us/step\n",
      "Epoch 48/100\n",
      "317/317 - 0s - loss: 0.4024 - accuracy: 0.8102 - val_loss: 0.3985 - val_accuracy: 0.8026 - 255ms/epoch - 806us/step\n",
      "Epoch 49/100\n",
      "317/317 - 0s - loss: 0.4027 - accuracy: 0.8078 - val_loss: 0.3987 - val_accuracy: 0.8082 - 264ms/epoch - 834us/step\n",
      "Epoch 50/100\n",
      "317/317 - 0s - loss: 0.4027 - accuracy: 0.8091 - val_loss: 0.3986 - val_accuracy: 0.8054 - 296ms/epoch - 934us/step\n",
      "Epoch 51/100\n",
      "317/317 - 0s - loss: 0.4037 - accuracy: 0.8107 - val_loss: 0.3999 - val_accuracy: 0.8125 - 400ms/epoch - 1ms/step\n",
      "Epoch 52/100\n",
      "317/317 - 0s - loss: 0.4013 - accuracy: 0.8115 - val_loss: 0.4035 - val_accuracy: 0.8054 - 245ms/epoch - 773us/step\n",
      "Epoch 53/100\n",
      "317/317 - 0s - loss: 0.4003 - accuracy: 0.8113 - val_loss: 0.4005 - val_accuracy: 0.8054 - 255ms/epoch - 803us/step\n",
      "Epoch 54/100\n",
      "317/317 - 0s - loss: 0.3991 - accuracy: 0.8091 - val_loss: 0.4004 - val_accuracy: 0.8068 - 276ms/epoch - 872us/step\n",
      "Epoch 55/100\n",
      "317/317 - 0s - loss: 0.4048 - accuracy: 0.8085 - val_loss: 0.4054 - val_accuracy: 0.8082 - 422ms/epoch - 1ms/step\n",
      "Epoch 56/100\n",
      "317/317 - 0s - loss: 0.4012 - accuracy: 0.8083 - val_loss: 0.4012 - val_accuracy: 0.8026 - 250ms/epoch - 788us/step\n",
      "Epoch 57/100\n",
      "317/317 - 0s - loss: 0.4008 - accuracy: 0.8134 - val_loss: 0.4021 - val_accuracy: 0.8097 - 260ms/epoch - 822us/step\n",
      "Epoch 58/100\n",
      "317/317 - 0s - loss: 0.4008 - accuracy: 0.8094 - val_loss: 0.3969 - val_accuracy: 0.8068 - 259ms/epoch - 816us/step\n",
      "Epoch 59/100\n",
      "317/317 - 0s - loss: 0.3971 - accuracy: 0.8107 - val_loss: 0.4040 - val_accuracy: 0.8054 - 383ms/epoch - 1ms/step\n",
      "Epoch 60/100\n",
      "317/317 - 0s - loss: 0.3996 - accuracy: 0.8099 - val_loss: 0.3982 - val_accuracy: 0.8040 - 270ms/epoch - 853us/step\n",
      "Epoch 61/100\n",
      "317/317 - 0s - loss: 0.4011 - accuracy: 0.8113 - val_loss: 0.3990 - val_accuracy: 0.8054 - 253ms/epoch - 799us/step\n",
      "Epoch 62/100\n",
      "317/317 - 0s - loss: 0.3981 - accuracy: 0.8127 - val_loss: 0.4010 - val_accuracy: 0.8097 - 281ms/epoch - 886us/step\n",
      "Epoch 63/100\n",
      "317/317 - 0s - loss: 0.3987 - accuracy: 0.8105 - val_loss: 0.4014 - val_accuracy: 0.8068 - 248ms/epoch - 782us/step\n",
      "Epoch 64/100\n",
      "317/317 - 0s - loss: 0.3979 - accuracy: 0.8148 - val_loss: 0.4018 - val_accuracy: 0.7997 - 282ms/epoch - 891us/step\n",
      "Epoch 65/100\n",
      "317/317 - 0s - loss: 0.3955 - accuracy: 0.8121 - val_loss: 0.4040 - val_accuracy: 0.8111 - 227ms/epoch - 716us/step\n",
      "Epoch 66/100\n",
      "317/317 - 0s - loss: 0.3987 - accuracy: 0.8118 - val_loss: 0.4011 - val_accuracy: 0.8054 - 264ms/epoch - 832us/step\n",
      "Epoch 67/100\n",
      "317/317 - 0s - loss: 0.3968 - accuracy: 0.8094 - val_loss: 0.4004 - val_accuracy: 0.8054 - 268ms/epoch - 847us/step\n",
      "Epoch 68/100\n",
      "317/317 - 0s - loss: 0.3970 - accuracy: 0.8105 - val_loss: 0.4011 - val_accuracy: 0.8054 - 266ms/epoch - 838us/step\n",
      "Epoch 69/100\n",
      "317/317 - 0s - loss: 0.3983 - accuracy: 0.8108 - val_loss: 0.4006 - val_accuracy: 0.8011 - 260ms/epoch - 820us/step\n",
      "Epoch 70/100\n",
      "317/317 - 0s - loss: 0.3973 - accuracy: 0.8104 - val_loss: 0.4008 - val_accuracy: 0.8026 - 250ms/epoch - 790us/step\n",
      "Epoch 71/100\n",
      "317/317 - 0s - loss: 0.3981 - accuracy: 0.8115 - val_loss: 0.4100 - val_accuracy: 0.8068 - 309ms/epoch - 975us/step\n",
      "Epoch 72/100\n",
      "317/317 - 0s - loss: 0.3989 - accuracy: 0.8089 - val_loss: 0.4028 - val_accuracy: 0.8111 - 344ms/epoch - 1ms/step\n",
      "Epoch 73/100\n",
      "317/317 - 0s - loss: 0.3959 - accuracy: 0.8126 - val_loss: 0.4013 - val_accuracy: 0.8068 - 262ms/epoch - 826us/step\n",
      "Epoch 74/100\n",
      "317/317 - 0s - loss: 0.3934 - accuracy: 0.8162 - val_loss: 0.4004 - val_accuracy: 0.8068 - 263ms/epoch - 828us/step\n",
      "Epoch 75/100\n",
      "317/317 - 0s - loss: 0.3983 - accuracy: 0.8116 - val_loss: 0.4009 - val_accuracy: 0.8068 - 429ms/epoch - 1ms/step\n",
      "Epoch 76/100\n",
      "317/317 - 0s - loss: 0.3952 - accuracy: 0.8148 - val_loss: 0.4016 - val_accuracy: 0.8111 - 258ms/epoch - 815us/step\n",
      "Epoch 77/100\n",
      "317/317 - 0s - loss: 0.3992 - accuracy: 0.8108 - val_loss: 0.3997 - val_accuracy: 0.8111 - 254ms/epoch - 802us/step\n",
      "Epoch 78/100\n",
      "317/317 - 0s - loss: 0.3959 - accuracy: 0.8112 - val_loss: 0.4000 - val_accuracy: 0.8125 - 252ms/epoch - 796us/step\n",
      "Epoch 79/100\n",
      "317/317 - 0s - loss: 0.3951 - accuracy: 0.8157 - val_loss: 0.4007 - val_accuracy: 0.8082 - 261ms/epoch - 824us/step\n",
      "Epoch 80/100\n",
      "317/317 - 0s - loss: 0.4013 - accuracy: 0.8083 - val_loss: 0.4007 - val_accuracy: 0.8068 - 246ms/epoch - 777us/step\n",
      "Epoch 81/100\n",
      "317/317 - 0s - loss: 0.3987 - accuracy: 0.8105 - val_loss: 0.4015 - val_accuracy: 0.8182 - 266ms/epoch - 840us/step\n",
      "Epoch 82/100\n",
      "317/317 - 0s - loss: 0.3987 - accuracy: 0.8110 - val_loss: 0.4006 - val_accuracy: 0.8097 - 303ms/epoch - 955us/step\n",
      "Epoch 83/100\n",
      "317/317 - 0s - loss: 0.3950 - accuracy: 0.8124 - val_loss: 0.4029 - val_accuracy: 0.8097 - 310ms/epoch - 979us/step\n",
      "Epoch 84/100\n",
      "317/317 - 0s - loss: 0.3979 - accuracy: 0.8134 - val_loss: 0.4009 - val_accuracy: 0.8097 - 225ms/epoch - 709us/step\n",
      "Epoch 85/100\n",
      "317/317 - 0s - loss: 0.3962 - accuracy: 0.8168 - val_loss: 0.4014 - val_accuracy: 0.8111 - 332ms/epoch - 1ms/step\n",
      "Epoch 86/100\n",
      "317/317 - 0s - loss: 0.3970 - accuracy: 0.8085 - val_loss: 0.4031 - val_accuracy: 0.8068 - 317ms/epoch - 1000us/step\n",
      "Epoch 87/100\n",
      "317/317 - 0s - loss: 0.4014 - accuracy: 0.8096 - val_loss: 0.4043 - val_accuracy: 0.8097 - 244ms/epoch - 769us/step\n",
      "Epoch 88/100\n",
      "317/317 - 0s - loss: 0.3964 - accuracy: 0.8107 - val_loss: 0.4022 - val_accuracy: 0.8125 - 408ms/epoch - 1ms/step\n",
      "Epoch 89/100\n",
      "317/317 - 0s - loss: 0.3973 - accuracy: 0.8140 - val_loss: 0.4014 - val_accuracy: 0.8111 - 239ms/epoch - 753us/step\n",
      "Epoch 90/100\n",
      "317/317 - 0s - loss: 0.3954 - accuracy: 0.8154 - val_loss: 0.4076 - val_accuracy: 0.8125 - 302ms/epoch - 952us/step\n",
      "Epoch 91/100\n",
      "317/317 - 0s - loss: 0.3936 - accuracy: 0.8115 - val_loss: 0.4018 - val_accuracy: 0.8068 - 289ms/epoch - 911us/step\n",
      "Epoch 92/100\n",
      "317/317 - 0s - loss: 0.3936 - accuracy: 0.8156 - val_loss: 0.4018 - val_accuracy: 0.8168 - 296ms/epoch - 933us/step\n",
      "Epoch 93/100\n",
      "317/317 - 0s - loss: 0.3945 - accuracy: 0.8134 - val_loss: 0.4028 - val_accuracy: 0.8011 - 296ms/epoch - 933us/step\n",
      "Epoch 94/100\n",
      "317/317 - 0s - loss: 0.3983 - accuracy: 0.8132 - val_loss: 0.4041 - val_accuracy: 0.8139 - 317ms/epoch - 1000us/step\n",
      "Epoch 95/100\n",
      "317/317 - 0s - loss: 0.3957 - accuracy: 0.8149 - val_loss: 0.4021 - val_accuracy: 0.8040 - 404ms/epoch - 1ms/step\n",
      "Epoch 96/100\n",
      "317/317 - 0s - loss: 0.3937 - accuracy: 0.8101 - val_loss: 0.4077 - val_accuracy: 0.8125 - 331ms/epoch - 1ms/step\n",
      "Epoch 97/100\n",
      "317/317 - 0s - loss: 0.3985 - accuracy: 0.8131 - val_loss: 0.4032 - val_accuracy: 0.8153 - 398ms/epoch - 1ms/step\n",
      "Epoch 98/100\n",
      "317/317 - 0s - loss: 0.3974 - accuracy: 0.8115 - val_loss: 0.4029 - val_accuracy: 0.8040 - 318ms/epoch - 1ms/step\n",
      "Epoch 99/100\n",
      "317/317 - 0s - loss: 0.3977 - accuracy: 0.8135 - val_loss: 0.4027 - val_accuracy: 0.8054 - 293ms/epoch - 924us/step\n",
      "Epoch 100/100\n",
      "317/317 - 0s - loss: 0.3928 - accuracy: 0.8127 - val_loss: 0.4043 - val_accuracy: 0.8011 - 290ms/epoch - 915us/step\n"
     ]
    }
   ],
   "source": [
    "# Model Training\n",
    "_X = X.to_numpy()\n",
    "_y = y.to_numpy()\n",
    "accuracy = []\n",
    "val_accuracy = []\n",
    "loss = []\n",
    "val_loss = []\n",
    "counter = 0\n",
    "times = 1 # cross validation folds\n",
    "\n",
    "for train_index, test_index in cv.split(X):\n",
    "    if counter < times:\n",
    "        print(f\"\\nCross Validation Training K={counter}\\n\")\n",
    "        # Train Test split based on K fold Cross Validation split\n",
    "        X_train, X_test = _X[train_index], _X[test_index]\n",
    "        y_train, y_test = _y[train_index], _y[test_index]\n",
    "\n",
    "        # Define the model\n",
    "        model = keras.Sequential([\n",
    "            #keras.layers.Dense(10, activation='relu'),\n",
    "            #keras.layers.Dense(15, activation='relu'),\n",
    "            #keras.layers.Dense(21, activation='relu'),\n",
    "            keras.layers.Dense(16, input_shape=(X.shape[1],), activation='relu'),\n",
    "            keras.layers.Dropout(0.3),\n",
    "            #keras.layers.Dense(46, activation='relu'),\n",
    "            keras.layers.Dense(1, activation='sigmoid')\n",
    "        ])\n",
    "\n",
    "        # Compile\n",
    "        model.compile(optimizer='adam',\n",
    "                     loss='binary_crossentropy',\n",
    "                     metrics=['accuracy'])\n",
    "\n",
    "        # Fit the training data\n",
    "        # history = model.fit(X_train, y_train, batch_size=4, epochs=100, verbose=2)\n",
    "        # history = model.fit(X_train, y_train, batch_size=8, epochs=100, verbose=2)\n",
    "        history = model.fit(X_train, y_train, validation_data=(X_test, y_test), batch_size=20, epochs=100, verbose=2)\n",
    "        # history = model.fit(X_train, y_train, batch_size=32, epochs=100, verbose=2)\n",
    "        # history = model.fit(X_train, y_train, batch_size=64, epochs=100, verbose=2)\n",
    "        # history = model.fit(X_train, y_train, batch_size=128, epochs=100, verbose=2)\n",
    "\n",
    "        # Model prediction for test data\n",
    "        y_pred = np.rint(model.predict(X_test))\n",
    "\n",
    "        # storing in lists\n",
    "        y_pred_arr.extend(y_pred)\n",
    "        y_true_arr.extend(y_test)\n",
    "        \n",
    "        # Accuracy\n",
    "        accuracy.append(history.history['accuracy'])\n",
    "        val_accuracy.append(history.history['val_accuracy'])\n",
    "        \n",
    "        # Loss\n",
    "        loss.append(history.history['loss'])\n",
    "        val_loss.append(history.history['val_loss'])\n",
    "\n",
    "        # Increase counter\n",
    "        counter += 1"
   ]
  },
  {
   "cell_type": "markdown",
   "metadata": {},
   "source": [
    "### Model Evaluation"
   ]
  },
  {
   "cell_type": "code",
   "execution_count": 60,
   "metadata": {},
   "outputs": [
    {
     "name": "stdout",
     "output_type": "stream",
     "text": [
      "Training Accuracy: 0.8074051785469055\n",
      "Validation Accuracy: 0.8066335213184357\n",
      "\n",
      "              precision    recall  f1-score   support\n",
      "\n",
      "           0       0.86      0.90      0.88      2136\n",
      "           1       0.62      0.53      0.57       680\n",
      "\n",
      "    accuracy                           0.81      2816\n",
      "   macro avg       0.74      0.71      0.72      2816\n",
      "weighted avg       0.80      0.81      0.80      2816\n",
      "\n"
     ]
    }
   ],
   "source": [
    "# Accuracy\n",
    "print(f\"Training Accuracy: {sum([sum(accuracy[k]) / len(accuracy[k]) for k in range(len(accuracy))]) / len(accuracy)}\")\n",
    "print(f\"Validation Accuracy: {sum([sum(val_accuracy[k]) / len(val_accuracy[k]) for k in range(len(val_accuracy))]) / len(val_accuracy)}\\n\")\n",
    "\n",
    "# classification Report\n",
    "print(classification_report(y_true_arr, y_pred_arr))"
   ]
  },
  {
   "cell_type": "code",
   "execution_count": 52,
   "metadata": {},
   "outputs": [
    {
     "data": {
      "image/png": "[encoded data removed]",
      "text/plain": [
       "<Figure size 640x480 with 1 Axes>"
      ]
     },
     "metadata": {},
     "output_type": "display_data"
    }
   ],
   "source": [
    "draw_graph(loss, \"Training Loss\")"
   ]
  },
  {
   "cell_type": "code",
   "execution_count": 53,
   "metadata": {},
   "outputs": [
    {
     "data": {
      "image/png": "[encoded data removed]",
      "text/plain": [
       "<Figure size 640x480 with 1 Axes>"
      ]
     },
     "metadata": {},
     "output_type": "display_data"
    }
   ],
   "source": [
    "draw_graph(val_loss, \"Validation Loss\")"
   ]
  },
  {
   "cell_type": "code",
   "execution_count": 54,
   "metadata": {},
   "outputs": [
    {
     "data": {
      "image/png": "[encoded data removed]",
      "text/plain": [
       "<Figure size 640x480 with 1 Axes>"
      ]
     },
     "metadata": {},
     "output_type": "display_data"
    }
   ],
   "source": [
    "draw_graph(accuracy, \"Training Accuracy\")"
   ]
  },
  {
   "cell_type": "code",
   "execution_count": 55,
   "metadata": {},
   "outputs": [
    {
     "data": {
      "image/png": "[encoded data removed]",
      "text/plain": [
       "<Figure size 640x480 with 1 Axes>"
      ]
     },
     "metadata": {},
     "output_type": "display_data"
    }
   ],
   "source": [
    "draw_graph(val_accuracy, \"Validation Accuracy\")"
   ]
  },
  {
   "cell_type": "code",
   "execution_count": 26,
   "metadata": {},
   "outputs": [],
   "source": [
    "reset() # Reset the Global arrays"
   ]
  }
 ],
 "metadata": {
  "kernelspec": {
   "display_name": "Python 3 (ipykernel)",
   "language": "python",
   "name": "python3"
  },
  "language_info": {
   "codemirror_mode": {
    "name": "ipython",
    "version": 3
   },
   "file_extension": ".py",
   "mimetype": "text/x-python",
   "name": "python",
   "nbconvert_exporter": "python",
   "pygments_lexer": "ipython3",
   "version": "3.8.8"
  }
 },
 "nbformat": 4,
 "nbformat_minor": 4
}
